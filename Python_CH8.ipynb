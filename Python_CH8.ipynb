{
 "cells": [
  {
   "cell_type": "markdown",
   "id": "4ecd6a1e",
   "metadata": {},
   "source": [
    "# Chapter 8: Sets"
   ]
  },
  {
   "cell_type": "markdown",
   "id": "23e4fe1a",
   "metadata": {},
   "source": [
    "A Set is an unordered collection data type that is iterable, mutable and has no duplicate elements."
   ]
  },
  {
   "cell_type": "code",
   "execution_count": 1,
   "id": "660609a2",
   "metadata": {},
   "outputs": [
    {
     "data": {
      "text/plain": [
       "({1, 2, 3, 45}, set)"
      ]
     },
     "execution_count": 1,
     "metadata": {},
     "output_type": "execute_result"
    }
   ],
   "source": [
    "new_set = set([1,2,3,45])\n",
    "new_set, type(new_set)"
   ]
  },
  {
   "cell_type": "code",
   "execution_count": 21,
   "id": "64c5470c",
   "metadata": {},
   "outputs": [
    {
     "data": {
      "text/plain": [
       "[1, 2, 3, 45]"
      ]
     },
     "execution_count": 21,
     "metadata": {},
     "output_type": "execute_result"
    }
   ],
   "source": [
    "[1,2,3,45]"
   ]
  },
  {
   "cell_type": "code",
   "execution_count": 2,
   "id": "8f3c5fe2",
   "metadata": {},
   "outputs": [
    {
     "name": "stdout",
     "output_type": "stream",
     "text": [
      "[1, 2, 2, 2, 3, 4, 5, 2, 3]\n",
      "Length =  9\n"
     ]
    }
   ],
   "source": [
    "lst = list([1,2,2,2,3,4,5,2,3])\n",
    "print(lst)\n",
    "print('Length = ', len(lst))"
   ]
  },
  {
   "cell_type": "code",
   "execution_count": 3,
   "id": "870b058a",
   "metadata": {},
   "outputs": [
    {
     "name": "stdout",
     "output_type": "stream",
     "text": [
      "{1, 2, 3, 4, 5}\n",
      "Length =  5\n"
     ]
    }
   ],
   "source": [
    "set1 = set(lst)\n",
    "print(set1)\n",
    "print('Length = ', len(set1))"
   ]
  },
  {
   "cell_type": "code",
   "execution_count": 4,
   "id": "c2fb5df3",
   "metadata": {},
   "outputs": [
    {
     "data": {
      "text/plain": [
       "['__and__',\n",
       " '__class__',\n",
       " '__class_getitem__',\n",
       " '__contains__',\n",
       " '__delattr__',\n",
       " '__dir__',\n",
       " '__doc__',\n",
       " '__eq__',\n",
       " '__format__',\n",
       " '__ge__',\n",
       " '__getattribute__',\n",
       " '__gt__',\n",
       " '__hash__',\n",
       " '__iand__',\n",
       " '__init__',\n",
       " '__init_subclass__',\n",
       " '__ior__',\n",
       " '__isub__',\n",
       " '__iter__',\n",
       " '__ixor__',\n",
       " '__le__',\n",
       " '__len__',\n",
       " '__lt__',\n",
       " '__ne__',\n",
       " '__new__',\n",
       " '__or__',\n",
       " '__rand__',\n",
       " '__reduce__',\n",
       " '__reduce_ex__',\n",
       " '__repr__',\n",
       " '__ror__',\n",
       " '__rsub__',\n",
       " '__rxor__',\n",
       " '__setattr__',\n",
       " '__sizeof__',\n",
       " '__str__',\n",
       " '__sub__',\n",
       " '__subclasshook__',\n",
       " '__xor__',\n",
       " 'add',\n",
       " 'clear',\n",
       " 'copy',\n",
       " 'difference',\n",
       " 'difference_update',\n",
       " 'discard',\n",
       " 'intersection',\n",
       " 'intersection_update',\n",
       " 'isdisjoint',\n",
       " 'issubset',\n",
       " 'issuperset',\n",
       " 'pop',\n",
       " 'remove',\n",
       " 'symmetric_difference',\n",
       " 'symmetric_difference_update',\n",
       " 'union',\n",
       " 'update']"
      ]
     },
     "execution_count": 4,
     "metadata": {},
     "output_type": "execute_result"
    }
   ],
   "source": [
    "dir(set1)"
   ]
  },
  {
   "cell_type": "code",
   "execution_count": 7,
   "id": "77590e9d",
   "metadata": {},
   "outputs": [
    {
     "name": "stdout",
     "output_type": "stream",
     "text": [
      "Help on built-in function update:\n",
      "\n",
      "update(...) method of builtins.set instance\n",
      "    Update a set with the union of itself and others.\n",
      "\n"
     ]
    }
   ],
   "source": [
    "help(set1.update)"
   ]
  },
  {
   "cell_type": "code",
   "execution_count": null,
   "id": "e62ad539",
   "metadata": {},
   "outputs": [],
   "source": []
  },
  {
   "cell_type": "code",
   "execution_count": 26,
   "id": "571b5ecf",
   "metadata": {},
   "outputs": [
    {
     "name": "stdout",
     "output_type": "stream",
     "text": [
      "False\n"
     ]
    }
   ],
   "source": [
    "A = {1, 2, 3}\n",
    "B = {4, 5, 6, 3}\n",
    "\n",
    "# checks if set A and set B are disjoint\n",
    "print(A.isdisjoint(B))"
   ]
  },
  {
   "cell_type": "code",
   "execution_count": 25,
   "id": "30098c68",
   "metadata": {},
   "outputs": [
    {
     "data": {
      "text/plain": [
       "{1, 2, 3, 4, 5, 45}"
      ]
     },
     "execution_count": 25,
     "metadata": {},
     "output_type": "execute_result"
    }
   ],
   "source": [
    "set1.add(45)\n",
    "set1"
   ]
  },
  {
   "cell_type": "code",
   "execution_count": 16,
   "id": "f7d1cdf3",
   "metadata": {},
   "outputs": [
    {
     "data": {
      "text/plain": [
       "{1, 2, 3, 4, 5}"
      ]
     },
     "execution_count": 16,
     "metadata": {},
     "output_type": "execute_result"
    }
   ],
   "source": [
    "set1.discard(45)\n",
    "set1"
   ]
  },
  {
   "cell_type": "code",
   "execution_count": 18,
   "id": "78973f01",
   "metadata": {},
   "outputs": [],
   "source": [
    "# set1.clear()\n",
    "# set1"
   ]
  },
  {
   "cell_type": "code",
   "execution_count": 19,
   "id": "ce23cc3f",
   "metadata": {},
   "outputs": [],
   "source": [
    "set1 = set(lst)"
   ]
  },
  {
   "cell_type": "code",
   "execution_count": 8,
   "id": "4f5fe452",
   "metadata": {},
   "outputs": [
    {
     "name": "stdout",
     "output_type": "stream",
     "text": [
      "Help on built-in function union:\n",
      "\n",
      "union(...) method of builtins.set instance\n",
      "    Return the union of sets as a new set.\n",
      "    \n",
      "    (i.e. all elements that are in either set.)\n",
      "\n"
     ]
    }
   ],
   "source": [
    "help(set1.union)"
   ]
  },
  {
   "cell_type": "code",
   "execution_count": 20,
   "id": "8753b681",
   "metadata": {},
   "outputs": [
    {
     "data": {
      "text/plain": [
       "{1, 2, 3, 4, 5, 77, 88, 99}"
      ]
     },
     "execution_count": 20,
     "metadata": {},
     "output_type": "execute_result"
    }
   ],
   "source": [
    "set2 = set([99,88,77])\n",
    "set1.union(set2)"
   ]
  },
  {
   "cell_type": "code",
   "execution_count": 30,
   "id": "1354653d",
   "metadata": {},
   "outputs": [],
   "source": [
    "dic1 = dict()\n",
    "lst = list()\n",
    "set1 = set()\n",
    "tpl = tuple()"
   ]
  },
  {
   "cell_type": "code",
   "execution_count": 31,
   "id": "afff78aa",
   "metadata": {},
   "outputs": [
    {
     "data": {
      "text/plain": [
       "({}, [], set(), ())"
      ]
     },
     "execution_count": 31,
     "metadata": {},
     "output_type": "execute_result"
    }
   ],
   "source": [
    "dic1, lst, set1, tpl"
   ]
  },
  {
   "cell_type": "code",
   "execution_count": null,
   "id": "e6e41ee0",
   "metadata": {},
   "outputs": [],
   "source": []
  },
  {
   "cell_type": "code",
   "execution_count": 9,
   "id": "4d65be41",
   "metadata": {},
   "outputs": [
    {
     "data": {
      "text/plain": [
       "frozenset({'e', 'f', 'g'})"
      ]
     },
     "execution_count": 9,
     "metadata": {},
     "output_type": "execute_result"
    }
   ],
   "source": [
    "frozen_set = frozenset([\"e\", \"f\", \"g\"])\n",
    "frozen_set"
   ]
  },
  {
   "cell_type": "code",
   "execution_count": 10,
   "id": "02930d68",
   "metadata": {},
   "outputs": [
    {
     "ename": "AttributeError",
     "evalue": "'frozenset' object has no attribute 'add'",
     "output_type": "error",
     "traceback": [
      "\u001b[0;31m---------------------------------------------------------------------------\u001b[0m",
      "\u001b[0;31mAttributeError\u001b[0m                            Traceback (most recent call last)",
      "Input \u001b[0;32mIn [10]\u001b[0m, in \u001b[0;36m<module>\u001b[0;34m\u001b[0m\n\u001b[0;32m----> 1\u001b[0m \u001b[43mfrozen_set\u001b[49m\u001b[38;5;241;43m.\u001b[39;49m\u001b[43madd\u001b[49m(\u001b[38;5;124m'\u001b[39m\u001b[38;5;124mw\u001b[39m\u001b[38;5;124m'\u001b[39m)\n",
      "\u001b[0;31mAttributeError\u001b[0m: 'frozenset' object has no attribute 'add'"
     ]
    }
   ],
   "source": [
    "frozen_set.add('w')"
   ]
  },
  {
   "cell_type": "code",
   "execution_count": 11,
   "id": "c014c75b",
   "metadata": {},
   "outputs": [
    {
     "name": "stdout",
     "output_type": "stream",
     "text": [
      "frozenset({1, 2, 3, 4, 5, 'g', 45, 'f', 'e'})\n",
      "<class 'frozenset'>\n"
     ]
    }
   ],
   "source": [
    "set3 = frozen_set.union(set1)\n",
    "print(set3)\n",
    "print(type(set3))"
   ]
  },
  {
   "cell_type": "code",
   "execution_count": 12,
   "id": "ad5f9d41",
   "metadata": {},
   "outputs": [
    {
     "name": "stdout",
     "output_type": "stream",
     "text": [
      "{1, 2, 3, 4, 5, 'g', 45, 'f', 'e'}\n",
      "<class 'set'>\n"
     ]
    }
   ],
   "source": [
    "set4 = set1.union(frozen_set)\n",
    "print(set4)\n",
    "print(type(set4))"
   ]
  },
  {
   "cell_type": "markdown",
   "id": "5e8b70b5",
   "metadata": {},
   "source": [
    "Operators|                           Notes\n",
    "------------|-----------------------------------\n",
    "key in s     |                    containment check\n",
    "key not in s|\tnon-containment check\n",
    "s1 == s2|\ts1 is equivalent to s2\n",
    "s1 != s2|\ts1 is not equivalent to s2\n",
    "s1 <= s2|\ts1 is subset of s2\n",
    "s1 < s2\t| s1 is proper subset of s2\n",
    "s1 >= s2\t| s1 is superset of s2\n",
    "s1 > s2\t|  s1 is proper superset of s2\n",
    "s1 \\| s2\t|  the union of s1 and s2\n",
    "s1 & s2\t| the intersection of s1 and s2\n",
    "s1 – s2\t|  the set of elements in s1 but not s2\n",
    "s1 ˆ s2\t|  the set of elements in precisely one of s1 or s2"
   ]
  },
  {
   "cell_type": "code",
   "execution_count": null,
   "id": "08b3b90d",
   "metadata": {},
   "outputs": [],
   "source": []
  }
 ],
 "metadata": {
  "kernelspec": {
   "display_name": "Python 3 (ipykernel)",
   "language": "python",
   "name": "python3"
  },
  "language_info": {
   "codemirror_mode": {
    "name": "ipython",
    "version": 3
   },
   "file_extension": ".py",
   "mimetype": "text/x-python",
   "name": "python",
   "nbconvert_exporter": "python",
   "pygments_lexer": "ipython3",
   "version": "3.9.6"
  }
 },
 "nbformat": 4,
 "nbformat_minor": 5
}
