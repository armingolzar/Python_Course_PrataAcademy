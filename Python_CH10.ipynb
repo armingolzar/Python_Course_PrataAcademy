{
 "cells": [
  {
   "cell_type": "markdown",
   "id": "097f6876",
   "metadata": {},
   "source": [
    "# Chapter 10: Tuples"
   ]
  },
  {
   "cell_type": "markdown",
   "id": "48fdc058",
   "metadata": {},
   "source": [
    "### Tuples are immutable"
   ]
  },
  {
   "cell_type": "markdown",
   "id": "351c0dc5",
   "metadata": {},
   "source": [
    "A tuple is a sequence of values much like a list. The values stored in a tuple can be **any type**, and they are **indexed by integers**."
   ]
  },
  {
   "cell_type": "code",
   "execution_count": 1,
   "id": "de937861",
   "metadata": {},
   "outputs": [
    {
     "data": {
      "text/plain": [
       "tuple"
      ]
     },
     "execution_count": 1,
     "metadata": {},
     "output_type": "execute_result"
    }
   ],
   "source": [
    "tp1 = 'a', 'b', 'c', 'd', 'e'\n",
    "type(tp1)"
   ]
  },
  {
   "cell_type": "code",
   "execution_count": 3,
   "id": "a722e8a3",
   "metadata": {},
   "outputs": [
    {
     "data": {
      "text/plain": [
       "tuple"
      ]
     },
     "execution_count": 3,
     "metadata": {},
     "output_type": "execute_result"
    }
   ],
   "source": [
    "tp2 = ('a', 'b', 'c', 'd', 'e')\n",
    "type(tp2)"
   ]
  },
  {
   "cell_type": "code",
   "execution_count": 4,
   "id": "b2ac77fb",
   "metadata": {},
   "outputs": [
    {
     "data": {
      "text/plain": [
       "False"
      ]
     },
     "execution_count": 4,
     "metadata": {},
     "output_type": "execute_result"
    }
   ],
   "source": [
    "tp1 is tp2"
   ]
  },
  {
   "cell_type": "code",
   "execution_count": 5,
   "id": "fb936ace",
   "metadata": {},
   "outputs": [
    {
     "data": {
      "text/plain": [
       "str"
      ]
     },
     "execution_count": 5,
     "metadata": {},
     "output_type": "execute_result"
    }
   ],
   "source": [
    "# Without the comma Python treats ('a') as an expression with a string in parentheses that evaluates to a string:\n",
    "st = ('Amin')\n",
    "type(st)"
   ]
  },
  {
   "cell_type": "code",
   "execution_count": 6,
   "id": "52a92bdf",
   "metadata": {},
   "outputs": [
    {
     "data": {
      "text/plain": [
       "()"
      ]
     },
     "execution_count": 6,
     "metadata": {},
     "output_type": "execute_result"
    }
   ],
   "source": [
    "# empty tuple\n",
    "empty_tuple = tuple()\n",
    "empty_tuple"
   ]
  },
  {
   "cell_type": "code",
   "execution_count": 7,
   "id": "c4e0b0ca",
   "metadata": {},
   "outputs": [
    {
     "data": {
      "text/plain": [
       "['__add__',\n",
       " '__class__',\n",
       " '__class_getitem__',\n",
       " '__contains__',\n",
       " '__delattr__',\n",
       " '__dir__',\n",
       " '__doc__',\n",
       " '__eq__',\n",
       " '__format__',\n",
       " '__ge__',\n",
       " '__getattribute__',\n",
       " '__getitem__',\n",
       " '__getnewargs__',\n",
       " '__gt__',\n",
       " '__hash__',\n",
       " '__init__',\n",
       " '__init_subclass__',\n",
       " '__iter__',\n",
       " '__le__',\n",
       " '__len__',\n",
       " '__lt__',\n",
       " '__mul__',\n",
       " '__ne__',\n",
       " '__new__',\n",
       " '__reduce__',\n",
       " '__reduce_ex__',\n",
       " '__repr__',\n",
       " '__rmul__',\n",
       " '__setattr__',\n",
       " '__sizeof__',\n",
       " '__str__',\n",
       " '__subclasshook__',\n",
       " 'count',\n",
       " 'index']"
      ]
     },
     "execution_count": 7,
     "metadata": {},
     "output_type": "execute_result"
    }
   ],
   "source": [
    "dir(tp1)"
   ]
  },
  {
   "cell_type": "code",
   "execution_count": 8,
   "id": "3564a7f2",
   "metadata": {},
   "outputs": [
    {
     "data": {
      "text/plain": [
       "3"
      ]
     },
     "execution_count": 8,
     "metadata": {},
     "output_type": "execute_result"
    }
   ],
   "source": [
    "tpl = ('a','b','c','a','a')\n",
    "tpl\n",
    "tpl.count('a')"
   ]
  },
  {
   "cell_type": "code",
   "execution_count": 9,
   "id": "6317cc0d",
   "metadata": {},
   "outputs": [
    {
     "name": "stdout",
     "output_type": "stream",
     "text": [
      "Help on built-in function index:\n",
      "\n",
      "index(value, start=0, stop=9223372036854775807, /) method of builtins.tuple instance\n",
      "    Return first index of value.\n",
      "    \n",
      "    Raises ValueError if the value is not present.\n",
      "\n"
     ]
    }
   ],
   "source": [
    "help(tp1.index)"
   ]
  },
  {
   "cell_type": "code",
   "execution_count": 10,
   "id": "226a129f",
   "metadata": {},
   "outputs": [
    {
     "data": {
      "text/plain": [
       "('H', 'e', 'l', 'l', 'o', ' ', 'W', 'o', 'r', 'l', 'd', '!')"
      ]
     },
     "execution_count": 10,
     "metadata": {},
     "output_type": "execute_result"
    }
   ],
   "source": [
    "# If the argument is a sequence (string, list, or tuple), \n",
    "# the result of the call to tuple is a tuple with the elements of the sequence:\n",
    "new_tuple = tuple('Hello World!')\n",
    "new_tuple"
   ]
  },
  {
   "cell_type": "code",
   "execution_count": 11,
   "id": "499d08df",
   "metadata": {},
   "outputs": [
    {
     "data": {
      "text/plain": [
       "3"
      ]
     },
     "execution_count": 11,
     "metadata": {},
     "output_type": "execute_result"
    }
   ],
   "source": [
    "new_tuple.count('l')"
   ]
  },
  {
   "cell_type": "code",
   "execution_count": 18,
   "id": "a7f5c5ab",
   "metadata": {},
   "outputs": [
    {
     "data": {
      "text/plain": [
       "7"
      ]
     },
     "execution_count": 18,
     "metadata": {},
     "output_type": "execute_result"
    }
   ],
   "source": [
    "new_tuple.index('o',5)"
   ]
  },
  {
   "cell_type": "code",
   "execution_count": 13,
   "id": "38fbd67a",
   "metadata": {},
   "outputs": [
    {
     "ename": "TypeError",
     "evalue": "'tuple' object does not support item assignment",
     "output_type": "error",
     "traceback": [
      "\u001b[0;31m---------------------------------------------------------------------------\u001b[0m",
      "\u001b[0;31mTypeError\u001b[0m                                 Traceback (most recent call last)",
      "Cell \u001b[0;32mIn[13], line 1\u001b[0m\n\u001b[0;32m----> 1\u001b[0m new_tuple[\u001b[38;5;241m0\u001b[39m] \u001b[38;5;241m=\u001b[39m \u001b[38;5;124m'\u001b[39m\u001b[38;5;124mAmin\u001b[39m\u001b[38;5;124m'\u001b[39m\n",
      "\u001b[0;31mTypeError\u001b[0m: 'tuple' object does not support item assignment"
     ]
    }
   ],
   "source": [
    "new_tuple[0] = 'Amin'"
   ]
  },
  {
   "cell_type": "code",
   "execution_count": 19,
   "id": "842ce33f",
   "metadata": {},
   "outputs": [
    {
     "name": "stdout",
     "output_type": "stream",
     "text": [
      "new string is assigned\n",
      "type is:  <class 'str'>\n"
     ]
    }
   ],
   "source": [
    "new_tuple = 'new string is assigned'\n",
    "print(new_tuple)\n",
    "print('type is: ', type(new_tuple))"
   ]
  },
  {
   "cell_type": "code",
   "execution_count": 20,
   "id": "0eb6d098",
   "metadata": {},
   "outputs": [
    {
     "name": "stdout",
     "output_type": "stream",
     "text": [
      "('n', 'e', 'w', ' ', 's', 't', 'r', 'i', 'n', 'g', ' ', 'i', 's', ' ', 'a', 's', 's', 'i', 'g', 'n', 'e', 'd')\n",
      "type:  <class 'tuple'>\n"
     ]
    }
   ],
   "source": [
    "new_tuple = tuple('new string is assigned')\n",
    "print(new_tuple)\n",
    "print('type: ', type(new_tuple))"
   ]
  },
  {
   "cell_type": "markdown",
   "id": "5888234a",
   "metadata": {},
   "source": [
    "## Comparing tuples"
   ]
  },
  {
   "cell_type": "markdown",
   "id": "e758b319",
   "metadata": {},
   "source": [
    "The comparison operators work with tuples and other sequences. Python starts by comparing the first element from each sequence. If they are equal, it goes on to the next element, and so on, until it finds elements that differ. Subsequent elements are not considered (even if they are really big)."
   ]
  },
  {
   "cell_type": "code",
   "execution_count": 21,
   "id": "3d117b4c",
   "metadata": {},
   "outputs": [
    {
     "name": "stdout",
     "output_type": "stream",
     "text": [
      "True\n",
      "False\n",
      "False\n"
     ]
    }
   ],
   "source": [
    "print((0, 1, 2) < (0, 3, 4))\n",
    "print((0, 5, 0) < (0, 3, 4))\n",
    "print((0, 1, 2000000) < (0, 1))"
   ]
  },
  {
   "cell_type": "markdown",
   "id": "7ea4f5b8",
   "metadata": {},
   "source": [
    "### IMPORTANT POINT"
   ]
  },
  {
   "cell_type": "code",
   "execution_count": 24,
   "id": "f937fc8e",
   "metadata": {},
   "outputs": [
    {
     "name": "stdout",
     "output_type": "stream",
     "text": [
      "Amin\n",
      "Oroji\n",
      "Armin \n"
     ]
    }
   ],
   "source": [
    "### IMPORTANT POINT\n",
    "m =  ('Amin', 'Oroji', 'Armin ')\n",
    "x, y, z = m\n",
    "print(x)\n",
    "print(y)\n",
    "print(z)"
   ]
  },
  {
   "cell_type": "code",
   "execution_count": 25,
   "id": "eb868cb5",
   "metadata": {},
   "outputs": [
    {
     "name": "stdout",
     "output_type": "stream",
     "text": [
      "<class 'str'> <class 'tuple'>\n"
     ]
    }
   ],
   "source": [
    "print(type(x), type(m))"
   ]
  },
  {
   "cell_type": "markdown",
   "id": "b0192f26",
   "metadata": {},
   "source": [
    "The same as lists, it means:\n",
    "\n",
    "x = m[0] and y = m[1]\n",
    "\n"
   ]
  },
  {
   "cell_type": "code",
   "execution_count": 26,
   "id": "6e89faf3",
   "metadata": {},
   "outputs": [
    {
     "ename": "ValueError",
     "evalue": "too many values to unpack (expected 2)",
     "output_type": "error",
     "traceback": [
      "\u001b[0;31m---------------------------------------------------------------------------\u001b[0m",
      "\u001b[0;31mValueError\u001b[0m                                Traceback (most recent call last)",
      "Cell \u001b[0;32mIn[26], line 1\u001b[0m\n\u001b[0;32m----> 1\u001b[0m a, b \u001b[38;5;241m=\u001b[39m \u001b[38;5;241m1\u001b[39m, \u001b[38;5;241m2\u001b[39m, \u001b[38;5;241m3\u001b[39m\n",
      "\u001b[0;31mValueError\u001b[0m: too many values to unpack (expected 2)"
     ]
    }
   ],
   "source": [
    "a, b = 1, 2, 3"
   ]
  },
  {
   "cell_type": "code",
   "execution_count": 27,
   "id": "1763ef1d",
   "metadata": {},
   "outputs": [
    {
     "name": "stdout",
     "output_type": "stream",
     "text": [
      "username:  amin\n",
      "Domain:  prata-tech.com\n"
     ]
    }
   ],
   "source": [
    "# example\n",
    "addr = 'amin@prata-tech.com'\n",
    "uname, domain = addr.split('@')\n",
    "print('username: ', uname)\n",
    "print('Domain: ', domain)"
   ]
  },
  {
   "cell_type": "markdown",
   "id": "708630a5",
   "metadata": {},
   "source": [
    "### Dictionaries and Tuples"
   ]
  },
  {
   "cell_type": "code",
   "execution_count": 28,
   "id": "b84fc078",
   "metadata": {},
   "outputs": [
    {
     "data": {
      "text/plain": [
       "[('CEO', 'Amin'),\n",
       " ('IT Support', 'Milad'),\n",
       " ('DM Manager', 'Sahar'),\n",
       " ('AI Eng', 'Armin'),\n",
       " ('Graphic Designer', 'Raana'),\n",
       " ('UX Designer', 'Narges')]"
      ]
     },
     "execution_count": 28,
     "metadata": {},
     "output_type": "execute_result"
    }
   ],
   "source": [
    "### Dictionaries and Tuples\n",
    "employees = {'CEO':'Amin', 'IT Support': 'Milad', 'DM Manager': 'Sahar', 'AI Eng': 'Armin',\n",
    "            'Graphic Designer':'Raana', 'UX Designer':'Narges'\n",
    "           }\n",
    "items = list(employees.items())\n",
    "items"
   ]
  },
  {
   "cell_type": "code",
   "execution_count": 29,
   "id": "eb9a3cd2",
   "metadata": {},
   "outputs": [
    {
     "data": {
      "text/plain": [
       "tuple"
      ]
     },
     "execution_count": 29,
     "metadata": {},
     "output_type": "execute_result"
    }
   ],
   "source": [
    "type(items[0])"
   ]
  },
  {
   "cell_type": "code",
   "execution_count": 30,
   "id": "acf3da6e",
   "metadata": {},
   "outputs": [
    {
     "data": {
      "text/plain": [
       "[('AI Eng', 'Armin'),\n",
       " ('CEO', 'Amin'),\n",
       " ('DM Manager', 'Sahar'),\n",
       " ('Graphic Designer', 'Raana'),\n",
       " ('IT Support', 'Milad'),\n",
       " ('UX Designer', 'Narges')]"
      ]
     },
     "execution_count": 30,
     "metadata": {},
     "output_type": "execute_result"
    }
   ],
   "source": [
    "items.sort()\n",
    "items"
   ]
  },
  {
   "cell_type": "markdown",
   "id": "0be58227",
   "metadata": {},
   "source": [
    "### Multiple assignment with dictionaries"
   ]
  },
  {
   "cell_type": "code",
   "execution_count": 31,
   "id": "133c3be4",
   "metadata": {},
   "outputs": [
    {
     "name": "stdout",
     "output_type": "stream",
     "text": [
      "Armin : AI Eng\n",
      "Amin : CEO\n",
      "Sahar : DM Manager\n",
      "Raana : Graphic Designer\n",
      "Milad : IT Support\n",
      "Narges : UX Designer\n"
     ]
    }
   ],
   "source": [
    "for key, val in items:\n",
    "    print('%s : %s' %(val, key))"
   ]
  },
  {
   "cell_type": "code",
   "execution_count": 32,
   "id": "943167e3",
   "metadata": {},
   "outputs": [
    {
     "data": {
      "text/plain": [
       "[('UX Designer', 'Narges'),\n",
       " ('IT Support', 'Milad'),\n",
       " ('Graphic Designer', 'Raana'),\n",
       " ('DM Manager', 'Sahar'),\n",
       " ('CEO', 'Amin'),\n",
       " ('AI Eng', 'Armin')]"
      ]
     },
     "execution_count": 32,
     "metadata": {},
     "output_type": "execute_result"
    }
   ],
   "source": [
    "items.sort(reverse = True)\n",
    "items"
   ]
  },
  {
   "cell_type": "code",
   "execution_count": 34,
   "id": "3cf15fbc",
   "metadata": {},
   "outputs": [
    {
     "data": {
      "text/plain": [
       "(list, tuple)"
      ]
     },
     "execution_count": 34,
     "metadata": {},
     "output_type": "execute_result"
    }
   ],
   "source": [
    "new_list = list()\n",
    "for key, val in items:\n",
    "    new_list.append((val,key))\n",
    "\n",
    "type(new_list), type(new_list[0])"
   ]
  },
  {
   "cell_type": "markdown",
   "id": "3e14c280",
   "metadata": {},
   "source": [
    "### Using Tuples as Keys in Dictionaries"
   ]
  },
  {
   "cell_type": "markdown",
   "id": "1c2b883e",
   "metadata": {},
   "source": [
    "Tuples are hashable unlike lists."
   ]
  },
  {
   "cell_type": "code",
   "execution_count": 35,
   "id": "b05aad56",
   "metadata": {},
   "outputs": [
    {
     "data": {
      "text/plain": [
       "{('Amin', 'Oroji'): '09981637510',\n",
       " ('Armin', 'Golzar'): '09981637520',\n",
       " ('Milad', 'Gashtil'): '09981637530'}"
      ]
     },
     "execution_count": 35,
     "metadata": {},
     "output_type": "execute_result"
    }
   ],
   "source": [
    "phonebook = {('Amin','Oroji'):'09981637510', ('Armin','Golzar'):'09981637520',('Milad','Gashtil'):'09981637530'}\n",
    "phonebook"
   ]
  },
  {
   "cell_type": "code",
   "execution_count": 36,
   "id": "09434e1e",
   "metadata": {},
   "outputs": [
    {
     "data": {
      "text/plain": [
       "'09981637510'"
      ]
     },
     "execution_count": 36,
     "metadata": {},
     "output_type": "execute_result"
    }
   ],
   "source": [
    "phonebook[('Amin','Oroji')]"
   ]
  },
  {
   "cell_type": "markdown",
   "id": "ea7343fe",
   "metadata": {},
   "source": [
    "## Excercise: Write a script to create your phonebook ((name,surname),number). update your phonebook with new entries."
   ]
  },
  {
   "cell_type": "code",
   "execution_count": null,
   "id": "5fc420e9",
   "metadata": {},
   "outputs": [],
   "source": []
  }
 ],
 "metadata": {
  "kernelspec": {
   "display_name": "Python 3 (ipykernel)",
   "language": "python",
   "name": "python3"
  },
  "language_info": {
   "codemirror_mode": {
    "name": "ipython",
    "version": 3
   },
   "file_extension": ".py",
   "mimetype": "text/x-python",
   "name": "python",
   "nbconvert_exporter": "python",
   "pygments_lexer": "ipython3",
   "version": "3.10.9"
  }
 },
 "nbformat": 4,
 "nbformat_minor": 5
}
