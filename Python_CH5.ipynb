{
 "cells": [
  {
   "cell_type": "markdown",
   "id": "8a0a91c8",
   "metadata": {},
   "source": [
    "# Chapter 5: Functions I"
   ]
  },
  {
   "cell_type": "markdown",
   "id": "8f9694cf",
   "metadata": {},
   "source": [
    "- In the context of programming, a function is a named sequence of statements that performs a computation.\n",
    "- The specific name that we can call a function is called **name**.\n",
    "- The function input is called **argument**. \n",
    "- The result is called the **return value**.\n",
    "\n",
    "For example:\n"
   ]
  },
  {
   "cell_type": "code",
   "execution_count": null,
   "id": "5ef7d1fe",
   "metadata": {},
   "outputs": [],
   "source": [
    "type(32)"
   ]
  },
  {
   "cell_type": "code",
   "execution_count": null,
   "id": "de6f1321",
   "metadata": {},
   "outputs": [],
   "source": [
    "type('32')"
   ]
  },
  {
   "cell_type": "markdown",
   "id": "6f6f8d50",
   "metadata": {},
   "source": [
    "the function name, argument and return value are **type, 32 and int**, respectively. "
   ]
  },
  {
   "cell_type": "markdown",
   "id": "5abdda49",
   "metadata": {},
   "source": [
    "## Flow of execution\n",
    "In order to ensure that a function is defined before its first use, you have to know the order in which statements are executed, which is called the flow of execution."
   ]
  },
  {
   "cell_type": "markdown",
   "id": "597ae718",
   "metadata": {},
   "source": [
    "## Parameters and arguments\n",
    "- Some of the built-in functions we have seen require arguments. For example, when you call math.sin you pass a number as an argument. \n",
    "\n",
    "- Some functions take more than one argument: math.pow takes two, the base and the exponent.\n",
    "\n",
    "- Inside the function, the arguments are assigned to variables called parameters.\n"
   ]
  },
  {
   "cell_type": "markdown",
   "id": "827a27e7",
   "metadata": {},
   "source": [
    "## Why functions?\n",
    "It may not be clear why it is worth the trouble to divide a program into functions. There are several reasons:\n",
    "1. Creating a new function gives you an opportunity to name a group of statements, which makes your program easier to read, understand, and debug.\n",
    "2. Functions can make a program smaller by eliminating repetitive code. Later, if you make a change, you only have to make it in one place.\n",
    "3. Dividing a long program into functions allows you to debug the parts one at a time and then assemble them into a working whole.\n",
    "4. Well-designed functions are often useful for many programs. Once you write and debug one, you can reuse it."
   ]
  },
  {
   "cell_type": "markdown",
   "id": "ede82fe4",
   "metadata": {},
   "source": [
    "## Built-in Functions"
   ]
  },
  {
   "cell_type": "code",
   "execution_count": null,
   "id": "c3732bf0",
   "metadata": {},
   "outputs": [],
   "source": [
    "lst = [12, 20, 3, 94, 33]\n",
    "print('min = ', min(lst))\n",
    "print('Max = ', max(lst))\n",
    "print('Length = ', len(lst))\n",
    "print('Summation = ', sum(lst))"
   ]
  },
  {
   "cell_type": "markdown",
   "id": "1696208b",
   "metadata": {},
   "source": [
    "## Type Conversion Functions\n",
    "- int\n",
    "- str\n",
    "- float"
   ]
  },
  {
   "cell_type": "markdown",
   "id": "0f10d241",
   "metadata": {},
   "source": [
    "## Math Functions"
   ]
  },
  {
   "cell_type": "code",
   "execution_count": 1,
   "id": "fbc19970",
   "metadata": {},
   "outputs": [
    {
     "data": {
      "text/plain": [
       "['__doc__',\n",
       " '__file__',\n",
       " '__loader__',\n",
       " '__name__',\n",
       " '__package__',\n",
       " '__spec__',\n",
       " 'acos',\n",
       " 'acosh',\n",
       " 'asin',\n",
       " 'asinh',\n",
       " 'atan',\n",
       " 'atan2',\n",
       " 'atanh',\n",
       " 'ceil',\n",
       " 'comb',\n",
       " 'copysign',\n",
       " 'cos',\n",
       " 'cosh',\n",
       " 'degrees',\n",
       " 'dist',\n",
       " 'e',\n",
       " 'erf',\n",
       " 'erfc',\n",
       " 'exp',\n",
       " 'expm1',\n",
       " 'fabs',\n",
       " 'factorial',\n",
       " 'floor',\n",
       " 'fmod',\n",
       " 'frexp',\n",
       " 'fsum',\n",
       " 'gamma',\n",
       " 'gcd',\n",
       " 'hypot',\n",
       " 'inf',\n",
       " 'isclose',\n",
       " 'isfinite',\n",
       " 'isinf',\n",
       " 'isnan',\n",
       " 'isqrt',\n",
       " 'lcm',\n",
       " 'ldexp',\n",
       " 'lgamma',\n",
       " 'log',\n",
       " 'log10',\n",
       " 'log1p',\n",
       " 'log2',\n",
       " 'modf',\n",
       " 'nan',\n",
       " 'nextafter',\n",
       " 'perm',\n",
       " 'pi',\n",
       " 'pow',\n",
       " 'prod',\n",
       " 'radians',\n",
       " 'remainder',\n",
       " 'sin',\n",
       " 'sinh',\n",
       " 'sqrt',\n",
       " 'tan',\n",
       " 'tanh',\n",
       " 'tau',\n",
       " 'trunc',\n",
       " 'ulp']"
      ]
     },
     "execution_count": 1,
     "metadata": {},
     "output_type": "execute_result"
    }
   ],
   "source": [
    "import math\n",
    "dir(math)"
   ]
  },
  {
   "cell_type": "code",
   "execution_count": 2,
   "id": "974ab503",
   "metadata": {},
   "outputs": [
    {
     "data": {
      "text/plain": [
       "3.141592653589793"
      ]
     },
     "execution_count": 2,
     "metadata": {},
     "output_type": "execute_result"
    }
   ],
   "source": [
    "pi = math.pi\n",
    "pi"
   ]
  },
  {
   "cell_type": "code",
   "execution_count": 3,
   "id": "d3865cfb",
   "metadata": {},
   "outputs": [
    {
     "data": {
      "text/plain": [
       "-0.9880316240928618"
      ]
     },
     "execution_count": 3,
     "metadata": {},
     "output_type": "execute_result"
    }
   ],
   "source": [
    "math.sin(30) # input is in form of radian and not degree."
   ]
  },
  {
   "cell_type": "code",
   "execution_count": 4,
   "id": "97e856bc",
   "metadata": {},
   "outputs": [
    {
     "data": {
      "text/plain": [
       "0.49999999999999994"
      ]
     },
     "execution_count": 4,
     "metadata": {},
     "output_type": "execute_result"
    }
   ],
   "source": [
    "deg = 30\n",
    "rad = deg / 360.0 * 2 * pi  #convert from degrees to radians, divide by 360 and multiply by 2π:\n",
    "math.sin(rad)"
   ]
  },
  {
   "cell_type": "code",
   "execution_count": 5,
   "id": "802d94fc",
   "metadata": {},
   "outputs": [
    {
     "data": {
      "text/plain": [
       "0.7071067811865475"
      ]
     },
     "execution_count": 5,
     "metadata": {},
     "output_type": "execute_result"
    }
   ],
   "source": [
    "deg = 45\n",
    "rad = deg / 360.0 * 2 * pi  #convert from degrees to radians, divide by 360 and multiply by 2π:\n",
    "math.sin(rad)"
   ]
  },
  {
   "cell_type": "code",
   "execution_count": 6,
   "id": "660a17c4",
   "metadata": {},
   "outputs": [
    {
     "data": {
      "text/plain": [
       "0.7071067811865476"
      ]
     },
     "execution_count": 6,
     "metadata": {},
     "output_type": "execute_result"
    }
   ],
   "source": [
    "math.sqrt(2)/2"
   ]
  },
  {
   "cell_type": "code",
   "execution_count": 7,
   "id": "502debb2",
   "metadata": {},
   "outputs": [],
   "source": [
    "# import cos method from math\n",
    "from math import exp, cos, log"
   ]
  },
  {
   "cell_type": "code",
   "execution_count": 8,
   "id": "8f519692",
   "metadata": {},
   "outputs": [
    {
     "data": {
      "text/plain": [
       "(1.0, 1.1447298858494002, 0.7071067811865476)"
      ]
     },
     "execution_count": 8,
     "metadata": {},
     "output_type": "execute_result"
    }
   ],
   "source": [
    "exp(0), log(pi), cos(rad)"
   ]
  },
  {
   "cell_type": "code",
   "execution_count": 9,
   "id": "cf602843",
   "metadata": {},
   "outputs": [
    {
     "data": {
      "text/plain": [
       "(2, 2, 3, 3)"
      ]
     },
     "execution_count": 9,
     "metadata": {},
     "output_type": "execute_result"
    }
   ],
   "source": [
    "math.floor(2.001), math.floor(2.999999), math.ceil(2.001), math.ceil(2.9999)"
   ]
  },
  {
   "cell_type": "code",
   "execution_count": 10,
   "id": "d98f89a0",
   "metadata": {},
   "outputs": [
    {
     "data": {
      "text/plain": [
       "(-3, -3, -2, -2)"
      ]
     },
     "execution_count": 10,
     "metadata": {},
     "output_type": "execute_result"
    }
   ],
   "source": [
    "math.floor(-2.001), math.floor(-2.999999), math.ceil(-2.001), math.ceil(-2.9999)"
   ]
  },
  {
   "cell_type": "markdown",
   "id": "bd8528c8",
   "metadata": {},
   "source": [
    "## Random Numbers"
   ]
  },
  {
   "cell_type": "code",
   "execution_count": 11,
   "id": "792e0d4e",
   "metadata": {},
   "outputs": [
    {
     "data": {
      "text/plain": [
       "['BPF',\n",
       " 'LOG4',\n",
       " 'NV_MAGICCONST',\n",
       " 'RECIP_BPF',\n",
       " 'Random',\n",
       " 'SG_MAGICCONST',\n",
       " 'SystemRandom',\n",
       " 'TWOPI',\n",
       " '_Sequence',\n",
       " '_Set',\n",
       " '__all__',\n",
       " '__builtins__',\n",
       " '__cached__',\n",
       " '__doc__',\n",
       " '__file__',\n",
       " '__loader__',\n",
       " '__name__',\n",
       " '__package__',\n",
       " '__spec__',\n",
       " '_accumulate',\n",
       " '_acos',\n",
       " '_bisect',\n",
       " '_ceil',\n",
       " '_cos',\n",
       " '_e',\n",
       " '_exp',\n",
       " '_floor',\n",
       " '_inst',\n",
       " '_log',\n",
       " '_os',\n",
       " '_pi',\n",
       " '_random',\n",
       " '_repeat',\n",
       " '_sha512',\n",
       " '_sin',\n",
       " '_sqrt',\n",
       " '_test',\n",
       " '_test_generator',\n",
       " '_urandom',\n",
       " '_warn',\n",
       " 'betavariate',\n",
       " 'choice',\n",
       " 'choices',\n",
       " 'expovariate',\n",
       " 'gammavariate',\n",
       " 'gauss',\n",
       " 'getrandbits',\n",
       " 'getstate',\n",
       " 'lognormvariate',\n",
       " 'normalvariate',\n",
       " 'paretovariate',\n",
       " 'randbytes',\n",
       " 'randint',\n",
       " 'random',\n",
       " 'randrange',\n",
       " 'sample',\n",
       " 'seed',\n",
       " 'setstate',\n",
       " 'shuffle',\n",
       " 'triangular',\n",
       " 'uniform',\n",
       " 'vonmisesvariate',\n",
       " 'weibullvariate']"
      ]
     },
     "execution_count": 11,
     "metadata": {},
     "output_type": "execute_result"
    }
   ],
   "source": [
    "import random\n",
    "dir(random)"
   ]
  },
  {
   "cell_type": "code",
   "execution_count": 12,
   "id": "6ac9af3c",
   "metadata": {},
   "outputs": [
    {
     "name": "stdout",
     "output_type": "stream",
     "text": [
      "Help on built-in function random:\n",
      "\n",
      "random() method of random.Random instance\n",
      "    random() -> x in the interval [0, 1).\n",
      "\n"
     ]
    }
   ],
   "source": [
    "help(random.random)"
   ]
  },
  {
   "cell_type": "code",
   "execution_count": 13,
   "id": "e9f484e6",
   "metadata": {},
   "outputs": [
    {
     "name": "stdout",
     "output_type": "stream",
     "text": [
      "0.03130856751976707\n",
      "0.9946337129476635\n",
      "0.4248373531290375\n",
      "0.8871821170559373\n",
      "0.40781203865269755\n",
      "0.7195101014112926\n",
      "0.16062328000957016\n",
      "0.07404800266626888\n",
      "0.06025319038983945\n",
      "0.627275838839744\n"
     ]
    }
   ],
   "source": [
    "for i in range(10):\n",
    "    x = random.random() \n",
    "    print(x)"
   ]
  },
  {
   "cell_type": "code",
   "execution_count": null,
   "id": "c3881aa6",
   "metadata": {},
   "outputs": [],
   "source": [
    "while True:\n",
    "    a = input('Enter a: ')\n",
    "    if a == 'done': break\n",
    "    b = input('Enter b: ')\n",
    "    if a >= b:\n",
    "        print('Wrong Order!')\n",
    "        continue\n",
    "    else:\n",
    "        try:\n",
    "            a = int(a)\n",
    "            b = int(b)\n",
    "            for i in range(5):\n",
    "                x = random.random()\n",
    "                x = math.floor(a + (b-a) * x)\n",
    "                print(x)\n",
    "\n",
    "        except:\n",
    "            print('Wrong Numbers!')"
   ]
  },
  {
   "cell_type": "code",
   "execution_count": 14,
   "id": "2a0a2dc0",
   "metadata": {},
   "outputs": [
    {
     "data": {
      "text/plain": [
       "16"
      ]
     },
     "execution_count": 14,
     "metadata": {},
     "output_type": "execute_result"
    }
   ],
   "source": [
    "random.randint(5, 20)"
   ]
  },
  {
   "cell_type": "code",
   "execution_count": 15,
   "id": "822d9806",
   "metadata": {},
   "outputs": [
    {
     "name": "stdout",
     "output_type": "stream",
     "text": [
      "21\n",
      "79\n",
      "70\n",
      "73\n",
      "95\n",
      "59\n",
      "39\n",
      "51\n",
      "69\n",
      "59\n",
      "91\n",
      "41\n",
      "47\n",
      "94\n",
      "17\n",
      "37\n",
      "69\n",
      "94\n",
      "99\n",
      "59\n"
     ]
    }
   ],
   "source": [
    "for i in range(20):\n",
    "    print(random.randint(10, 100))"
   ]
  },
  {
   "cell_type": "code",
   "execution_count": 16,
   "id": "ecb31b0f",
   "metadata": {},
   "outputs": [
    {
     "name": "stdout",
     "output_type": "stream",
     "text": [
      "78\n",
      "67\n",
      "40\n",
      "93\n",
      "63\n",
      "70\n",
      "34\n",
      "61\n",
      "15\n",
      "67\n",
      "25\n",
      "2\n"
     ]
    }
   ],
   "source": [
    "x = 50\n",
    "while (x >= 15):\n",
    "    x = random.randint(1,100)\n",
    "    print(x)"
   ]
  },
  {
   "cell_type": "code",
   "execution_count": 17,
   "id": "f62e10a8",
   "metadata": {},
   "outputs": [
    {
     "data": {
      "text/plain": [
       "10"
      ]
     },
     "execution_count": 17,
     "metadata": {},
     "output_type": "execute_result"
    }
   ],
   "source": [
    "t = [1, 2, 3, 10, 26, 46, 65]\n",
    "random.choice(t)"
   ]
  },
  {
   "cell_type": "code",
   "execution_count": null,
   "id": "d8848c42",
   "metadata": {},
   "outputs": [],
   "source": []
  },
  {
   "cell_type": "markdown",
   "id": "783c964a",
   "metadata": {},
   "source": [
    "## Adding a New Functions"
   ]
  },
  {
   "cell_type": "code",
   "execution_count": null,
   "id": "327f3575",
   "metadata": {},
   "outputs": [],
   "source": [
    "# first = input('Enter Your First Name: ')\n",
    "# last = input('Enter Your Last Name: ')\n",
    "# email = input('Enter Your email Address: ')\n",
    "# d = {(first,last):email}\n",
    "# print(d)"
   ]
  },
  {
   "cell_type": "code",
   "execution_count": null,
   "id": "3c2f5648",
   "metadata": {},
   "outputs": [],
   "source": [
    "# d = dict()\n",
    "# while True:\n",
    "#     first = input('Enter Your First Name: ')\n",
    "#     if first == 'done': \n",
    "#         break\n",
    "#     last = input('Enter Your Last Name: ')\n",
    "#     email = input('Enter Your email Address: ')\n",
    "#     d[(first,last)] = email\n",
    "    \n",
    "# print(d)"
   ]
  },
  {
   "cell_type": "code",
   "execution_count": null,
   "id": "3c291285",
   "metadata": {},
   "outputs": [],
   "source": [
    "def add_nums(a = 2,b = 6):\n",
    "    try:\n",
    "        a = int(a)\n",
    "        b = int(b)\n",
    "        c = a+b\n",
    "    except:\n",
    "        c = 'numbers are not integer'\n",
    "    return c"
   ]
  },
  {
   "cell_type": "code",
   "execution_count": null,
   "id": "97639b89",
   "metadata": {},
   "outputs": [],
   "source": [
    "add_nums(2,5)"
   ]
  },
  {
   "cell_type": "code",
   "execution_count": null,
   "id": "724bc74a",
   "metadata": {},
   "outputs": [],
   "source": [
    "add_nums(6)"
   ]
  },
  {
   "cell_type": "code",
   "execution_count": null,
   "id": "bf805de4",
   "metadata": {},
   "outputs": [],
   "source": [
    "add_nums(b = 10, a = 3)"
   ]
  },
  {
   "cell_type": "code",
   "execution_count": null,
   "id": "a25252d8",
   "metadata": {},
   "outputs": [],
   "source": [
    "# def make_dictionary(email,first,last):\n",
    "#     d = {}\n",
    "#     d[(first,last)] = email\n",
    "#     return d"
   ]
  },
  {
   "cell_type": "code",
   "execution_count": null,
   "id": "1aef6caf",
   "metadata": {},
   "outputs": [],
   "source": [
    "# make_dictionary"
   ]
  },
  {
   "cell_type": "code",
   "execution_count": null,
   "id": "ebf94f7e",
   "metadata": {},
   "outputs": [],
   "source": []
  },
  {
   "cell_type": "code",
   "execution_count": null,
   "id": "52fb8f97",
   "metadata": {},
   "outputs": [],
   "source": [
    "# make_dictionary('amin@prata-tech.com', d = {('Armin','G'): 'armin@prata-tech.com'})"
   ]
  },
  {
   "cell_type": "code",
   "execution_count": null,
   "id": "cbcee219",
   "metadata": {},
   "outputs": [],
   "source": [
    "# make_dictionary(first = 'Sahar', email = 'amin@prata-tech.com', last = 'Monfared')"
   ]
  },
  {
   "cell_type": "code",
   "execution_count": null,
   "id": "cfd48cd7",
   "metadata": {},
   "outputs": [],
   "source": [
    "# d = dict()\n",
    "# while True:\n",
    "#     first = input('Enter Your First Name: ')\n",
    "#     if first == 'done': \n",
    "#         break\n",
    "#     last = input('Enter Your Last Name: ')\n",
    "#     email = input('Enter Your email Address: ')\n",
    "#     make_dictionary(d,first,last,email)\n",
    "    \n",
    "# print(d)"
   ]
  },
  {
   "cell_type": "markdown",
   "id": "9603e99d",
   "metadata": {},
   "source": [
    "### Exe: Imporve your Function"
   ]
  },
  {
   "cell_type": "code",
   "execution_count": null,
   "id": "33800a72",
   "metadata": {},
   "outputs": [],
   "source": [
    "# Write a Python function to find the Max of three numbers.\n",
    "# def find_max(lst):\n",
    "#     return max(lst)"
   ]
  },
  {
   "cell_type": "code",
   "execution_count": null,
   "id": "5150840c",
   "metadata": {},
   "outputs": [],
   "source": [
    "# lst = list()\n",
    "# for i in range(15):\n",
    "#     lst.append(random.randint(1, 10000000))\n",
    "# lst"
   ]
  },
  {
   "cell_type": "code",
   "execution_count": 2,
   "id": "cada5839",
   "metadata": {},
   "outputs": [],
   "source": [
    "# write a function that take a list as input and return the multiplication of its elements\n",
    "# def mult_all(lst):\n",
    "#     multi = 1\n",
    "#     for item in lst:\n",
    "#         multi = multi * item\n",
    "#     return multi"
   ]
  },
  {
   "cell_type": "code",
   "execution_count": 3,
   "id": "c2f47b2e",
   "metadata": {},
   "outputs": [
    {
     "data": {
      "text/plain": [
       "<function __main__.mult_all(lst)>"
      ]
     },
     "execution_count": 3,
     "metadata": {},
     "output_type": "execute_result"
    }
   ],
   "source": [
    "# mult_all"
   ]
  },
  {
   "cell_type": "code",
   "execution_count": 4,
   "id": "12a49f0b",
   "metadata": {},
   "outputs": [
    {
     "data": {
      "text/plain": [
       "24"
      ]
     },
     "execution_count": 4,
     "metadata": {},
     "output_type": "execute_result"
    }
   ],
   "source": [
    "# # test\n",
    "# lst = [1,2,3,4]\n",
    "# mult_all(lst)"
   ]
  },
  {
   "cell_type": "code",
   "execution_count": 18,
   "id": "b2ea1dcd",
   "metadata": {},
   "outputs": [],
   "source": [
    "# Write a Python function to check whether a number falls in a given range.\n",
    "def interval_checker(number, start, end):\n",
    "    bl = (start <= number) and (number <= end) \n",
    "    return bl"
   ]
  },
  {
   "cell_type": "code",
   "execution_count": 19,
   "id": "3bb4a047",
   "metadata": {},
   "outputs": [
    {
     "data": {
      "text/plain": [
       "True"
      ]
     },
     "execution_count": 19,
     "metadata": {},
     "output_type": "execute_result"
    }
   ],
   "source": [
    "interval_checker(0.5, 0, 1)"
   ]
  },
  {
   "cell_type": "code",
   "execution_count": 20,
   "id": "0db0c9ba",
   "metadata": {},
   "outputs": [
    {
     "data": {
      "text/plain": [
       "False"
      ]
     },
     "execution_count": 20,
     "metadata": {},
     "output_type": "execute_result"
    }
   ],
   "source": [
    "interval_checker(0.5, 1, 2)"
   ]
  },
  {
   "cell_type": "code",
   "execution_count": 21,
   "id": "c71acde3",
   "metadata": {},
   "outputs": [],
   "source": [
    "# calculate the area of a circle\n",
    "# improve this code to handle the potential errors!\n",
    "from math import pi\n",
    "def area(diameter):\n",
    "    return pi * ((diameter/2)**2)"
   ]
  },
  {
   "cell_type": "code",
   "execution_count": 22,
   "id": "e00bfe59",
   "metadata": {},
   "outputs": [
    {
     "data": {
      "text/plain": [
       "(3.141592653589793, 12.566370614359172, 7853.981633974483)"
      ]
     },
     "execution_count": 22,
     "metadata": {},
     "output_type": "execute_result"
    }
   ],
   "source": [
    "# test\n",
    "area(2), area(4), area(100)"
   ]
  },
  {
   "cell_type": "code",
   "execution_count": 23,
   "id": "c0a7b7ca",
   "metadata": {},
   "outputs": [],
   "source": [
    "# is odd or even?\n",
    "def is_even(number):\n",
    "    if number%2 == 0:\n",
    "        return True\n",
    "    else:\n",
    "        return False"
   ]
  },
  {
   "cell_type": "code",
   "execution_count": 24,
   "id": "49df837c",
   "metadata": {},
   "outputs": [
    {
     "data": {
      "text/plain": [
       "(True, False)"
      ]
     },
     "execution_count": 24,
     "metadata": {},
     "output_type": "execute_result"
    }
   ],
   "source": [
    "is_even(2), is_even(5)"
   ]
  },
  {
   "cell_type": "code",
   "execution_count": null,
   "id": "21d808e1",
   "metadata": {},
   "outputs": [],
   "source": [
    "# lst"
   ]
  },
  {
   "cell_type": "code",
   "execution_count": null,
   "id": "e002c616",
   "metadata": {},
   "outputs": [],
   "source": [
    "# d = dict()\n",
    "# for item in lst:\n",
    "#     if is_even(item):\n",
    "#         d[item] = 'Even'\n",
    "#     else:\n",
    "#         d[item] = 'Odd'\n",
    "        \n",
    "# print(d)"
   ]
  },
  {
   "cell_type": "code",
   "execution_count": null,
   "id": "df49c526",
   "metadata": {},
   "outputs": [],
   "source": [
    "# d1 = {'Even':0,'Odd':0}\n",
    "# for item in lst:\n",
    "#     if is_even(item):\n",
    "#         d1['Even'] += 1\n",
    "#     else:\n",
    "#         d1['Odd'] += 1\n",
    "        \n",
    "# print(d1)"
   ]
  },
  {
   "cell_type": "code",
   "execution_count": null,
   "id": "bcb9716a",
   "metadata": {},
   "outputs": [],
   "source": [
    "# input: start, end, num = how many times\n",
    "# output: a dictionary that shows how many in the 1st, 2nd, 3rd, fouth quarters, respectively.\n",
    "# d = {'1':0, '2':0, '3':0, '4':0}\n",
    "# def q_dict(start = 0, end = 100, num = 20):\n",
    "    \n",
    "    \n",
    "#     return d"
   ]
  },
  {
   "cell_type": "code",
   "execution_count": 25,
   "id": "8fa54f50",
   "metadata": {},
   "outputs": [
    {
     "name": "stdout",
     "output_type": "stream",
     "text": [
      "I'm a lumberjack, and I'm okay.\n",
      "I sleep all night and I work all day.\n"
     ]
    }
   ],
   "source": [
    "def print_lyrics():\n",
    "    print(\"I'm a lumberjack, and I'm okay.\") \n",
    "    print('I sleep all night and I work all day.')\n",
    "    \n",
    "print_lyrics()"
   ]
  },
  {
   "cell_type": "code",
   "execution_count": 26,
   "id": "15f40b9a",
   "metadata": {},
   "outputs": [
    {
     "name": "stdout",
     "output_type": "stream",
     "text": [
      "I'm a lumberjack, and I'm okay.\n",
      "I sleep all night and I work all day.\n",
      "I'm a lumberjack, and I'm okay.\n",
      "I sleep all night and I work all day.\n"
     ]
    }
   ],
   "source": [
    "def repeat_lyrics():\n",
    "    print_lyrics()\n",
    "    print_lyrics()\n",
    "    \n",
    "repeat_lyrics()"
   ]
  },
  {
   "cell_type": "code",
   "execution_count": null,
   "id": "838c0934",
   "metadata": {},
   "outputs": [],
   "source": []
  },
  {
   "cell_type": "markdown",
   "id": "35931481",
   "metadata": {},
   "source": [
    "## Lambda Functions"
   ]
  },
  {
   "cell_type": "markdown",
   "id": "9f9ce999",
   "metadata": {},
   "source": [
    "We use lambda functions when we require a nameless function for a short period of time."
   ]
  },
  {
   "cell_type": "code",
   "execution_count": 5,
   "id": "ee84ad0e",
   "metadata": {},
   "outputs": [
    {
     "name": "stdout",
     "output_type": "stream",
     "text": [
      "25\n"
     ]
    }
   ],
   "source": [
    "# Program to show the use of lambda functions\n",
    "sq = lambda x: x ** 2\n",
    "\n",
    "print(sq(5))"
   ]
  },
  {
   "cell_type": "code",
   "execution_count": 8,
   "id": "56aba80b",
   "metadata": {},
   "outputs": [
    {
     "data": {
      "text/plain": [
       "100"
      ]
     },
     "execution_count": 8,
     "metadata": {},
     "output_type": "execute_result"
    }
   ],
   "source": [
    "sq(10)"
   ]
  },
  {
   "cell_type": "code",
   "execution_count": 34,
   "id": "be4c1e5e",
   "metadata": {},
   "outputs": [
    {
     "data": {
      "text/plain": [
       "<function __main__.<lambda>(x, y)>"
      ]
     },
     "execution_count": 34,
     "metadata": {},
     "output_type": "execute_result"
    }
   ],
   "source": [
    "(lambda x, y: x + y)"
   ]
  },
  {
   "cell_type": "code",
   "execution_count": 31,
   "id": "ed2a1abc",
   "metadata": {},
   "outputs": [],
   "source": [
    "s = _(4,8)"
   ]
  },
  {
   "cell_type": "code",
   "execution_count": 32,
   "id": "aa195d92",
   "metadata": {},
   "outputs": [
    {
     "data": {
      "text/plain": [
       "12"
      ]
     },
     "execution_count": 32,
     "metadata": {},
     "output_type": "execute_result"
    }
   ],
   "source": [
    "s"
   ]
  },
  {
   "cell_type": "code",
   "execution_count": 35,
   "id": "0b2cd1dd",
   "metadata": {},
   "outputs": [
    {
     "data": {
      "text/plain": [
       "120"
      ]
     },
     "execution_count": 35,
     "metadata": {},
     "output_type": "execute_result"
    }
   ],
   "source": [
    "_(40,80)"
   ]
  },
  {
   "cell_type": "code",
   "execution_count": 36,
   "id": "0f226091",
   "metadata": {},
   "outputs": [
    {
     "data": {
      "text/plain": [
       "12"
      ]
     },
     "execution_count": 36,
     "metadata": {},
     "output_type": "execute_result"
    }
   ],
   "source": [
    "(lambda x, y: x + y)(4,8)"
   ]
  },
  {
   "cell_type": "code",
   "execution_count": 37,
   "id": "a04140c8",
   "metadata": {},
   "outputs": [
    {
     "data": {
      "text/plain": [
       "12"
      ]
     },
     "execution_count": 37,
     "metadata": {},
     "output_type": "execute_result"
    }
   ],
   "source": [
    "summation = (lambda x, y: x + y)\n",
    "summation(4,8)"
   ]
  },
  {
   "cell_type": "markdown",
   "id": "afa9ef9a",
   "metadata": {},
   "source": [
    "Lambda functions are used along with built-in functions like **filter()**, **map()**, etc."
   ]
  },
  {
   "cell_type": "code",
   "execution_count": 21,
   "id": "9464f7c1",
   "metadata": {},
   "outputs": [
    {
     "data": {
      "text/plain": [
       "[0, 2, 4, 6, 8, 10, 12, 14, 16, 18]"
      ]
     },
     "execution_count": 21,
     "metadata": {},
     "output_type": "execute_result"
    }
   ],
   "source": [
    "# def find_even(n):\n",
    "#     if n % 2 == 0:\n",
    "#         return True\n",
    "# lst = []    \n",
    "# for n in range(20):\n",
    "#     if find_even(n):\n",
    "#         lst.append(n)\n",
    "        \n",
    "# lst"
   ]
  },
  {
   "cell_type": "code",
   "execution_count": 37,
   "id": "cffb5b9c",
   "metadata": {},
   "outputs": [
    {
     "name": "stdout",
     "output_type": "stream",
     "text": [
      "[6, 3, 12]\n"
     ]
    }
   ],
   "source": [
    "# Program to filter out only the even items from a list\n",
    "# my_list = [1, 5, 4, 6, 8, 11, 3, 12]\n",
    "\n",
    "# new_list = list(filter(lambda x: (x%3 == 0) , my_list))\n",
    "\n",
    "# print(new_list)"
   ]
  },
  {
   "cell_type": "code",
   "execution_count": 38,
   "id": "812d624f",
   "metadata": {},
   "outputs": [
    {
     "data": {
      "text/plain": [
       "[0, 3, 6, 9, 12, 15, 18]"
      ]
     },
     "execution_count": 38,
     "metadata": {},
     "output_type": "execute_result"
    }
   ],
   "source": [
    "list(filter(lambda x: (x%3 == 0) , range(20)))"
   ]
  },
  {
   "cell_type": "code",
   "execution_count": 39,
   "id": "3e09e710",
   "metadata": {},
   "outputs": [
    {
     "name": "stdout",
     "output_type": "stream",
     "text": [
      "[0, 3, 6, 9, 12, 15, 18]\n"
     ]
    }
   ],
   "source": [
    "# new_list1 = [item for item in range(20) if item%3 == 0]\n",
    "# print(new_list1)"
   ]
  },
  {
   "cell_type": "code",
   "execution_count": 35,
   "id": "fd07c1b8",
   "metadata": {},
   "outputs": [
    {
     "data": {
      "text/plain": [
       "[0, 2, 4, 6, 8, 10, 12, 14, 16, 18]"
      ]
     },
     "execution_count": 35,
     "metadata": {},
     "output_type": "execute_result"
    }
   ],
   "source": [
    "# lst = []\n",
    "# for item in range(20): \n",
    "#     if item%2 == 0:\n",
    "#         lst.append(item)\n",
    "        \n",
    "# lst"
   ]
  },
  {
   "cell_type": "code",
   "execution_count": null,
   "id": "ec55903a",
   "metadata": {},
   "outputs": [],
   "source": [
    "# my_list = [1, 5, 4, 6, 8, 11, 3, 12]\n",
    "# lst = list()\n",
    "# for item in my_list:\n",
    "#     lst.append(item **2)\n",
    "    \n",
    "# lst"
   ]
  },
  {
   "cell_type": "code",
   "execution_count": 28,
   "id": "25329f75",
   "metadata": {},
   "outputs": [
    {
     "name": "stdout",
     "output_type": "stream",
     "text": [
      "[1, 25, 16, 36, 64, 121, 9, 144]\n"
     ]
    }
   ],
   "source": [
    "# Program to square each item in a list using map()\n",
    "\n",
    "# my_list = [1, 5, 4, 6, 8, 11, 3, 12]\n",
    "\n",
    "# new_list = list(map(lambda x: x ** 2 , my_list))\n",
    "\n",
    "# print(new_list)"
   ]
  },
  {
   "cell_type": "code",
   "execution_count": 32,
   "id": "f9f191db",
   "metadata": {},
   "outputs": [
    {
     "data": {
      "text/plain": [
       "[1, 25, 16, 36, 64, 121, 9, 144]"
      ]
     },
     "execution_count": 32,
     "metadata": {},
     "output_type": "execute_result"
    }
   ],
   "source": [
    "# new_lst = []\n",
    "# for item in my_list:\n",
    "#     new_lst.append(item **2)\n",
    "# new_lst    "
   ]
  },
  {
   "cell_type": "code",
   "execution_count": 34,
   "id": "b35c77b6",
   "metadata": {},
   "outputs": [
    {
     "name": "stdout",
     "output_type": "stream",
     "text": [
      "Help on class filter in module builtins:\n",
      "\n",
      "class filter(object)\n",
      " |  filter(function or None, iterable) --> filter object\n",
      " |  \n",
      " |  Return an iterator yielding those items of iterable for which function(item)\n",
      " |  is true. If function is None, return the items that are true.\n",
      " |  \n",
      " |  Methods defined here:\n",
      " |  \n",
      " |  __getattribute__(self, name, /)\n",
      " |      Return getattr(self, name).\n",
      " |  \n",
      " |  __iter__(self, /)\n",
      " |      Implement iter(self).\n",
      " |  \n",
      " |  __next__(self, /)\n",
      " |      Implement next(self).\n",
      " |  \n",
      " |  __reduce__(...)\n",
      " |      Return state information for pickling.\n",
      " |  \n",
      " |  ----------------------------------------------------------------------\n",
      " |  Static methods defined here:\n",
      " |  \n",
      " |  __new__(*args, **kwargs) from builtins.type\n",
      " |      Create and return a new object.  See help(type) for accurate signature.\n",
      "\n"
     ]
    }
   ],
   "source": [
    "help(filter)"
   ]
  },
  {
   "cell_type": "markdown",
   "id": "b568fd52",
   "metadata": {},
   "source": [
    "## Higher Order Functions"
   ]
  },
  {
   "cell_type": "markdown",
   "id": "c137e224",
   "metadata": {},
   "source": [
    "#### A function is called Higher Order Function if it contains other functions as a parameter or returns a function as an output i.e, the functions that operate with another function are known as Higher order Functions. "
   ]
  },
  {
   "cell_type": "markdown",
   "id": "0e230f56",
   "metadata": {},
   "source": [
    "### Properties of higher-order functions:\n",
    "\n",
    "- You can store the function in a variable.\n",
    "\n",
    "- You can pass the function as a parameter to another function.\n",
    "\n",
    "- You can return the function from a function.\n",
    "\n",
    "- You can store them in data structures such as hash tables, lists, …"
   ]
  },
  {
   "cell_type": "markdown",
   "id": "9c04334d",
   "metadata": {},
   "source": [
    "In Python, we generally use it as an argument to a higher-order function (a function that takes in other functions as arguments). "
   ]
  },
  {
   "cell_type": "code",
   "execution_count": 40,
   "id": "8b71a424",
   "metadata": {},
   "outputs": [
    {
     "data": {
      "text/plain": [
       "<function __main__.<lambda>(x, func)>"
      ]
     },
     "execution_count": 40,
     "metadata": {},
     "output_type": "execute_result"
    }
   ],
   "source": [
    "# higher order functions\n",
    "high_ord_func = lambda x, func: x + func(x)\n",
    "high_ord_func"
   ]
  },
  {
   "cell_type": "code",
   "execution_count": 41,
   "id": "da80e26a",
   "metadata": {},
   "outputs": [
    {
     "data": {
      "text/plain": [
       "7"
      ]
     },
     "execution_count": 41,
     "metadata": {},
     "output_type": "execute_result"
    }
   ],
   "source": [
    "high_ord_func(2, lambda x: x + 3)"
   ]
  },
  {
   "cell_type": "code",
   "execution_count": 42,
   "id": "87690950",
   "metadata": {},
   "outputs": [
    {
     "data": {
      "text/plain": [
       "'odd'"
      ]
     },
     "execution_count": 42,
     "metadata": {},
     "output_type": "execute_result"
    }
   ],
   "source": [
    "(lambda x: (x % 2 and 'odd' or 'even'))(3)"
   ]
  },
  {
   "cell_type": "code",
   "execution_count": 43,
   "id": "fbd4fc15",
   "metadata": {},
   "outputs": [
    {
     "data": {
      "text/plain": [
       "'even'"
      ]
     },
     "execution_count": 43,
     "metadata": {},
     "output_type": "execute_result"
    }
   ],
   "source": [
    "(lambda x: (x % 2 and 'odd' or 'even'))(30)"
   ]
  },
  {
   "cell_type": "code",
   "execution_count": 44,
   "id": "3e194b40",
   "metadata": {},
   "outputs": [
    {
     "data": {
      "text/plain": [
       "'odd'"
      ]
     },
     "execution_count": 44,
     "metadata": {},
     "output_type": "execute_result"
    }
   ],
   "source": [
    "(lambda x: (x % 2 and 'odd' or 'even'))(12.25)"
   ]
  },
  {
   "cell_type": "code",
   "execution_count": 38,
   "id": "4e28eb0a",
   "metadata": {},
   "outputs": [
    {
     "name": "stdout",
     "output_type": "stream",
     "text": [
      "22\n",
      "110\n"
     ]
    }
   ],
   "source": [
    "def myfunc(n):\n",
    "    return lambda a : a * n\n",
    "\n",
    "mydoubler = myfunc(2)\n",
    "mytripler = myfunc(10)\n",
    "\n",
    "print(mydoubler(11))\n",
    "print(mytripler(11))"
   ]
  },
  {
   "cell_type": "code",
   "execution_count": 50,
   "id": "62905c60",
   "metadata": {},
   "outputs": [
    {
     "data": {
      "text/plain": [
       "(<function __main__.myfunc.<locals>.<lambda>(a)>,\n",
       " <function __main__.myfunc.<locals>.<lambda>(a)>)"
      ]
     },
     "execution_count": 50,
     "metadata": {},
     "output_type": "execute_result"
    }
   ],
   "source": [
    "mydoubler, mytripler"
   ]
  },
  {
   "cell_type": "markdown",
   "id": "5d9361dd",
   "metadata": {},
   "source": [
    "## Recursive Function\n",
    "\n",
    "Recursion is the process of defining something in terms of itself. \n",
    "\n",
    "In Python, we know that a function can call other functions. It is even possible for the function to call itself. These types of construct are termed as recursive functions."
   ]
  },
  {
   "cell_type": "code",
   "execution_count": null,
   "id": "7b0034ec",
   "metadata": {},
   "outputs": [],
   "source": [
    "# def fn():\n",
    "#     # ...\n",
    "#     if condition:\n",
    "#         # stop calling itself\n",
    "#     else:\n",
    "#         fn()\n",
    "#     # ..."
   ]
  },
  {
   "cell_type": "code",
   "execution_count": 51,
   "id": "624681d5",
   "metadata": {},
   "outputs": [],
   "source": [
    "# Count down from a number\n",
    "def count_down(start):\n",
    "    print(start)\n",
    "    # call the count_down if the next\n",
    "    # number is greater than 0\n",
    "    next = start - 1\n",
    "    if next > 0:\n",
    "        count_down(next)\n",
    "\n"
   ]
  },
  {
   "cell_type": "code",
   "execution_count": 52,
   "id": "1ff2597a",
   "metadata": {},
   "outputs": [
    {
     "name": "stdout",
     "output_type": "stream",
     "text": [
      "10\n",
      "9\n",
      "8\n",
      "7\n",
      "6\n",
      "5\n",
      "4\n",
      "3\n",
      "2\n",
      "1\n"
     ]
    }
   ],
   "source": [
    "count_down(10)"
   ]
  },
  {
   "cell_type": "code",
   "execution_count": 39,
   "id": "542712aa",
   "metadata": {},
   "outputs": [],
   "source": [
    "def summation(n):\n",
    "    if n > 0:\n",
    "        return n + summation(n-1)\n",
    "    return 0\n"
   ]
  },
  {
   "cell_type": "code",
   "execution_count": 40,
   "id": "a18f8b04",
   "metadata": {},
   "outputs": [
    {
     "name": "stdout",
     "output_type": "stream",
     "text": [
      "0\n"
     ]
    }
   ],
   "source": [
    "result = summation(0)\n",
    "print(result)"
   ]
  },
  {
   "cell_type": "code",
   "execution_count": 41,
   "id": "4be55bc9",
   "metadata": {},
   "outputs": [
    {
     "name": "stdout",
     "output_type": "stream",
     "text": [
      "15\n"
     ]
    }
   ],
   "source": [
    "result = summation(5)\n",
    "print(result)"
   ]
  },
  {
   "cell_type": "code",
   "execution_count": null,
   "id": "d819540f",
   "metadata": {},
   "outputs": [],
   "source": [
    "# while True:\n"
   ]
  },
  {
   "cell_type": "code",
   "execution_count": 42,
   "id": "f2c3ea2a",
   "metadata": {},
   "outputs": [],
   "source": [
    "# improve your code\n",
    "def new_sum(n):\n",
    "    return n + new_sum(n-1) if n > 0 else 0"
   ]
  },
  {
   "cell_type": "code",
   "execution_count": 43,
   "id": "c93b5566",
   "metadata": {},
   "outputs": [
    {
     "name": "stdout",
     "output_type": "stream",
     "text": [
      "5050\n"
     ]
    }
   ],
   "source": [
    "result = new_sum(100)\n",
    "print(result)"
   ]
  },
  {
   "cell_type": "code",
   "execution_count": 44,
   "id": "e7e304dd",
   "metadata": {},
   "outputs": [],
   "source": [
    "#  find the factorial of an integer\n",
    "def factorial(x):\n",
    "    if x < 0:\n",
    "        return \"Negative Numbers!\"\n",
    "    elif x == 0:\n",
    "        return 1\n",
    "    else:\n",
    "        return (x * factorial(x-1))"
   ]
  },
  {
   "cell_type": "code",
   "execution_count": 45,
   "id": "85da3e9b",
   "metadata": {},
   "outputs": [
    {
     "name": "stdout",
     "output_type": "stream",
     "text": [
      "Enter a number: 12\n",
      "The factorial of 12 is 479001600\n",
      "Enter a number: 14\n",
      "The factorial of 14 is 87178291200\n",
      "Enter a number: done\n"
     ]
    }
   ],
   "source": [
    "while True:\n",
    "    num = input('Enter a number: ')\n",
    "    if num == 'done': break\n",
    "    print(\"The factorial of\", int(num), \"is\", factorial(int(num)))"
   ]
  },
  {
   "cell_type": "markdown",
   "id": "796f3c41",
   "metadata": {},
   "source": [
    "### Advantages of Recursion\n",
    "- Recursive functions make the code look clean and elegant.\n",
    "- A complex task can be broken down into simpler sub-problems using recursion.\n",
    "- Sequence generation is easier with recursion than using some nested iteration."
   ]
  },
  {
   "cell_type": "markdown",
   "id": "ab856d8e",
   "metadata": {},
   "source": [
    "### Disadvantages of Recursion\n",
    "- Sometimes the logic behind recursion is hard to follow through.\n",
    "- Recursive calls are expensive (inefficient) as they take up a lot of memory and time.\n",
    "- Recursive functions are hard to debug."
   ]
  },
  {
   "cell_type": "code",
   "execution_count": null,
   "id": "3fe1df8f",
   "metadata": {},
   "outputs": [],
   "source": []
  },
  {
   "cell_type": "code",
   "execution_count": null,
   "id": "0a4fc5be",
   "metadata": {},
   "outputs": [],
   "source": [
    "AMIN ----> NIMA"
   ]
  },
  {
   "cell_type": "markdown",
   "id": "938a14e8",
   "metadata": {},
   "source": [
    "## Exercise"
   ]
  },
  {
   "cell_type": "markdown",
   "id": "41d1107a",
   "metadata": {},
   "source": [
    "1. Write a Python function to multiply all the numbers in a list.\n",
    "2. Write a Python function to calculate the factorial of a number (a non-negative integer). The function accepts the number as an argument.\n",
    "3. Write a Python function to check whether a number falls in a given range.\n",
    "4. Write a Python function that accepts a string and calculates the number of uppercase letters and lowercase letters.\n",
    "5. Write a Python function that takes a number as a parameter and check the number is prime or not.\n",
    "6. Write a Python program to print the even numbers from a given list.\n",
    "7. Write a Python function to take a string as an input and return its reverse."
   ]
  },
  {
   "cell_type": "code",
   "execution_count": null,
   "id": "df7434a8",
   "metadata": {},
   "outputs": [],
   "source": [
    "from math\n",
    "def is_prime(n):\n",
    "    if n == 1:\n",
    "        return False\n",
    "    for i in range(2,n):\n",
    "    flag = True\n",
    "    for j in range(2,math.ceil(math.sqrt(i))+1):\n",
    "        if i%j == 0:\n",
    "            flag = False\n",
    "            \n",
    "    if flag == True:"
   ]
  }
 ],
 "metadata": {
  "kernelspec": {
   "display_name": "Python 3 (ipykernel)",
   "language": "python",
   "name": "python3"
  },
  "language_info": {
   "codemirror_mode": {
    "name": "ipython",
    "version": 3
   },
   "file_extension": ".py",
   "mimetype": "text/x-python",
   "name": "python",
   "nbconvert_exporter": "python",
   "pygments_lexer": "ipython3",
   "version": "3.9.12"
  }
 },
 "nbformat": 4,
 "nbformat_minor": 5
}
