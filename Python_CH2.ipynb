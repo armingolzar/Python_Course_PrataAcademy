{
 "cells": [
  {
   "cell_type": "markdown",
   "id": "d45def25",
   "metadata": {},
   "source": [
    "## Chapter2: Variables, expressions, and statements\n",
    "\n",
    "\n",
    "#### A variable is a name that refers to a value.\n",
    "\n",
    "\n",
    "#### An expression is a combination of values, variables, and operators.\n",
    "\n",
    "\n",
    "#### A statemant is a unit of code that has an effect, like creating a variable or displaying a value.\n",
    "\n",
    "\n",
    "### Values and types"
   ]
  },
  {
   "cell_type": "code",
   "execution_count": 1,
   "id": "ce78f5a5",
   "metadata": {},
   "outputs": [
    {
     "data": {
      "text/plain": [
       "2"
      ]
     },
     "execution_count": 1,
     "metadata": {},
     "output_type": "execute_result"
    }
   ],
   "source": [
    "2"
   ]
  },
  {
   "cell_type": "code",
   "execution_count": 2,
   "id": "6e9fd2ba",
   "metadata": {},
   "outputs": [
    {
     "data": {
      "text/plain": [
       "'salam'"
      ]
     },
     "execution_count": 2,
     "metadata": {},
     "output_type": "execute_result"
    }
   ],
   "source": [
    "'salam'"
   ]
  },
  {
   "cell_type": "code",
   "execution_count": 3,
   "id": "4be4e146",
   "metadata": {},
   "outputs": [
    {
     "data": {
      "text/plain": [
       "True"
      ]
     },
     "execution_count": 3,
     "metadata": {},
     "output_type": "execute_result"
    }
   ],
   "source": [
    "True"
   ]
  },
  {
   "cell_type": "code",
   "execution_count": 5,
   "id": "b3820b30",
   "metadata": {},
   "outputs": [
    {
     "data": {
      "text/plain": [
       "int"
      ]
     },
     "execution_count": 5,
     "metadata": {},
     "output_type": "execute_result"
    }
   ],
   "source": [
    "x = 2\n",
    "type(x)"
   ]
  },
  {
   "cell_type": "code",
   "execution_count": 7,
   "id": "bcfd1201",
   "metadata": {},
   "outputs": [
    {
     "data": {
      "text/plain": [
       "str"
      ]
     },
     "execution_count": 7,
     "metadata": {},
     "output_type": "execute_result"
    }
   ],
   "source": [
    "string = 'Hello World!'\n",
    "type(string)"
   ]
  },
  {
   "cell_type": "code",
   "execution_count": 8,
   "id": "0956e145",
   "metadata": {},
   "outputs": [
    {
     "data": {
      "text/plain": [
       "'Hello World!'"
      ]
     },
     "execution_count": 8,
     "metadata": {},
     "output_type": "execute_result"
    }
   ],
   "source": [
    "string"
   ]
  },
  {
   "cell_type": "code",
   "execution_count": 9,
   "id": "626bd60a",
   "metadata": {},
   "outputs": [
    {
     "data": {
      "text/plain": [
       "float"
      ]
     },
     "execution_count": 9,
     "metadata": {},
     "output_type": "execute_result"
    }
   ],
   "source": [
    "pi = 3.1415926535897931\n",
    "type(pi)"
   ]
  },
  {
   "cell_type": "code",
   "execution_count": 10,
   "id": "2dd13461",
   "metadata": {},
   "outputs": [
    {
     "name": "stdout",
     "output_type": "stream",
     "text": [
      "Type of 'x' is:  <class 'int'>\n",
      "Type of 'y' is:  <class 'str'>\n"
     ]
    }
   ],
   "source": [
    "x = 2\n",
    "y = '2'\n",
    "print(\"Type of 'x' is: \",type(x))\n",
    "print(\"Type of 'y' is: \", type(y))"
   ]
  },
  {
   "cell_type": "code",
   "execution_count": 12,
   "id": "eac934eb",
   "metadata": {},
   "outputs": [
    {
     "name": "stdout",
     "output_type": "stream",
     "text": [
      "Type of \"bl\" is:  <class 'bool'>\n",
      "Type of \"st\" is:  <class 'str'>\n"
     ]
    }
   ],
   "source": [
    "bl = True\n",
    "st = 'True'\n",
    "print('Type of \"bl\" is: ',type(bl))\n",
    "print('Type of \"st\" is: ', type(st))"
   ]
  },
  {
   "cell_type": "markdown",
   "id": "63b3c215",
   "metadata": {},
   "source": [
    "### Variable names and keywords"
   ]
  },
  {
   "cell_type": "code",
   "execution_count": 15,
   "id": "729452cb",
   "metadata": {},
   "outputs": [
    {
     "ename": "SyntaxError",
     "evalue": "invalid syntax (3381618747.py, line 1)",
     "output_type": "error",
     "traceback": [
      "\u001b[0;36m  Input \u001b[0;32mIn [15]\u001b[0;36m\u001b[0m\n\u001b[0;31m    76trombones = 'big parade'\u001b[0m\n\u001b[0m      ^\u001b[0m\n\u001b[0;31mSyntaxError\u001b[0m\u001b[0;31m:\u001b[0m invalid syntax\n"
     ]
    }
   ],
   "source": [
    "76trombones = 'big parade'"
   ]
  },
  {
   "cell_type": "code",
   "execution_count": 26,
   "id": "e707cff5",
   "metadata": {},
   "outputs": [
    {
     "ename": "SyntaxError",
     "evalue": "invalid syntax (3803549429.py, line 1)",
     "output_type": "error",
     "traceback": [
      "\u001b[0;36m  Input \u001b[0;32mIn [26]\u001b[0;36m\u001b[0m\n\u001b[0;31m    class = 'Advanced Theoretical Zymurgy'\u001b[0m\n\u001b[0m          ^\u001b[0m\n\u001b[0;31mSyntaxError\u001b[0m\u001b[0;31m:\u001b[0m invalid syntax\n"
     ]
    }
   ],
   "source": [
    "class = 'Advanced Theoretical Zymurgy'"
   ]
  },
  {
   "cell_type": "code",
   "execution_count": 1,
   "id": "b80c8e8c",
   "metadata": {},
   "outputs": [
    {
     "data": {
      "text/plain": [
       "21"
      ]
     },
     "execution_count": 1,
     "metadata": {},
     "output_type": "execute_result"
    }
   ],
   "source": [
    "a = [1, 2, 3, 4, 5, 6]\n",
    "sum(a)"
   ]
  },
  {
   "cell_type": "code",
   "execution_count": 2,
   "id": "a2151a02",
   "metadata": {},
   "outputs": [],
   "source": [
    "sum  = 'hi everyone!'"
   ]
  },
  {
   "cell_type": "code",
   "execution_count": 3,
   "id": "ebb36bf1",
   "metadata": {},
   "outputs": [
    {
     "data": {
      "text/plain": [
       "'hi everyone!'"
      ]
     },
     "execution_count": 3,
     "metadata": {},
     "output_type": "execute_result"
    }
   ],
   "source": [
    "sum"
   ]
  },
  {
   "cell_type": "code",
   "execution_count": 4,
   "id": "be5a6c7c",
   "metadata": {},
   "outputs": [
    {
     "ename": "TypeError",
     "evalue": "'str' object is not callable",
     "output_type": "error",
     "traceback": [
      "\u001b[0;31m---------------------------------------------------------------------------\u001b[0m",
      "\u001b[0;31mTypeError\u001b[0m                                 Traceback (most recent call last)",
      "Input \u001b[0;32mIn [4]\u001b[0m, in \u001b[0;36m<module>\u001b[0;34m\u001b[0m\n\u001b[0;32m----> 1\u001b[0m \u001b[38;5;28;43msum\u001b[39;49m\u001b[43m(\u001b[49m\u001b[43ma\u001b[49m\u001b[43m)\u001b[49m\n",
      "\u001b[0;31mTypeError\u001b[0m: 'str' object is not callable"
     ]
    }
   ],
   "source": [
    "sum(a)"
   ]
  },
  {
   "cell_type": "code",
   "execution_count": 8,
   "id": "8db6b260",
   "metadata": {},
   "outputs": [
    {
     "ename": "TypeError",
     "evalue": "'bool' object is not callable",
     "output_type": "error",
     "traceback": [
      "\u001b[0;31m---------------------------------------------------------------------------\u001b[0m",
      "\u001b[0;31mTypeError\u001b[0m                                 Traceback (most recent call last)",
      "Input \u001b[0;32mIn [8]\u001b[0m, in \u001b[0;36m<module>\u001b[0;34m\u001b[0m\n\u001b[0;32m----> 1\u001b[0m \u001b[38;5;28;43mmin\u001b[39;49m\u001b[43m(\u001b[49m\u001b[43ma\u001b[49m\u001b[43m)\u001b[49m, \u001b[38;5;28mmax\u001b[39m(a)\n",
      "\u001b[0;31mTypeError\u001b[0m: 'bool' object is not callable"
     ]
    }
   ],
   "source": [
    "min(a), max(a)"
   ]
  },
  {
   "cell_type": "code",
   "execution_count": 7,
   "id": "1dfc7104",
   "metadata": {},
   "outputs": [],
   "source": [
    "# min = True "
   ]
  },
  {
   "cell_type": "code",
   "execution_count": null,
   "id": "c396bd0b",
   "metadata": {},
   "outputs": [],
   "source": []
  },
  {
   "cell_type": "code",
   "execution_count": null,
   "id": "3f8475bc",
   "metadata": {},
   "outputs": [],
   "source": []
  },
  {
   "cell_type": "code",
   "execution_count": 21,
   "id": "2ed1e54d",
   "metadata": {},
   "outputs": [
    {
     "ename": "FileNotFoundError",
     "evalue": "[Errno 2] No such file or directory: '@ = 1000000'",
     "output_type": "error",
     "traceback": [
      "\u001b[0;31m---------------------------------------------------------------------------\u001b[0m",
      "\u001b[0;31mFileNotFoundError\u001b[0m                         Traceback (most recent call last)",
      "Input \u001b[0;32mIn [21]\u001b[0m, in \u001b[0;36m<module>\u001b[0;34m\u001b[0m\n\u001b[0;32m----> 1\u001b[0m \u001b[43mget_ipython\u001b[49m\u001b[43m(\u001b[49m\u001b[43m)\u001b[49m\u001b[38;5;241;43m.\u001b[39;49m\u001b[43mrun_line_magic\u001b[49m\u001b[43m(\u001b[49m\u001b[38;5;124;43m'\u001b[39;49m\u001b[38;5;124;43mmore\u001b[39;49m\u001b[38;5;124;43m'\u001b[39;49m\u001b[43m,\u001b[49m\u001b[43m \u001b[49m\u001b[38;5;124;43m'\u001b[39;49m\u001b[38;5;124;43m@ = 1000000\u001b[39;49m\u001b[38;5;124;43m'\u001b[39;49m\u001b[43m)\u001b[49m\n",
      "File \u001b[0;32m/usr/local/lib/python3.9/site-packages/IPython/core/interactiveshell.py:2204\u001b[0m, in \u001b[0;36mInteractiveShell.run_line_magic\u001b[0;34m(self, magic_name, line, _stack_depth)\u001b[0m\n\u001b[1;32m   2202\u001b[0m     kwargs[\u001b[38;5;124m'\u001b[39m\u001b[38;5;124mlocal_ns\u001b[39m\u001b[38;5;124m'\u001b[39m] \u001b[38;5;241m=\u001b[39m \u001b[38;5;28mself\u001b[39m\u001b[38;5;241m.\u001b[39mget_local_scope(stack_depth)\n\u001b[1;32m   2203\u001b[0m \u001b[38;5;28;01mwith\u001b[39;00m \u001b[38;5;28mself\u001b[39m\u001b[38;5;241m.\u001b[39mbuiltin_trap:\n\u001b[0;32m-> 2204\u001b[0m     result \u001b[38;5;241m=\u001b[39m \u001b[43mfn\u001b[49m\u001b[43m(\u001b[49m\u001b[38;5;241;43m*\u001b[39;49m\u001b[43margs\u001b[49m\u001b[43m,\u001b[49m\u001b[43m \u001b[49m\u001b[38;5;241;43m*\u001b[39;49m\u001b[38;5;241;43m*\u001b[39;49m\u001b[43mkwargs\u001b[49m\u001b[43m)\u001b[49m\n\u001b[1;32m   2205\u001b[0m \u001b[38;5;28;01mreturn\u001b[39;00m result\n",
      "File \u001b[0;32m/usr/local/lib/python3.9/site-packages/ipykernel/zmqshell.py:338\u001b[0m, in \u001b[0;36mKernelMagics.less\u001b[0;34m(self, arg_s)\u001b[0m\n\u001b[1;32m    336\u001b[0m     cont \u001b[38;5;241m=\u001b[39m \u001b[38;5;28mself\u001b[39m\u001b[38;5;241m.\u001b[39mshell\u001b[38;5;241m.\u001b[39mpycolorize(openpy\u001b[38;5;241m.\u001b[39mread_py_file(arg_s, skip_encoding_cookie\u001b[38;5;241m=\u001b[39m\u001b[38;5;28;01mFalse\u001b[39;00m))\n\u001b[1;32m    337\u001b[0m \u001b[38;5;28;01melse\u001b[39;00m:\n\u001b[0;32m--> 338\u001b[0m     cont \u001b[38;5;241m=\u001b[39m \u001b[38;5;28;43mopen\u001b[39;49m\u001b[43m(\u001b[49m\u001b[43marg_s\u001b[49m\u001b[43m)\u001b[49m\u001b[38;5;241m.\u001b[39mread()\n\u001b[1;32m    339\u001b[0m page\u001b[38;5;241m.\u001b[39mpage(cont)\n",
      "\u001b[0;31mFileNotFoundError\u001b[0m: [Errno 2] No such file or directory: '@ = 1000000'"
     ]
    }
   ],
   "source": [
    "more@ = 1000000"
   ]
  },
  {
   "cell_type": "markdown",
   "id": "36718337",
   "metadata": {},
   "source": [
    "#### Python reserves 35 keywords:\n",
    "\n",
    "***and, del, from, as,        elif,      global, assert,    else,      if, break,     except,    import, class, False,     in,\n",
    "continue,  finally,   is,\n",
    "def,       for,       lambda,\n",
    "None,      True,\n",
    "nonlocal,  try,\n",
    "not,       while,\n",
    "or,        with,\n",
    "pass,      yield,\n",
    "raise,     async,\n",
    "return,    await***\n",
    "\n",
    "### Operators and operands\n",
    "\n",
    "main operators:\n",
    "\n",
    "```+, -, *, /, **```\n",
    "\n",
    "modulus operators:\n",
    "\n",
    "``` %, //```\n",
    "\n",
    "\n",
    "In python3:\n"
   ]
  },
  {
   "cell_type": "code",
   "execution_count": 3,
   "id": "48e30c06",
   "metadata": {},
   "outputs": [
    {
     "data": {
      "text/plain": [
       "0.6666666666666666"
      ]
     },
     "execution_count": 3,
     "metadata": {},
     "output_type": "execute_result"
    }
   ],
   "source": [
    "2/3"
   ]
  },
  {
   "cell_type": "code",
   "execution_count": 13,
   "id": "f74088e7",
   "metadata": {},
   "outputs": [
    {
     "data": {
      "text/plain": [
       "0"
      ]
     },
     "execution_count": 13,
     "metadata": {},
     "output_type": "execute_result"
    }
   ],
   "source": [
    "2//3"
   ]
  },
  {
   "cell_type": "code",
   "execution_count": 7,
   "id": "f7384510",
   "metadata": {},
   "outputs": [
    {
     "data": {
      "text/plain": [
       "(1, 3)"
      ]
     },
     "execution_count": 7,
     "metadata": {},
     "output_type": "execute_result"
    }
   ],
   "source": [
    "10//7, 10%7"
   ]
  },
  {
   "cell_type": "code",
   "execution_count": null,
   "id": "4f0562c8",
   "metadata": {},
   "outputs": [],
   "source": []
  },
  {
   "cell_type": "code",
   "execution_count": null,
   "id": "7b9bfdc0",
   "metadata": {},
   "outputs": [],
   "source": []
  },
  {
   "cell_type": "markdown",
   "id": "726167fa",
   "metadata": {},
   "source": [
    "String operations:\n",
    "- concatenation ```+```\n",
    "- multiplication ``` * ```"
   ]
  },
  {
   "cell_type": "code",
   "execution_count": 8,
   "id": "a87affa3",
   "metadata": {},
   "outputs": [
    {
     "data": {
      "text/plain": [
       "200"
      ]
     },
     "execution_count": 8,
     "metadata": {},
     "output_type": "execute_result"
    }
   ],
   "source": [
    "first = 50; second = 150\n",
    "first + second"
   ]
  },
  {
   "cell_type": "code",
   "execution_count": 9,
   "id": "8115c27c",
   "metadata": {},
   "outputs": [
    {
     "ename": "TypeError",
     "evalue": "can only concatenate str (not \"int\") to str",
     "output_type": "error",
     "traceback": [
      "\u001b[0;31m---------------------------------------------------------------------------\u001b[0m",
      "\u001b[0;31mTypeError\u001b[0m                                 Traceback (most recent call last)",
      "Input \u001b[0;32mIn [9]\u001b[0m, in \u001b[0;36m<module>\u001b[0;34m\u001b[0m\n\u001b[1;32m      1\u001b[0m first \u001b[38;5;241m=\u001b[39m \u001b[38;5;124m'\u001b[39m\u001b[38;5;124m50\u001b[39m\u001b[38;5;124m'\u001b[39m; second \u001b[38;5;241m=\u001b[39m \u001b[38;5;241m150\u001b[39m\n\u001b[0;32m----> 2\u001b[0m \u001b[43mfirst\u001b[49m\u001b[43m \u001b[49m\u001b[38;5;241;43m+\u001b[39;49m\u001b[43m \u001b[49m\u001b[43msecond\u001b[49m\n",
      "\u001b[0;31mTypeError\u001b[0m: can only concatenate str (not \"int\") to str"
     ]
    }
   ],
   "source": [
    "first = '50'; second = 150\n",
    "first + second"
   ]
  },
  {
   "cell_type": "code",
   "execution_count": 11,
   "id": "c2f43c5b",
   "metadata": {},
   "outputs": [
    {
     "data": {
      "text/plain": [
       "(2, int)"
      ]
     },
     "execution_count": 11,
     "metadata": {},
     "output_type": "execute_result"
    }
   ],
   "source": [
    "x = int('2')\n",
    "x, type(x)"
   ]
  },
  {
   "cell_type": "code",
   "execution_count": null,
   "id": "507a1a15",
   "metadata": {},
   "outputs": [],
   "source": []
  },
  {
   "cell_type": "code",
   "execution_count": null,
   "id": "3d777acb",
   "metadata": {},
   "outputs": [],
   "source": []
  },
  {
   "cell_type": "code",
   "execution_count": 12,
   "id": "149cb5ef",
   "metadata": {},
   "outputs": [
    {
     "name": "stdout",
     "output_type": "stream",
     "text": [
      "200\n"
     ]
    }
   ],
   "source": [
    "print(int(first) + second)"
   ]
  },
  {
   "cell_type": "code",
   "execution_count": 17,
   "id": "b7c446a2",
   "metadata": {},
   "outputs": [
    {
     "name": "stdout",
     "output_type": "stream",
     "text": [
      "50150\n"
     ]
    }
   ],
   "source": [
    "print(first + str(second))"
   ]
  },
  {
   "cell_type": "code",
   "execution_count": 13,
   "id": "70688e09",
   "metadata": {},
   "outputs": [
    {
     "data": {
      "text/plain": [
       "(200, 200)"
      ]
     },
     "execution_count": 13,
     "metadata": {},
     "output_type": "execute_result"
    }
   ],
   "source": [
    "50+150, 150+50"
   ]
  },
  {
   "cell_type": "code",
   "execution_count": null,
   "id": "5e96d2eb",
   "metadata": {},
   "outputs": [],
   "source": []
  },
  {
   "cell_type": "code",
   "execution_count": null,
   "id": "6fcacea3",
   "metadata": {},
   "outputs": [],
   "source": []
  },
  {
   "cell_type": "code",
   "execution_count": 14,
   "id": "8d8392e5",
   "metadata": {},
   "outputs": [
    {
     "data": {
      "text/plain": [
       "'501000'"
      ]
     },
     "execution_count": 14,
     "metadata": {},
     "output_type": "execute_result"
    }
   ],
   "source": [
    "first = '50'; second = '1000'\n",
    "first + second"
   ]
  },
  {
   "cell_type": "code",
   "execution_count": 19,
   "id": "5dc12d19",
   "metadata": {},
   "outputs": [
    {
     "data": {
      "text/plain": [
       "'100050'"
      ]
     },
     "execution_count": 19,
     "metadata": {},
     "output_type": "execute_result"
    }
   ],
   "source": [
    "second + first "
   ]
  },
  {
   "cell_type": "code",
   "execution_count": 15,
   "id": "516b582b",
   "metadata": {},
   "outputs": [],
   "source": [
    "first_name = 'Amin'\n",
    "last_name = 'Oroji'"
   ]
  },
  {
   "cell_type": "code",
   "execution_count": 18,
   "id": "3b9cc22a",
   "metadata": {},
   "outputs": [
    {
     "data": {
      "text/plain": [
       "'Amin Oroji'"
      ]
     },
     "execution_count": 18,
     "metadata": {},
     "output_type": "execute_result"
    }
   ],
   "source": [
    "first_name + ' ' + last_name"
   ]
  },
  {
   "cell_type": "code",
   "execution_count": null,
   "id": "41d3b404",
   "metadata": {},
   "outputs": [],
   "source": []
  },
  {
   "cell_type": "code",
   "execution_count": 20,
   "id": "2fd2c3b3",
   "metadata": {},
   "outputs": [
    {
     "name": "stdout",
     "output_type": "stream",
     "text": [
      "first * second is:  505050\n",
      "second * first is:  505050\n"
     ]
    }
   ],
   "source": [
    "first = '50'; second = 3\n",
    "print('first * second is: ', first * second)\n",
    "print('second * first is: ', second * first)"
   ]
  },
  {
   "cell_type": "code",
   "execution_count": 19,
   "id": "930e5230",
   "metadata": {},
   "outputs": [
    {
     "data": {
      "text/plain": [
       "(150, 150)"
      ]
     },
     "execution_count": 19,
     "metadata": {},
     "output_type": "execute_result"
    }
   ],
   "source": [
    "50 * 3, 3*50"
   ]
  },
  {
   "cell_type": "code",
   "execution_count": null,
   "id": "5a3fd543",
   "metadata": {},
   "outputs": [],
   "source": []
  },
  {
   "cell_type": "code",
   "execution_count": 21,
   "id": "cb4e4318",
   "metadata": {},
   "outputs": [
    {
     "ename": "TypeError",
     "evalue": "can't multiply sequence by non-int of type 'str'",
     "output_type": "error",
     "traceback": [
      "\u001b[0;31m---------------------------------------------------------------------------\u001b[0m",
      "\u001b[0;31mTypeError\u001b[0m                                 Traceback (most recent call last)",
      "Input \u001b[0;32mIn [21]\u001b[0m, in \u001b[0;36m<module>\u001b[0;34m\u001b[0m\n\u001b[1;32m      1\u001b[0m first \u001b[38;5;241m=\u001b[39m \u001b[38;5;124m'\u001b[39m\u001b[38;5;124m50\u001b[39m\u001b[38;5;124m'\u001b[39m; second \u001b[38;5;241m=\u001b[39m \u001b[38;5;124m'\u001b[39m\u001b[38;5;124m3\u001b[39m\u001b[38;5;124m'\u001b[39m\n\u001b[0;32m----> 2\u001b[0m \u001b[43mfirst\u001b[49m\u001b[43m \u001b[49m\u001b[38;5;241;43m*\u001b[39;49m\u001b[43m \u001b[49m\u001b[43msecond\u001b[49m\n",
      "\u001b[0;31mTypeError\u001b[0m: can't multiply sequence by non-int of type 'str'"
     ]
    }
   ],
   "source": [
    "first = '50'; second = '3'\n",
    "first * second"
   ]
  },
  {
   "cell_type": "code",
   "execution_count": 23,
   "id": "04bb0390",
   "metadata": {},
   "outputs": [
    {
     "data": {
      "text/plain": [
       "('505050', '505050')"
      ]
     },
     "execution_count": 23,
     "metadata": {},
     "output_type": "execute_result"
    }
   ],
   "source": [
    "3 * first, first * 3"
   ]
  },
  {
   "cell_type": "code",
   "execution_count": null,
   "id": "9fea17f3",
   "metadata": {},
   "outputs": [],
   "source": []
  },
  {
   "cell_type": "markdown",
   "id": "9e1ed6aa",
   "metadata": {},
   "source": [
    "### Asking the user for input"
   ]
  },
  {
   "cell_type": "code",
   "execution_count": 26,
   "id": "45f8b599",
   "metadata": {},
   "outputs": [
    {
     "name": "stdout",
     "output_type": "stream",
     "text": [
      "What is your name?\n",
      "Sahar\n"
     ]
    }
   ],
   "source": [
    "name = input('What is your name?\\n')"
   ]
  },
  {
   "cell_type": "code",
   "execution_count": 27,
   "id": "1764e446",
   "metadata": {},
   "outputs": [
    {
     "name": "stdout",
     "output_type": "stream",
     "text": [
      "Sahar\n"
     ]
    }
   ],
   "source": [
    "print(name)"
   ]
  },
  {
   "cell_type": "code",
   "execution_count": 30,
   "id": "e4d91b59",
   "metadata": {},
   "outputs": [
    {
     "name": "stdout",
     "output_type": "stream",
     "text": [
      "Please inter the first integer\n",
      "7\n",
      "Please inter the second integer\n",
      "120\n",
      "first + second= 127\n",
      "first * second= 840\n"
     ]
    }
   ],
   "source": [
    "first = int(input('Please inter the first integer\\n'))\n",
    "second = int(input('Please inter the second integer\\n'))\n",
    "print('first + second=', first + second)\n",
    "print('first * second=', first * second)\n"
   ]
  },
  {
   "cell_type": "code",
   "execution_count": 33,
   "id": "0dda5ec0",
   "metadata": {},
   "outputs": [
    {
     "name": "stdout",
     "output_type": "stream",
     "text": [
      "Please inter your first name\n",
      "Armin\n",
      "Please inter your last name\n",
      "Golzar\n",
      "Please inter your school name\n",
      "PNU\n",
      "Please inter your Age\n",
      "20\n",
      "Please inter your Gender\n",
      "M\n"
     ]
    }
   ],
   "source": [
    "first = input('Please inter your first name\\n')\n",
    "last = input('Please inter your last name\\n')\n",
    "school = input('Please inter your school name\\n')\n",
    "age = input('Please inter your Age\\n')\n",
    "gender = input('Please inter your Gender\\n')"
   ]
  },
  {
   "cell_type": "code",
   "execution_count": 34,
   "id": "cc6ae08e",
   "metadata": {},
   "outputs": [
    {
     "data": {
      "text/plain": [
       "'20'"
      ]
     },
     "execution_count": 34,
     "metadata": {},
     "output_type": "execute_result"
    }
   ],
   "source": [
    "age"
   ]
  },
  {
   "cell_type": "code",
   "execution_count": 35,
   "id": "e1b4ea40",
   "metadata": {},
   "outputs": [
    {
     "name": "stdout",
     "output_type": "stream",
     "text": [
      "My name is  Armin Golzar,\n",
      "I have  20 years old,\n",
      "I'm  M,\n",
      "Finally, I'm studing at PNU.\n"
     ]
    }
   ],
   "source": [
    "print('My name is ', first + ' ' + last + ',')\n",
    "print('I have ', age, 'years old,')\n",
    "print(\"I'm \", gender + ',')\n",
    "print(\"Finally, I'm studing at\", school + '.')"
   ]
  },
  {
   "cell_type": "markdown",
   "id": "d72e2d16",
   "metadata": {},
   "source": [
    "#### Comments"
   ]
  },
  {
   "cell_type": "code",
   "execution_count": 40,
   "id": "96f6bded",
   "metadata": {},
   "outputs": [],
   "source": [
    "# compute the mltiplication of first and second\n",
    "mul = first * second  # first mulyiply by second\n"
   ]
  },
  {
   "cell_type": "markdown",
   "id": "51a34236",
   "metadata": {},
   "source": [
    "#### Choosing mnemonic variable names"
   ]
  },
  {
   "cell_type": "code",
   "execution_count": 28,
   "id": "72d7863f",
   "metadata": {},
   "outputs": [
    {
     "name": "stdout",
     "output_type": "stream",
     "text": [
      "437.5\n"
     ]
    }
   ],
   "source": [
    "hours = 35.0 # hours of employment\n",
    "rate = 12.50  # rate of the peyment\n",
    "pay = hours * rate # total peyment\n",
    "print(pay)"
   ]
  },
  {
   "cell_type": "code",
   "execution_count": 29,
   "id": "3a2db75e",
   "metadata": {},
   "outputs": [
    {
     "name": "stdout",
     "output_type": "stream",
     "text": [
      "437.5\n"
     ]
    }
   ],
   "source": [
    "x1q3z9ahd = 35.0\n",
    "x1q3z9afd = 12.50\n",
    "x1q3p9afd = x1q3z9ahd * x1q3z9afd\n",
    "print(x1q3p9afd)"
   ]
  },
  {
   "cell_type": "markdown",
   "id": "662cbfb9",
   "metadata": {},
   "source": [
    "#### Exercise\n",
    "1. Take the radius of a circle and calculate the area of that circle. \n",
    "\n",
    "2. Calculate the valume of a rectangle based on its length, width and height.\n",
    "\n",
    "3. Calculate the valume of a sphare."
   ]
  },
  {
   "cell_type": "code",
   "execution_count": 41,
   "id": "e766c166",
   "metadata": {},
   "outputs": [
    {
     "name": "stdout",
     "output_type": "stream",
     "text": [
      "Enter diameter: 10\n",
      "Area is:  78.5\n"
     ]
    }
   ],
   "source": [
    "diameter = input('Enter diameter: ') # input is the circle diameter\n",
    "radius = int(diameter)/2             # calculate radius as an integer\n",
    "pi = 3.14                            # pi as a constant\n",
    "area = pi * radius ** 2              # calculate the area\n",
    "print('Area is: ',area)              # print area"
   ]
  },
  {
   "cell_type": "code",
   "execution_count": null,
   "id": "0af536f3",
   "metadata": {},
   "outputs": [],
   "source": []
  }
 ],
 "metadata": {
  "kernelspec": {
   "display_name": "Python 3 (ipykernel)",
   "language": "python",
   "name": "python3"
  },
  "language_info": {
   "codemirror_mode": {
    "name": "ipython",
    "version": 3
   },
   "file_extension": ".py",
   "mimetype": "text/x-python",
   "name": "python",
   "nbconvert_exporter": "python",
   "pygments_lexer": "ipython3",
   "version": "3.9.6"
  }
 },
 "nbformat": 4,
 "nbformat_minor": 5
}
