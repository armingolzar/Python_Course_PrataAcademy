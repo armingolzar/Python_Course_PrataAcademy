{
 "cells": [
  {
   "cell_type": "markdown",
   "id": "63e2aa54",
   "metadata": {},
   "source": [
    "# Chapter 9: Dictionary\n",
    "\n",
    "A dictionary is like a list, but more general. In a list, the index positions have to be integers; in a dictionary, the indices can be (almost) any type. In each pir the first and second elements are called **key** and **value** respectively. "
   ]
  },
  {
   "cell_type": "code",
   "execution_count": 1,
   "id": "b668098b",
   "metadata": {},
   "outputs": [
    {
     "name": "stdout",
     "output_type": "stream",
     "text": [
      "{}\n"
     ]
    }
   ],
   "source": [
    "employees = dict()\n",
    "print(employees)"
   ]
  },
  {
   "cell_type": "code",
   "execution_count": 2,
   "id": "2546a290",
   "metadata": {},
   "outputs": [
    {
     "data": {
      "text/plain": [
       "{'CEO': 'Amin',\n",
       " 'IT Support': 'Milad',\n",
       " 'DM Manager': 'Sahar',\n",
       " 'AI Eng': 'Armin',\n",
       " 'Graphic Designer': 'Raana',\n",
       " 'UX Designer': 'Narges'}"
      ]
     },
     "execution_count": 2,
     "metadata": {},
     "output_type": "execute_result"
    }
   ],
   "source": [
    "employees = {'CEO':'Amin', 'IT Support': 'Milad', 'DM Manager': 'Sahar', 'AI Eng': 'Armin',\n",
    "            'Graphic Designer':'Raana', 'UX Designer':'Narges'\n",
    "           }\n",
    "employees"
   ]
  },
  {
   "cell_type": "code",
   "execution_count": 3,
   "id": "4b00a5a2",
   "metadata": {},
   "outputs": [
    {
     "data": {
      "text/plain": [
       "6"
      ]
     },
     "execution_count": 3,
     "metadata": {},
     "output_type": "execute_result"
    }
   ],
   "source": [
    "len(employees)"
   ]
  },
  {
   "cell_type": "code",
   "execution_count": 4,
   "id": "189b3335",
   "metadata": {},
   "outputs": [
    {
     "data": {
      "text/plain": [
       "'Amin'"
      ]
     },
     "execution_count": 4,
     "metadata": {},
     "output_type": "execute_result"
    }
   ],
   "source": [
    "employees['CEO']"
   ]
  },
  {
   "cell_type": "code",
   "execution_count": 5,
   "id": "d75d249c",
   "metadata": {},
   "outputs": [
    {
     "ename": "KeyError",
     "evalue": "'Amin'",
     "output_type": "error",
     "traceback": [
      "\u001b[0;31m---------------------------------------------------------------------------\u001b[0m",
      "\u001b[0;31mKeyError\u001b[0m                                  Traceback (most recent call last)",
      "Cell \u001b[0;32mIn[5], line 1\u001b[0m\n\u001b[0;32m----> 1\u001b[0m \u001b[43memployees\u001b[49m\u001b[43m[\u001b[49m\u001b[38;5;124;43m'\u001b[39;49m\u001b[38;5;124;43mAmin\u001b[39;49m\u001b[38;5;124;43m'\u001b[39;49m\u001b[43m]\u001b[49m\n",
      "\u001b[0;31mKeyError\u001b[0m: 'Amin'"
     ]
    }
   ],
   "source": [
    "employees['Amin']"
   ]
  },
  {
   "cell_type": "code",
   "execution_count": 6,
   "id": "116a4c2a",
   "metadata": {},
   "outputs": [
    {
     "data": {
      "text/plain": [
       "True"
      ]
     },
     "execution_count": 6,
     "metadata": {},
     "output_type": "execute_result"
    }
   ],
   "source": [
    "'CEO' in employees"
   ]
  },
  {
   "cell_type": "code",
   "execution_count": 7,
   "id": "6518e6e0",
   "metadata": {},
   "outputs": [
    {
     "data": {
      "text/plain": [
       "False"
      ]
     },
     "execution_count": 7,
     "metadata": {},
     "output_type": "execute_result"
    }
   ],
   "source": [
    "'Amin' in employees"
   ]
  },
  {
   "cell_type": "code",
   "execution_count": 8,
   "id": "09608fe0",
   "metadata": {},
   "outputs": [
    {
     "name": "stdout",
     "output_type": "stream",
     "text": [
      "Amin is CEO at Prata Technology\n",
      "Milad is IT Support at Prata Technology\n",
      "Sahar is DM Manager at Prata Technology\n",
      "Armin is AI Eng at Prata Technology\n",
      "Raana is Graphic Designer at Prata Technology\n",
      "Narges is UX Designer at Prata Technology\n"
     ]
    }
   ],
   "source": [
    "for employee in employees:\n",
    "    print(\"%s is %s at Prata Technology\" % (employees[employee], employee))"
   ]
  },
  {
   "cell_type": "code",
   "execution_count": null,
   "id": "d9e357ce",
   "metadata": {},
   "outputs": [],
   "source": [
    "list(employees.keys())"
   ]
  },
  {
   "cell_type": "code",
   "execution_count": null,
   "id": "cad4f228",
   "metadata": {},
   "outputs": [],
   "source": [
    "[employee for employee in employees]"
   ]
  },
  {
   "cell_type": "code",
   "execution_count": null,
   "id": "15261606",
   "metadata": {},
   "outputs": [],
   "source": [
    "list(employees.values())"
   ]
  },
  {
   "cell_type": "markdown",
   "id": "98f37595",
   "metadata": {},
   "source": [
    "### Dictionary as a counter"
   ]
  },
  {
   "cell_type": "code",
   "execution_count": null,
   "id": "8d66e30f",
   "metadata": {},
   "outputs": [],
   "source": [
    "while True:\n",
    "    word = input()\n",
    "    if word == 'done': break\n",
    "    d = dict()\n",
    "    for c in word:\n",
    "        if c not in d: \n",
    "            d[c] = 1\n",
    "        else:\n",
    "            d[c] = d[c] + 1\n",
    "    print(d)"
   ]
  },
  {
   "cell_type": "markdown",
   "id": "1696d604",
   "metadata": {},
   "source": [
    "## Exe: take an string and count the number of spaces."
   ]
  },
  {
   "cell_type": "code",
   "execution_count": null,
   "id": "160502c8",
   "metadata": {},
   "outputs": [],
   "source": [
    "dir(d)"
   ]
  },
  {
   "cell_type": "code",
   "execution_count": null,
   "id": "ea67b926",
   "metadata": {},
   "outputs": [],
   "source": [
    "new_d = d.items()\n",
    "new_d"
   ]
  },
  {
   "cell_type": "code",
   "execution_count": null,
   "id": "7c06f9be",
   "metadata": {},
   "outputs": [],
   "source": [
    "lst = list(d.items())\n",
    "lst"
   ]
  },
  {
   "cell_type": "code",
   "execution_count": null,
   "id": "7c80a7fd",
   "metadata": {},
   "outputs": [],
   "source": [
    "lst[5][1]"
   ]
  },
  {
   "cell_type": "code",
   "execution_count": null,
   "id": "0116bd5e",
   "metadata": {},
   "outputs": [],
   "source": []
  },
  {
   "cell_type": "code",
   "execution_count": null,
   "id": "bf4fd03d",
   "metadata": {},
   "outputs": [],
   "source": [
    "employees.get('CEO', 4)"
   ]
  },
  {
   "cell_type": "code",
   "execution_count": null,
   "id": "5a576713",
   "metadata": {},
   "outputs": [],
   "source": [
    "employees.get('CEo', 4)"
   ]
  },
  {
   "cell_type": "code",
   "execution_count": null,
   "id": "1c5e3290",
   "metadata": {},
   "outputs": [],
   "source": []
  }
 ],
 "metadata": {
  "kernelspec": {
   "display_name": "Python 3 (ipykernel)",
   "language": "python",
   "name": "python3"
  },
  "language_info": {
   "codemirror_mode": {
    "name": "ipython",
    "version": 3
   },
   "file_extension": ".py",
   "mimetype": "text/x-python",
   "name": "python",
   "nbconvert_exporter": "python",
   "pygments_lexer": "ipython3",
   "version": "3.10.9"
  }
 },
 "nbformat": 4,
 "nbformat_minor": 5
}
