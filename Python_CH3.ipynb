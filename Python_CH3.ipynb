{
 "cells": [
  {
   "cell_type": "markdown",
   "id": "5802beee",
   "metadata": {},
   "source": [
    "# Chapter3: Conditional Expressions\n",
    "\n",
    "## Comparison Operators"
   ]
  },
  {
   "cell_type": "code",
   "execution_count": null,
   "id": "cee66032",
   "metadata": {},
   "outputs": [],
   "source": [
    "x == y           # x is equal to y \n",
    "x!=y             # x is not equal to y\n",
    "x>y              # x is greater than y \n",
    "x<y              # x is less than y\n",
    "x>=y             # x is greater than or equal to y \n",
    "x<=y             # x is less than or equal to y \n",
    "x is y           # x is the same as y\n",
    "x is not y       # x is not the same as y"
   ]
  },
  {
   "cell_type": "code",
   "execution_count": 7,
   "id": "f4de9911",
   "metadata": {},
   "outputs": [],
   "source": [
    "x = 5; y = 5"
   ]
  },
  {
   "cell_type": "code",
   "execution_count": 8,
   "id": "e1286912",
   "metadata": {},
   "outputs": [
    {
     "data": {
      "text/plain": [
       "True"
      ]
     },
     "execution_count": 8,
     "metadata": {},
     "output_type": "execute_result"
    }
   ],
   "source": [
    "x is y"
   ]
  },
  {
   "cell_type": "code",
   "execution_count": 9,
   "id": "f262aa85",
   "metadata": {},
   "outputs": [
    {
     "data": {
      "text/plain": [
       "True"
      ]
     },
     "execution_count": 9,
     "metadata": {},
     "output_type": "execute_result"
    }
   ],
   "source": [
    "x == y"
   ]
  },
  {
   "cell_type": "code",
   "execution_count": 12,
   "id": "3af2ecbf",
   "metadata": {},
   "outputs": [
    {
     "data": {
      "text/plain": [
       "True"
      ]
     },
     "execution_count": 12,
     "metadata": {},
     "output_type": "execute_result"
    }
   ],
   "source": [
    "x = 'python' ; y = 'python'\n",
    "x is y"
   ]
  },
  {
   "cell_type": "code",
   "execution_count": 13,
   "id": "8650f8ae",
   "metadata": {},
   "outputs": [
    {
     "data": {
      "text/plain": [
       "True"
      ]
     },
     "execution_count": 13,
     "metadata": {},
     "output_type": "execute_result"
    }
   ],
   "source": [
    "x == y"
   ]
  },
  {
   "cell_type": "code",
   "execution_count": 14,
   "id": "b4c990c6",
   "metadata": {},
   "outputs": [
    {
     "data": {
      "text/plain": [
       "True"
      ]
     },
     "execution_count": 14,
     "metadata": {},
     "output_type": "execute_result"
    }
   ],
   "source": [
    "x = 2.0\n",
    "y = 2.0\n",
    "x == y"
   ]
  },
  {
   "cell_type": "code",
   "execution_count": 15,
   "id": "43647be1",
   "metadata": {},
   "outputs": [
    {
     "data": {
      "text/plain": [
       "False"
      ]
     },
     "execution_count": 15,
     "metadata": {},
     "output_type": "execute_result"
    }
   ],
   "source": [
    "x is y"
   ]
  },
  {
   "cell_type": "code",
   "execution_count": 16,
   "id": "63e24564",
   "metadata": {},
   "outputs": [
    {
     "data": {
      "text/plain": [
       "True"
      ]
     },
     "execution_count": 16,
     "metadata": {},
     "output_type": "execute_result"
    }
   ],
   "source": [
    "x = [1,2,3]\n",
    "y = [1,2,3]\n",
    "x == y"
   ]
  },
  {
   "cell_type": "code",
   "execution_count": 18,
   "id": "69bad413",
   "metadata": {},
   "outputs": [
    {
     "data": {
      "text/plain": [
       "True"
      ]
     },
     "execution_count": 18,
     "metadata": {},
     "output_type": "execute_result"
    }
   ],
   "source": [
    "x is not y"
   ]
  },
  {
   "cell_type": "markdown",
   "id": "95bc8740",
   "metadata": {},
   "source": [
    "### Question: what is the difference between 'is' and '=='?"
   ]
  },
  {
   "cell_type": "markdown",
   "id": "8ab181d1",
   "metadata": {},
   "source": [
    "#### Logical Operators\n",
    "There are three logical operators\n",
    "- and (&)\n",
    "- or (|)\n",
    "- not (~)"
   ]
  },
  {
   "cell_type": "markdown",
   "id": "f5860b64",
   "metadata": {},
   "source": [
    "## Introduction to the Binary Logic"
   ]
  },
  {
   "cell_type": "code",
   "execution_count": null,
   "id": "a1fd5630",
   "metadata": {},
   "outputs": [],
   "source": []
  },
  {
   "cell_type": "markdown",
   "id": "98914d47",
   "metadata": {},
   "source": [
    "p = x > 5\n",
    "q = y % 3 == 0"
   ]
  },
  {
   "cell_type": "code",
   "execution_count": 21,
   "id": "68536332",
   "metadata": {},
   "outputs": [
    {
     "name": "stdout",
     "output_type": "stream",
     "text": [
      "Enter an integer12\n",
      "Enter another integer20\n",
      "True\n",
      "False\n"
     ]
    }
   ],
   "source": [
    "x = input('Enter an integer: ')\n",
    "y = input('Enter another integer: ')\n",
    "print(int(x) > 5)\n",
    "print(int(y) % 3 == 0)"
   ]
  },
  {
   "cell_type": "code",
   "execution_count": 24,
   "id": "6beb9706",
   "metadata": {},
   "outputs": [
    {
     "name": "stdout",
     "output_type": "stream",
     "text": [
      "True\n"
     ]
    }
   ],
   "source": [
    "print((int(x) > 5) | (int(y) % 3 == 0))"
   ]
  },
  {
   "cell_type": "code",
   "execution_count": 25,
   "id": "7899e9ce",
   "metadata": {},
   "outputs": [
    {
     "name": "stdout",
     "output_type": "stream",
     "text": [
      "False\n"
     ]
    }
   ],
   "source": [
    "print(~ int(x) > 5) "
   ]
  },
  {
   "cell_type": "markdown",
   "id": "4290f397",
   "metadata": {},
   "source": [
    "## Conditional Execution:"
   ]
  },
  {
   "cell_type": "code",
   "execution_count": 30,
   "id": "99be8a38",
   "metadata": {},
   "outputs": [
    {
     "name": "stdout",
     "output_type": "stream",
     "text": [
      "Enter and integer: 55\n",
      "Enter and integer: 2\n",
      "x is very large.\n",
      "Done!\n",
      "well done!\n"
     ]
    }
   ],
   "source": [
    "x = input('Enter and integer: ')\n",
    "y = input('Enter and integer: ')\n",
    "\n",
    "if (int(x) >= 50) & (int(y) <= 10):\n",
    "    print('x is very large.')\n",
    "    print('Done!')\n",
    "    print('well done!')"
   ]
  },
  {
   "cell_type": "code",
   "execution_count": 29,
   "id": "5792d65b",
   "metadata": {},
   "outputs": [
    {
     "data": {
      "text/plain": [
       "(True, False)"
      ]
     },
     "execution_count": 29,
     "metadata": {},
     "output_type": "execute_result"
    }
   ],
   "source": [
    "('55' >= '50', '2' <= '10')"
   ]
  },
  {
   "cell_type": "markdown",
   "id": "e3e852ae",
   "metadata": {},
   "source": [
    "### Question: Why ('2' <= '10') is False?"
   ]
  },
  {
   "cell_type": "code",
   "execution_count": 32,
   "id": "1e169bc3",
   "metadata": {},
   "outputs": [
    {
     "data": {
      "text/plain": [
       "True"
      ]
     },
     "execution_count": 32,
     "metadata": {},
     "output_type": "execute_result"
    }
   ],
   "source": [
    "('23' > '199999999')"
   ]
  },
  {
   "cell_type": "code",
   "execution_count": 33,
   "id": "a1a50662",
   "metadata": {},
   "outputs": [
    {
     "data": {
      "text/plain": [
       "True"
      ]
     },
     "execution_count": 33,
     "metadata": {},
     "output_type": "execute_result"
    }
   ],
   "source": [
    "('a' > 'A')"
   ]
  },
  {
   "cell_type": "code",
   "execution_count": null,
   "id": "0429c358",
   "metadata": {},
   "outputs": [],
   "source": [
    "# use user values for the logical comparison\n",
    "x = int(input('Enter and integer: '))\n",
    "y = int(input('Enter and integer: '))\n",
    "s = (x > 50) & (y < 10)\n",
    "print(type(s),s)"
   ]
  },
  {
   "cell_type": "markdown",
   "id": "7a103000",
   "metadata": {},
   "source": [
    "## Alternative Execution"
   ]
  },
  {
   "cell_type": "code",
   "execution_count": 2,
   "id": "2cf982e4",
   "metadata": {},
   "outputs": [
    {
     "name": "stdout",
     "output_type": "stream",
     "text": [
      "Enter an integer: 20\n",
      "x is small.\n"
     ]
    }
   ],
   "source": [
    "# example\n",
    "x = int(input('Enter an integer: '))\n",
    "if x > 50:\n",
    "    print('x is very large.')\n",
    "else:\n",
    "    print('x is small.')"
   ]
  },
  {
   "cell_type": "code",
   "execution_count": 40,
   "id": "e5e3da90",
   "metadata": {},
   "outputs": [
    {
     "name": "stdout",
     "output_type": "stream",
     "text": [
      "Enter diameter: 10\n",
      "Area is:  78.5\n"
     ]
    }
   ],
   "source": [
    "# complete area example when radius should be positive\n",
    "diameter = input('Enter diameter: ')\n",
    "pi = 3.14\n",
    "if (int(diameter) > 0):\n",
    "    radius = int(diameter)/2\n",
    "    area = pi * radius ** 2\n",
    "    print('Area is: ',area)\n",
    "else:\n",
    "    print('Please inter diameter as a positive integer.')"
   ]
  },
  {
   "cell_type": "markdown",
   "id": "d1ae8117",
   "metadata": {},
   "source": [
    "## Chained Conditionals"
   ]
  },
  {
   "cell_type": "code",
   "execution_count": 4,
   "id": "44ef0b5e",
   "metadata": {},
   "outputs": [
    {
     "name": "stdout",
     "output_type": "stream",
     "text": [
      "Enter and integer: 100\n",
      "x is very large.\n",
      "x is good enough.\n"
     ]
    }
   ],
   "source": [
    "# example\n",
    "x = int(input('Enter and integer: '))\n",
    "if x > 50:\n",
    "    print('x is very large.')\n",
    "if x < 10:\n",
    "    print('x is very small.')\n",
    "else:\n",
    "    print('x is good enough.')"
   ]
  },
  {
   "cell_type": "code",
   "execution_count": 6,
   "id": "001b5ecb",
   "metadata": {},
   "outputs": [
    {
     "name": "stdout",
     "output_type": "stream",
     "text": [
      "Enter and integer: 100\n",
      "x is very large.\n"
     ]
    }
   ],
   "source": [
    "# example\n",
    "x = int(input('Enter and integer: '))\n",
    "if x > 50:\n",
    "    print('x is very large.')\n",
    "elif x < 10:\n",
    "    print('x is very small.')\n",
    "else:\n",
    "    print('x is good enough.')"
   ]
  },
  {
   "cell_type": "code",
   "execution_count": 16,
   "id": "bb956511",
   "metadata": {},
   "outputs": [
    {
     "name": "stdout",
     "output_type": "stream",
     "text": [
      "Enter an integer: 55\n",
      "x is odd!\n"
     ]
    }
   ],
   "source": [
    "# example\n",
    "y = int(input('Enter an integer: '))\n",
    "if ((y > 0) & (y%2 == 0)):\n",
    "    print('x is Even!')\n",
    "elif ((y > 0) & (y%2 != 0)):\n",
    "    print('x is odd!')\n",
    "else:\n",
    "    print('x is NOT integer')"
   ]
  },
  {
   "cell_type": "markdown",
   "id": "2c946638",
   "metadata": {},
   "source": [
    "## Nested Conditionals"
   ]
  },
  {
   "cell_type": "code",
   "execution_count": 19,
   "id": "322201df",
   "metadata": {},
   "outputs": [
    {
     "name": "stdout",
     "output_type": "stream",
     "text": [
      "Enter and integer: 10\n",
      "Enter and integer: 10\n",
      "x and y are equal\n"
     ]
    }
   ],
   "source": [
    "# example\n",
    "x = int(input('Enter and integer: '))\n",
    "y = int(input('Enter and integer: '))\n",
    "\n",
    "if x == y:\n",
    "    print('x and y are equal')\n",
    "else:\n",
    "    if x < y:\n",
    "        print('x is less than y') \n",
    "    else:\n",
    "        print('x is greater than y')"
   ]
  },
  {
   "cell_type": "code",
   "execution_count": 22,
   "id": "7cfe99b5",
   "metadata": {},
   "outputs": [
    {
     "name": "stdout",
     "output_type": "stream",
     "text": [
      "Enter an Integer: 0\n",
      "x is not integer!\n"
     ]
    }
   ],
   "source": [
    "# example\n",
    "x = int(input('Enter an Integer: '))\n",
    "if x > 0:\n",
    "    if x % 2 == 0:\n",
    "        print('x is even')\n",
    "    else:\n",
    "        print('x is odd')\n",
    "else:\n",
    "    print('x is not integer!')"
   ]
  },
  {
   "cell_type": "code",
   "execution_count": 33,
   "id": "6ac49761",
   "metadata": {},
   "outputs": [
    {
     "name": "stdout",
     "output_type": "stream",
     "text": [
      "Enter an Integer: s\n",
      "Enter an Integer: 9\n"
     ]
    },
    {
     "ename": "ValueError",
     "evalue": "invalid literal for int() with base 10: 's'",
     "output_type": "error",
     "traceback": [
      "\u001b[0;31m---------------------------------------------------------------------------\u001b[0m",
      "\u001b[0;31mValueError\u001b[0m                                Traceback (most recent call last)",
      "Input \u001b[0;32mIn [33]\u001b[0m, in \u001b[0;36m<module>\u001b[0;34m\u001b[0m\n\u001b[1;32m      3\u001b[0m y \u001b[38;5;241m=\u001b[39m \u001b[38;5;28minput\u001b[39m(\u001b[38;5;124m'\u001b[39m\u001b[38;5;124mEnter an Integer: \u001b[39m\u001b[38;5;124m'\u001b[39m)\n\u001b[1;32m      4\u001b[0m \u001b[38;5;28;01mif\u001b[39;00m (y \u001b[38;5;241m!=\u001b[39m \u001b[38;5;241m0\u001b[39m):\n\u001b[0;32m----> 5\u001b[0m     \u001b[38;5;28mprint\u001b[39m(\u001b[38;5;124m'\u001b[39m\u001b[38;5;124mq is: \u001b[39m\u001b[38;5;124m'\u001b[39m, (\u001b[38;5;28;43mint\u001b[39;49m\u001b[43m(\u001b[49m\u001b[43mx\u001b[49m\u001b[43m)\u001b[49m)\u001b[38;5;241m/\u001b[39m\u001b[38;5;241m/\u001b[39m(\u001b[38;5;28mint\u001b[39m(y)))\n\u001b[1;32m      6\u001b[0m     \u001b[38;5;28mprint\u001b[39m(\u001b[38;5;124m'\u001b[39m\u001b[38;5;124mr is: \u001b[39m\u001b[38;5;124m'\u001b[39m, (\u001b[38;5;28mint\u001b[39m(x))\u001b[38;5;241m%\u001b[39m(\u001b[38;5;28mint\u001b[39m(y)))\n\u001b[1;32m      8\u001b[0m \u001b[38;5;28;01melse\u001b[39;00m:\n",
      "\u001b[0;31mValueError\u001b[0m: invalid literal for int() with base 10: 's'"
     ]
    }
   ],
   "source": [
    "# example\n",
    "x = input('Enter an Integer: ')\n",
    "y = input('Enter an Integer: ')\n",
    "if (y != 0):\n",
    "    print('q is: ', (int(x))//(int(y)))\n",
    "    print('r is: ', (int(x))%(int(y)))\n",
    "\n",
    "else:\n",
    "    print('y is zero!')"
   ]
  },
  {
   "cell_type": "code",
   "execution_count": 23,
   "id": "9ffa614e",
   "metadata": {},
   "outputs": [
    {
     "name": "stdout",
     "output_type": "stream",
     "text": [
      "Enter an Integer: 10\n",
      "Enter an Integer: 0\n"
     ]
    },
    {
     "ename": "ZeroDivisionError",
     "evalue": "integer division or modulo by zero",
     "output_type": "error",
     "traceback": [
      "\u001b[0;31m---------------------------------------------------------------------------\u001b[0m",
      "\u001b[0;31mZeroDivisionError\u001b[0m                         Traceback (most recent call last)",
      "Input \u001b[0;32mIn [23]\u001b[0m, in \u001b[0;36m<module>\u001b[0;34m\u001b[0m\n\u001b[1;32m      1\u001b[0m x \u001b[38;5;241m=\u001b[39m \u001b[38;5;28mint\u001b[39m(\u001b[38;5;28minput\u001b[39m(\u001b[38;5;124m'\u001b[39m\u001b[38;5;124mEnter an Integer: \u001b[39m\u001b[38;5;124m'\u001b[39m))\n\u001b[1;32m      2\u001b[0m y \u001b[38;5;241m=\u001b[39m \u001b[38;5;28mint\u001b[39m(\u001b[38;5;28minput\u001b[39m(\u001b[38;5;124m'\u001b[39m\u001b[38;5;124mEnter an Integer: \u001b[39m\u001b[38;5;124m'\u001b[39m))\n\u001b[0;32m----> 3\u001b[0m \u001b[43mx\u001b[49m\u001b[43m \u001b[49m\u001b[38;5;241;43m/\u001b[39;49m\u001b[38;5;241;43m/\u001b[39;49m\u001b[43m \u001b[49m\u001b[43my\u001b[49m\n",
      "\u001b[0;31mZeroDivisionError\u001b[0m: integer division or modulo by zero"
     ]
    }
   ],
   "source": [
    "x = int(input('Enter an Integer: '))\n",
    "y = int(input('Enter an Integer: '))\n",
    "x // y"
   ]
  },
  {
   "cell_type": "markdown",
   "id": "74e2cc4d",
   "metadata": {},
   "source": [
    "## try, except"
   ]
  },
  {
   "cell_type": "markdown",
   "id": "5541ec5d",
   "metadata": {},
   "source": [
    "try:\n",
    "       # Some Code.... \n",
    "\n",
    "except:\n",
    "       # optional block\n",
    "       # Handling of exception (if required)"
   ]
  },
  {
   "cell_type": "code",
   "execution_count": 26,
   "id": "3512f1d3",
   "metadata": {},
   "outputs": [
    {
     "name": "stdout",
     "output_type": "stream",
     "text": [
      "Enter an integer:10\n",
      "Enter a non-zero integer:0\n"
     ]
    },
    {
     "ename": "ZeroDivisionError",
     "evalue": "integer division or modulo by zero",
     "output_type": "error",
     "traceback": [
      "\u001b[0;31m---------------------------------------------------------------------------\u001b[0m",
      "\u001b[0;31mZeroDivisionError\u001b[0m                         Traceback (most recent call last)",
      "Input \u001b[0;32mIn [26]\u001b[0m, in \u001b[0;36m<module>\u001b[0;34m\u001b[0m\n\u001b[1;32m      5\u001b[0m x \u001b[38;5;241m=\u001b[39m \u001b[38;5;28mint\u001b[39m(x)\n\u001b[1;32m      6\u001b[0m y \u001b[38;5;241m=\u001b[39m \u001b[38;5;28mint\u001b[39m(y)\n\u001b[0;32m----> 7\u001b[0m q \u001b[38;5;241m=\u001b[39m \u001b[43mx\u001b[49m\u001b[38;5;241;43m/\u001b[39;49m\u001b[38;5;241;43m/\u001b[39;49m\u001b[43my\u001b[49m\n\u001b[1;32m      8\u001b[0m r \u001b[38;5;241m=\u001b[39m x\u001b[38;5;241m%\u001b[39my\n\u001b[1;32m      9\u001b[0m \u001b[38;5;28mprint\u001b[39m(\u001b[38;5;124m'\u001b[39m\u001b[38;5;124mq = \u001b[39m\u001b[38;5;124m'\u001b[39m,q)\n",
      "\u001b[0;31mZeroDivisionError\u001b[0m: integer division or modulo by zero"
     ]
    }
   ],
   "source": [
    "# example error handling\n",
    "x = input('Enter an integer:') \n",
    "y = input('Enter a non-zero integer:') \n",
    "\n",
    "x = int(x)\n",
    "y = int(y)\n",
    "q = x//y\n",
    "r = x%y\n",
    "print('q = ',q)\n",
    "print('r = ',r)"
   ]
  },
  {
   "cell_type": "code",
   "execution_count": 36,
   "id": "940e2a4d",
   "metadata": {},
   "outputs": [
    {
     "name": "stdout",
     "output_type": "stream",
     "text": [
      "Enter an integer:10\n",
      "Enter a non-zero integer:s\n",
      "Please enter proper x and y\n"
     ]
    }
   ],
   "source": [
    "# Example\n",
    "x = input('Enter an integer:') \n",
    "y = input('Enter a non-zero integer:') \n",
    "\n",
    "try:\n",
    "    x = float(x)\n",
    "    y = float(y)\n",
    "    q = x//y\n",
    "    r = x%y\n",
    "    print('q = ',q)\n",
    "    print('r = ',r)\n",
    "except:\n",
    "    print('Please enter proper x and y')\n"
   ]
  },
  {
   "cell_type": "markdown",
   "id": "383f15bb",
   "metadata": {},
   "source": [
    "#### Exercise (vscode)\n",
    "1. Take a positive number as the radius of a circle and calculate the area of that circle. Also handle the possible errors. \n",
    "\n",
    "2. Calculate the valume of a rectangle based on its length, width and height. Also handle the possible errors."
   ]
  },
  {
   "cell_type": "markdown",
   "id": "5172a024",
   "metadata": {},
   "source": [
    "## try, except, finally"
   ]
  },
  {
   "cell_type": "markdown",
   "id": "75ba3ce1",
   "metadata": {},
   "source": [
    "try:\n",
    "       # Some Code.... \n",
    "\n",
    "except:\n",
    "       # optional block\n",
    "       # Handling of exception (if required)\n",
    "\n",
    "else:\n",
    "       # execute if no exception\n",
    "\n",
    "finally:\n",
    "      # Some code .....(always executed)"
   ]
  },
  {
   "cell_type": "code",
   "execution_count": 41,
   "id": "191b9a89",
   "metadata": {},
   "outputs": [
    {
     "name": "stdout",
     "output_type": "stream",
     "text": [
      "Enter an integer:s\n",
      "Enter a non-zero integer:10\n",
      "Please enter proper x and y\n",
      "x =  s\n",
      "y =  10\n"
     ]
    }
   ],
   "source": [
    "x = input('Enter an integer:') \n",
    "y = input('Enter a non-zero integer:') \n",
    "\n",
    "try:\n",
    "    x = int(x)\n",
    "    y = int(y)\n",
    "    q = x//y\n",
    "    r = x%y\n",
    "    print('q = ',q)\n",
    "    print('r = ',r)\n",
    "except:\n",
    "    print('Please enter proper x and y')\n",
    "\n",
    "finally:\n",
    "    print('x = ', x)\n",
    "    print('y = ', y)"
   ]
  },
  {
   "cell_type": "markdown",
   "id": "ef1a2bf7",
   "metadata": {},
   "source": [
    "# Exercise\n",
    "\n",
    "1. Take three integers as input and check whether you can or cannot form a triangle from sticks with the given lengths.\n",
    "\n",
    "2. Check fermat theorem for the given a, b, c, and n\n",
    "\n",
    "3. Check if three given numbers can satisfy Pythagorean theorem\n",
    "\n",
    "4. Take a number as input and calculate its square. Handle possible errors using try, except"
   ]
  }
 ],
 "metadata": {
  "kernelspec": {
   "display_name": "Python 3 (ipykernel)",
   "language": "python",
   "name": "python3"
  },
  "language_info": {
   "codemirror_mode": {
    "name": "ipython",
    "version": 3
   },
   "file_extension": ".py",
   "mimetype": "text/x-python",
   "name": "python",
   "nbconvert_exporter": "python",
   "pygments_lexer": "ipython3",
   "version": "3.10.9"
  }
 },
 "nbformat": 4,
 "nbformat_minor": 5
}
