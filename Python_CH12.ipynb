{
 "cells": [
  {
   "cell_type": "markdown",
   "id": "36b3825b",
   "metadata": {},
   "source": [
    "# Chapter 12: [Some Built-in Libraries](https://sunscrapers.com/blog/30-built-in-python-modules-you-should-know/)"
   ]
  },
  {
   "cell_type": "markdown",
   "id": "caaa6f99",
   "metadata": {},
   "source": [
    "## [os](https://docs.python.org/3.7/library/os.html)\n",
    "This module offers a portable method of using **operating system** dependent functionality.\n"
   ]
  },
  {
   "cell_type": "code",
   "execution_count": null,
   "id": "9b2081a8",
   "metadata": {},
   "outputs": [],
   "source": [
    "import os\n",
    "# dir(os)"
   ]
  },
  {
   "cell_type": "code",
   "execution_count": null,
   "id": "8b6a6f61",
   "metadata": {},
   "outputs": [],
   "source": [
    "# dir(os)\n"
   ]
  },
  {
   "cell_type": "code",
   "execution_count": null,
   "id": "234b8e02",
   "metadata": {},
   "outputs": [],
   "source": [
    "# Return the filename corresponding to the controlling terminal of the process.\n",
    "\n",
    "os.ctermid()\n"
   ]
  },
  {
   "cell_type": "code",
   "execution_count": null,
   "id": "87c2b403",
   "metadata": {},
   "outputs": [],
   "source": [
    "# A mapping object representing the string environment. For example, environ['HOME'] is the pathname of \n",
    "# your home directory\n",
    "os.environ['HOME']"
   ]
  },
  {
   "cell_type": "code",
   "execution_count": null,
   "id": "a622bfba",
   "metadata": {},
   "outputs": [],
   "source": [
    "current = os.getcwd()\n",
    "current\n",
    "entries = os.listdir(current)\n",
    "entries"
   ]
  },
  {
   "cell_type": "code",
   "execution_count": null,
   "id": "a8e04917",
   "metadata": {},
   "outputs": [],
   "source": [
    "os.chdir('/Users/amin/Desktop/python_course/Elementary-Python-suf')\n",
    "os.getcwd()"
   ]
  },
  {
   "cell_type": "code",
   "execution_count": null,
   "id": "098e34d1",
   "metadata": {},
   "outputs": [],
   "source": [
    "import os\n",
    " \n",
    "# Directory\n",
    "directory = \"Elementary-Python-suf\"\n",
    " \n",
    "# Parent Directory path\n",
    "parent_dir = \"/Users/amin/Desktop/python_course/\"\n",
    " \n",
    "# Path\n",
    "path = os.path.join(parent_dir, directory)\n",
    "path"
   ]
  },
  {
   "cell_type": "code",
   "execution_count": null,
   "id": "2330b4df",
   "metadata": {},
   "outputs": [],
   "source": [
    "### Use os to handle files\n",
    "import os\n",
    "entries = os.listdir('./')\n",
    "entries"
   ]
  },
  {
   "cell_type": "code",
   "execution_count": null,
   "id": "3dddf27b",
   "metadata": {},
   "outputs": [],
   "source": [
    "lst = []\n",
    "with os.scandir('./') as entries:\n",
    "    for entry in entries:\n",
    "        lst.append(entry.name)\n",
    "        \n",
    "lst"
   ]
  },
  {
   "cell_type": "code",
   "execution_count": null,
   "id": "1332a742",
   "metadata": {},
   "outputs": [],
   "source": [
    "for x , y in zip(lst,entries):\n",
    "    print(x==y)"
   ]
  },
  {
   "cell_type": "code",
   "execution_count": null,
   "id": "e1a4d571",
   "metadata": {},
   "outputs": [],
   "source": []
  },
  {
   "cell_type": "code",
   "execution_count": null,
   "id": "a79f498a",
   "metadata": {},
   "outputs": [],
   "source": []
  },
  {
   "cell_type": "code",
   "execution_count": null,
   "id": "a7f7da76",
   "metadata": {},
   "outputs": [],
   "source": [
    "with os.scandir('../../') as entries:\n",
    "    for entry in entries:\n",
    "        if not entry.is_file():\n",
    "            print(entry.name)"
   ]
  },
  {
   "cell_type": "code",
   "execution_count": null,
   "id": "beac7246",
   "metadata": {},
   "outputs": [],
   "source": [
    "basepath = '../../python_course'\n",
    "for entry in os.listdir(basepath):\n",
    "#     if (os.path.isdir(os.path.join(basepath, entry))):\n",
    "    print(entry)"
   ]
  },
  {
   "cell_type": "code",
   "execution_count": null,
   "id": "22cfd6ee",
   "metadata": {},
   "outputs": [],
   "source": [
    "for item in os.walk('../../'):\n",
    "    print(item)\n",
    "    print(\"*****************************************************\")"
   ]
  },
  {
   "cell_type": "code",
   "execution_count": null,
   "id": "817ebf0d",
   "metadata": {},
   "outputs": [],
   "source": [
    "# Walking a directory tree and printing the names of the directories and files\n",
    "for dirpath, dirnames, files in os.walk('../../'):\n",
    "#     print('dirpath: ', dirpath)\n",
    "#     print(f'Found directory: {dirnames}')\n",
    "#     print('files: ', files)\n",
    "    print('******************************************')\n",
    "    \n",
    "    for file_name in files:\n",
    "        if (file_name.endswith('ipynb')):\n",
    "            print(file_name)\n",
    "        print('----------------------------------')"
   ]
  },
  {
   "cell_type": "code",
   "execution_count": null,
   "id": "7c40bd0c",
   "metadata": {},
   "outputs": [],
   "source": []
  },
  {
   "cell_type": "code",
   "execution_count": null,
   "id": "4a48962e",
   "metadata": {},
   "outputs": [],
   "source": []
  },
  {
   "cell_type": "code",
   "execution_count": null,
   "id": "09b00125",
   "metadata": {},
   "outputs": [],
   "source": []
  },
  {
   "cell_type": "markdown",
   "id": "28fdfe6e",
   "metadata": {},
   "source": [
    "## [math](https://docs.python.org/3.7/library/math.html)"
   ]
  },
  {
   "cell_type": "code",
   "execution_count": 1,
   "id": "302feaf0",
   "metadata": {},
   "outputs": [],
   "source": [
    "import math"
   ]
  },
  {
   "cell_type": "code",
   "execution_count": null,
   "id": "93fa3da9",
   "metadata": {},
   "outputs": [],
   "source": []
  },
  {
   "cell_type": "code",
   "execution_count": null,
   "id": "eb8da82b",
   "metadata": {},
   "outputs": [],
   "source": [
    "x = min(5, 10, 25)\n",
    "y = max(5, 10, 25)\n",
    "\n",
    "print(x)\n",
    "print(y)"
   ]
  },
  {
   "cell_type": "code",
   "execution_count": null,
   "id": "bcb01322",
   "metadata": {},
   "outputs": [],
   "source": [
    "x = abs(-7.25)\n",
    "\n",
    "print(x)"
   ]
  },
  {
   "cell_type": "code",
   "execution_count": 4,
   "id": "ff6e16d4",
   "metadata": {},
   "outputs": [
    {
     "name": "stdout",
     "output_type": "stream",
     "text": [
      "1024.0\n"
     ]
    }
   ],
   "source": [
    "x = math.pow(2, 10)\n",
    "\n",
    "print(x)"
   ]
  },
  {
   "cell_type": "code",
   "execution_count": 3,
   "id": "d9076cb5",
   "metadata": {},
   "outputs": [
    {
     "data": {
      "text/plain": [
       "8.0"
      ]
     },
     "execution_count": 3,
     "metadata": {},
     "output_type": "execute_result"
    }
   ],
   "source": [
    "math.sqrt(64)"
   ]
  },
  {
   "cell_type": "code",
   "execution_count": 6,
   "id": "1ac53738",
   "metadata": {},
   "outputs": [
    {
     "data": {
      "text/plain": [
       "(2, 1)"
      ]
     },
     "execution_count": 6,
     "metadata": {},
     "output_type": "execute_result"
    }
   ],
   "source": [
    "x = math.ceil(1.4)\n",
    "y = math.floor(1.4)\n",
    "x, y"
   ]
  },
  {
   "cell_type": "code",
   "execution_count": 8,
   "id": "acd1926a",
   "metadata": {},
   "outputs": [
    {
     "data": {
      "text/plain": [
       "True"
      ]
     },
     "execution_count": 8,
     "metadata": {},
     "output_type": "execute_result"
    }
   ],
   "source": [
    "x = 1e308\n",
    "math.inf > x"
   ]
  },
  {
   "cell_type": "code",
   "execution_count": 9,
   "id": "f2429b8e",
   "metadata": {},
   "outputs": [
    {
     "data": {
      "text/plain": [
       "True"
      ]
     },
     "execution_count": 9,
     "metadata": {},
     "output_type": "execute_result"
    }
   ],
   "source": [
    "y = -1e308\n",
    "y > -math.inf"
   ]
  },
  {
   "cell_type": "markdown",
   "id": "f55c8020",
   "metadata": {},
   "source": [
    "Not a number, or NaN, isn’t really a mathematical concept. It originated in the computer science field as a reference to values that are not numeric. A NaN value can be due to invalid inputs, or it can indicate that a variable that should be numerical has been corrupted by text characters or symbols."
   ]
  },
  {
   "cell_type": "code",
   "execution_count": 12,
   "id": "daccc9b5",
   "metadata": {},
   "outputs": [
    {
     "data": {
      "text/plain": [
       "True"
      ]
     },
     "execution_count": 12,
     "metadata": {},
     "output_type": "execute_result"
    }
   ],
   "source": [
    "x = math.nan\n",
    "math.isnan(x)"
   ]
  },
  {
   "cell_type": "code",
   "execution_count": 15,
   "id": "0063453f",
   "metadata": {},
   "outputs": [
    {
     "data": {
      "text/plain": [
       "1"
      ]
     },
     "execution_count": 15,
     "metadata": {},
     "output_type": "execute_result"
    }
   ],
   "source": [
    "math.factorial(0)"
   ]
  },
  {
   "cell_type": "code",
   "execution_count": 16,
   "id": "1d8a4285",
   "metadata": {},
   "outputs": [
    {
     "ename": "ValueError",
     "evalue": "factorial() not defined for negative values",
     "output_type": "error",
     "traceback": [
      "\u001b[0;31m---------------------------------------------------------------------------\u001b[0m",
      "\u001b[0;31mValueError\u001b[0m                                Traceback (most recent call last)",
      "Input \u001b[0;32mIn [16]\u001b[0m, in \u001b[0;36m<module>\u001b[0;34m\u001b[0m\n\u001b[0;32m----> 1\u001b[0m \u001b[43mmath\u001b[49m\u001b[38;5;241;43m.\u001b[39;49m\u001b[43mfactorial\u001b[49m\u001b[43m(\u001b[49m\u001b[38;5;241;43m-\u001b[39;49m\u001b[38;5;241;43m7\u001b[39;49m\u001b[43m)\u001b[49m\n",
      "\u001b[0;31mValueError\u001b[0m: factorial() not defined for negative values"
     ]
    }
   ],
   "source": [
    "math.factorial(-7)"
   ]
  },
  {
   "cell_type": "code",
   "execution_count": 17,
   "id": "cb57763a",
   "metadata": {},
   "outputs": [
    {
     "name": "stderr",
     "output_type": "stream",
     "text": [
      "/var/folders/xt/lb3yftd15hjcs4xhz_b_tszc0000gp/T/ipykernel_33800/807313944.py:1: DeprecationWarning: Using factorial() with floats is deprecated\n",
      "  math.factorial(7.5)\n"
     ]
    },
    {
     "ename": "ValueError",
     "evalue": "factorial() only accepts integral values",
     "output_type": "error",
     "traceback": [
      "\u001b[0;31m---------------------------------------------------------------------------\u001b[0m",
      "\u001b[0;31mValueError\u001b[0m                                Traceback (most recent call last)",
      "Input \u001b[0;32mIn [17]\u001b[0m, in \u001b[0;36m<module>\u001b[0;34m\u001b[0m\n\u001b[0;32m----> 1\u001b[0m \u001b[43mmath\u001b[49m\u001b[38;5;241;43m.\u001b[39;49m\u001b[43mfactorial\u001b[49m\u001b[43m(\u001b[49m\u001b[38;5;241;43m7.5\u001b[39;49m\u001b[43m)\u001b[49m\n",
      "\u001b[0;31mValueError\u001b[0m: factorial() only accepts integral values"
     ]
    }
   ],
   "source": [
    "math.factorial(7.5)"
   ]
  },
  {
   "cell_type": "code",
   "execution_count": 18,
   "id": "332a2c2d",
   "metadata": {},
   "outputs": [
    {
     "data": {
      "text/plain": [
       "(12, -12)"
      ]
     },
     "execution_count": 18,
     "metadata": {},
     "output_type": "execute_result"
    }
   ],
   "source": [
    "math.trunc(12.32), math.trunc(-12.32)"
   ]
  },
  {
   "cell_type": "code",
   "execution_count": 21,
   "id": "5c6b2960",
   "metadata": {},
   "outputs": [
    {
     "data": {
      "text/plain": [
       "(12, -13)"
      ]
     },
     "execution_count": 21,
     "metadata": {},
     "output_type": "execute_result"
    }
   ],
   "source": [
    "math.floor(12.32), math.floor(-12.32)"
   ]
  },
  {
   "cell_type": "code",
   "execution_count": 22,
   "id": "501ed46c",
   "metadata": {},
   "outputs": [
    {
     "data": {
      "text/plain": [
       "(13, -12)"
      ]
     },
     "execution_count": 22,
     "metadata": {},
     "output_type": "execute_result"
    }
   ],
   "source": [
    "math.ceil(12.32), math.ceil(-12.32)"
   ]
  },
  {
   "cell_type": "code",
   "execution_count": null,
   "id": "b311f399",
   "metadata": {},
   "outputs": [],
   "source": [
    "half_life = 38.1\n",
    "initial = 100\n",
    "time = 100\n",
    "remaining = initial * exp(-0.693 * time / half_life)\n",
    "f\"Remaining quantity of Sr-90: {remaining}\""
   ]
  },
  {
   "cell_type": "code",
   "execution_count": 25,
   "id": "98fcd27e",
   "metadata": {},
   "outputs": [
    {
     "name": "stdout",
     "output_type": "stream",
     "text": [
      "1.6514961294723187\n",
      "1.651496129472319\n"
     ]
    }
   ],
   "source": [
    "print(math.log2(math.pi))\n",
    "\n",
    "print(math.log(math.pi,2))"
   ]
  },
  {
   "cell_type": "code",
   "execution_count": 26,
   "id": "1f44a522",
   "metadata": {},
   "outputs": [
    {
     "name": "stdout",
     "output_type": "stream",
     "text": [
      "0.49714987269413385\n",
      "0.4971498726941338\n"
     ]
    }
   ],
   "source": [
    "print(math.log10(math.pi))\n",
    "\n",
    "print(math.log(math.pi, 10))"
   ]
  },
  {
   "cell_type": "code",
   "execution_count": 28,
   "id": "e03b1437",
   "metadata": {},
   "outputs": [
    {
     "data": {
      "text/plain": [
       "((2+3j), complex)"
      ]
     },
     "execution_count": 28,
     "metadata": {},
     "output_type": "execute_result"
    }
   ],
   "source": [
    "c = complex(2, 3)\n",
    "c, type(c)"
   ]
  },
  {
   "cell_type": "code",
   "execution_count": 30,
   "id": "8cf86266",
   "metadata": {},
   "outputs": [
    {
     "name": "stdout",
     "output_type": "stream",
     "text": [
      "Sine value of 20 degrees =  0.49999999999999994\n"
     ]
    }
   ],
   "source": [
    "angle = 30\n",
    "\n",
    "angle_radians = math.radians(angle)\n",
    "\n",
    "print(\"Sine value of 20 degrees = \", math.sin(angle_radians))"
   ]
  },
  {
   "cell_type": "code",
   "execution_count": 34,
   "id": "8fc325f4",
   "metadata": {},
   "outputs": [],
   "source": [
    "# dir(math)"
   ]
  },
  {
   "cell_type": "code",
   "execution_count": null,
   "id": "7ad861fb",
   "metadata": {},
   "outputs": [],
   "source": []
  },
  {
   "cell_type": "markdown",
   "id": "65c6efc7",
   "metadata": {},
   "source": [
    "## [datetime](https://docs.python.org/3.7/library/datetime.html)"
   ]
  },
  {
   "cell_type": "code",
   "execution_count": 35,
   "id": "76ca1121",
   "metadata": {},
   "outputs": [
    {
     "name": "stdout",
     "output_type": "stream",
     "text": [
      "2022-05-30 16:57:26.018440\n"
     ]
    }
   ],
   "source": [
    "import datetime\n",
    "\n",
    "datetime_object = datetime.datetime.now()\n",
    "print(datetime_object)"
   ]
  },
  {
   "cell_type": "code",
   "execution_count": 36,
   "id": "4ae99c28",
   "metadata": {},
   "outputs": [
    {
     "name": "stdout",
     "output_type": "stream",
     "text": [
      "2022-05-30\n"
     ]
    }
   ],
   "source": [
    "\n",
    "import datetime\n",
    "\n",
    "date_object = datetime.date.today()\n",
    "print(date_object)"
   ]
  },
  {
   "cell_type": "code",
   "execution_count": 67,
   "id": "7048161d",
   "metadata": {},
   "outputs": [
    {
     "name": "stdout",
     "output_type": "stream",
     "text": [
      "Date = 2022-05-30\n"
     ]
    }
   ],
   "source": [
    "from datetime import date\n",
    "\n",
    "timestamp = date.fromtimestamp((52*365 + 162)*24*60*60)\n",
    "print(\"Date =\", timestamp)"
   ]
  },
  {
   "cell_type": "code",
   "execution_count": 42,
   "id": "446ad29f",
   "metadata": {},
   "outputs": [
    {
     "name": "stdout",
     "output_type": "stream",
     "text": [
      "Current year: 2022\n",
      "Current month: 5\n",
      "Current day: 30\n"
     ]
    },
    {
     "data": {
      "text/plain": [
       "datetime.date(2022, 5, 30)"
      ]
     },
     "execution_count": 42,
     "metadata": {},
     "output_type": "execute_result"
    }
   ],
   "source": [
    "\n",
    "from datetime import date\n",
    "\n",
    "# date object of today's date\n",
    "today = date.today() \n",
    "\n",
    "print(\"Current year:\", today.year)\n",
    "print(\"Current month:\", today.month)\n",
    "print(\"Current day:\", today.day)\n",
    "today"
   ]
  },
  {
   "cell_type": "code",
   "execution_count": 68,
   "id": "086e9d84",
   "metadata": {},
   "outputs": [
    {
     "name": "stdout",
     "output_type": "stream",
     "text": [
      "a = 00:00:00\n",
      "b = 11:34:56\n",
      "c = 11:34:56\n",
      "d = 11:34:56.234566\n"
     ]
    }
   ],
   "source": [
    "\n",
    "from datetime import time\n",
    "\n",
    "# time(hour = 0, minute = 0, second = 0)\n",
    "a = time()\n",
    "print(\"a =\", a)\n",
    "\n",
    "# time(hour, minute and second)\n",
    "b = time(11, 34, 56)\n",
    "print(\"b =\", b)\n",
    "\n",
    "# time(hour, minute and second)\n",
    "c = time(hour = 11, minute = 34, second = 56)\n",
    "print(\"c =\", c)\n",
    "\n",
    "# time(hour, minute, second, microsecond)\n",
    "d = time(11, 34, 56, 234566)\n",
    "print(\"d =\", d)"
   ]
  },
  {
   "cell_type": "code",
   "execution_count": 69,
   "id": "129fd37a",
   "metadata": {},
   "outputs": [
    {
     "name": "stdout",
     "output_type": "stream",
     "text": [
      "t3 = 14 days, 13:55:39\n"
     ]
    }
   ],
   "source": [
    "\n",
    "from datetime import timedelta\n",
    "\n",
    "t1 = timedelta(weeks = 2, days = 5, hours = 1, seconds = 33)\n",
    "t2 = timedelta(days = 4, hours = 11, minutes = 4, seconds = 54)\n",
    "t3 = t1 - t2\n",
    "\n",
    "print(\"t3 =\", t3)"
   ]
  },
  {
   "cell_type": "code",
   "execution_count": 71,
   "id": "e44055e6",
   "metadata": {},
   "outputs": [
    {
     "name": "stdout",
     "output_type": "stream",
     "text": [
      "0:00:00.061565\n"
     ]
    }
   ],
   "source": [
    "from datetime import datetime\n",
    "start = datetime.now()\n",
    "lst = list(range(100000))\n",
    "lst1 = []\n",
    "lst2 = []\n",
    "for item in lst:\n",
    "    lst1.append(item/2)\n",
    "    lst2.append(item**2)\n",
    "end = datetime.now()\n",
    "print(end-start)\n",
    "    "
   ]
  },
  {
   "cell_type": "code",
   "execution_count": null,
   "id": "80228390",
   "metadata": {},
   "outputs": [],
   "source": []
  },
  {
   "cell_type": "code",
   "execution_count": null,
   "id": "d5d6be64",
   "metadata": {},
   "outputs": [],
   "source": []
  },
  {
   "cell_type": "code",
   "execution_count": null,
   "id": "5c9b9861",
   "metadata": {},
   "outputs": [],
   "source": [
    "\n",
    "from datetime import datetime\n",
    "\n",
    "# current date and time\n",
    "now = datetime.now()\n",
    "\n",
    "t = now.strftime(\"%H:%M:%S\")\n",
    "print(\"time:\", t)\n",
    "\n",
    "s1 = now.strftime(\"%m/%d/%Y, %H:%M:%S\")\n",
    "# mm/dd/YY H:M:S format\n",
    "print(\"s1:\", s1)\n",
    "\n",
    "s2 = now.strftime(\"%d/%m/%Y, %H:%M:%S\")\n",
    "# dd/mm/YY H:M:S format\n",
    "print(\"s2:\", s2)"
   ]
  },
  {
   "cell_type": "code",
   "execution_count": 72,
   "id": "27ae34a1",
   "metadata": {},
   "outputs": [
    {
     "name": "stdout",
     "output_type": "stream",
     "text": [
      "date_string = 21 June, 2018\n",
      "date_object = 2018-06-21 00:00:00\n"
     ]
    }
   ],
   "source": [
    "\n",
    "from datetime import datetime\n",
    "\n",
    "date_string = \"21 June, 2018\"\n",
    "print(\"date_string =\", date_string)\n",
    "\n",
    "date_object = datetime.strptime(date_string, \"%d %B, %Y\")\n",
    "print(\"date_object =\", date_object)"
   ]
  },
  {
   "cell_type": "code",
   "execution_count": null,
   "id": "b6e655c0",
   "metadata": {},
   "outputs": [],
   "source": [
    "import datetime\n",
    "\n",
    "x = datetime.datetime.now()\n",
    "\n",
    "print(x.year)\n",
    "print(x.strftime(\"%A\"))"
   ]
  },
  {
   "cell_type": "markdown",
   "id": "79224484",
   "metadata": {},
   "source": [
    "### https://www.w3schools.com/python/python_datetime.asp"
   ]
  },
  {
   "cell_type": "code",
   "execution_count": null,
   "id": "caff253e",
   "metadata": {},
   "outputs": [],
   "source": [
    "import datetime\n",
    "\n",
    "x = datetime.datetime(2018, 6, 1)\n",
    "\n",
    "print(x.strftime(\"%B\"))"
   ]
  },
  {
   "cell_type": "code",
   "execution_count": null,
   "id": "f54e20ca",
   "metadata": {},
   "outputs": [],
   "source": []
  },
  {
   "cell_type": "code",
   "execution_count": null,
   "id": "64c6286d",
   "metadata": {},
   "outputs": [],
   "source": []
  },
  {
   "cell_type": "markdown",
   "id": "73931b52",
   "metadata": {},
   "source": [
    "## [sys](https://docs.python.org/3.7/library/sys.html)"
   ]
  },
  {
   "cell_type": "code",
   "execution_count": null,
   "id": "6086a694",
   "metadata": {},
   "outputs": [],
   "source": [
    "# vscode\n",
    "import sys\n",
    "  \n",
    "# total arguments\n",
    "n = len(sys.argv)\n",
    "print(\"Total arguments passed:\", n)\n",
    "  \n",
    "# Arguments passed\n",
    "print(\"\\nName of Python script:\", sys.argv[0])\n",
    "  \n",
    "print(\"\\nArguments passed:\", end = \" \")\n",
    "for i in range(1, n):\n",
    "    print(sys.argv[i], end = \" \")\n",
    "      \n",
    "# Addition of numbers\n",
    "Sum = 0\n",
    "  \n",
    "for i in range(1, n):\n",
    "    Sum += int(sys.argv[i])\n",
    "      \n",
    "print(\"\\n\\nResult:\", Sum)"
   ]
  },
  {
   "cell_type": "code",
   "execution_count": null,
   "id": "1b5e6a31",
   "metadata": {},
   "outputs": [],
   "source": [
    "\n",
    "# Python program to demonstrate \n",
    "# sys.exit() \n",
    "  \n",
    "import sys \n",
    "  \n",
    "age = 17\n",
    "  \n",
    "if age < 18: \n",
    "      \n",
    "    # exits the program \n",
    "    sys.exit(\"Age less than 18\")     \n",
    "else: \n",
    "    print(\"Age is not less than 18\") "
   ]
  },
  {
   "cell_type": "code",
   "execution_count": null,
   "id": "fae2c518",
   "metadata": {},
   "outputs": [],
   "source": [
    "#  Listing out all the paths\n",
    "import sys\n",
    "  \n",
    "print(sys.path)"
   ]
  },
  {
   "cell_type": "code",
   "execution_count": null,
   "id": "cc911576",
   "metadata": {},
   "outputs": [],
   "source": [
    "# sys.getrefcount() method is used to get the reference count for any given object. \n",
    "# This value is used by Python as when this value becomes 0, the memory for that particular value is deleted.\n",
    "\n",
    "import sys\n",
    "  \n",
    "a = 'Hello'\n",
    "  \n",
    "print(sys.getrefcount(a))"
   ]
  },
  {
   "cell_type": "code",
   "execution_count": null,
   "id": "72976b9d",
   "metadata": {},
   "outputs": [],
   "source": []
  },
  {
   "cell_type": "code",
   "execution_count": null,
   "id": "c213ed54",
   "metadata": {},
   "outputs": [],
   "source": []
  },
  {
   "cell_type": "code",
   "execution_count": null,
   "id": "765f6c8c",
   "metadata": {},
   "outputs": [],
   "source": []
  },
  {
   "cell_type": "markdown",
   "id": "84c89046",
   "metadata": {},
   "source": [
    "## [argparse](https://docs.python.org/3.7/howto/argparse.html)"
   ]
  },
  {
   "cell_type": "code",
   "execution_count": null,
   "id": "f9798cf2",
   "metadata": {},
   "outputs": [],
   "source": [
    "# vs liveness\n",
    "import argparse\n",
    "\n",
    "ap = argparse.ArgumentParser()\n",
    "ap.add_argument(\"-g\", \"--shape-predictor\", default=\"face_detector/shape_predictor_68_face_landmarks.dat\",\n",
    "                help=\"path to facial landmark predictor\")\n",
    "\n",
    "ap.add_argument(\"-m\", \"--model\", default=\"models/liveness-entropy-sigmoid-15.model\",\n",
    "                help=\"path to trained model\")\n",
    "ap.add_argument(\"-l\", \"--le\", type=str, default=\"pickles/le.pickle\",\n",
    "                help=\"path to label encoder\")\n",
    "ap.add_argument(\"-c\", \"--confidence\", type=float, default=0.5,\n",
    "                help=\"minimum probability to filter weak detections\")\n",
    "ap.add_argument(\"-v\", \"--video\", type=str, default=\"\",\n",
    "                help=\"path to input video file\")\n",
    "args = vars(ap.parse_args())\n",
    "\n",
    "print(args)"
   ]
  },
  {
   "cell_type": "code",
   "execution_count": null,
   "id": "c85cb885",
   "metadata": {},
   "outputs": [],
   "source": []
  },
  {
   "cell_type": "code",
   "execution_count": null,
   "id": "992a949c",
   "metadata": {},
   "outputs": [],
   "source": []
  },
  {
   "cell_type": "markdown",
   "id": "f809c86b",
   "metadata": {},
   "source": [
    "## [random](https://docs.python.org/3.7/library/random.html)"
   ]
  },
  {
   "cell_type": "code",
   "execution_count": null,
   "id": "7618ab27",
   "metadata": {},
   "outputs": [],
   "source": [
    "import random\n",
    "random.random(), random.random()\n"
   ]
  },
  {
   "cell_type": "code",
   "execution_count": null,
   "id": "3e848c0a",
   "metadata": {},
   "outputs": [],
   "source": [
    "random.randint(0, 10), random.randint(500, 50000)"
   ]
  },
  {
   "cell_type": "code",
   "execution_count": null,
   "id": "27dd9abc",
   "metadata": {},
   "outputs": [],
   "source": [
    "random.randrange(1, 10)"
   ]
  },
  {
   "cell_type": "code",
   "execution_count": null,
   "id": "ec4654ad",
   "metadata": {},
   "outputs": [],
   "source": [
    "random.uniform(20, 30), random.uniform(30, 40)"
   ]
  },
  {
   "cell_type": "code",
   "execution_count": null,
   "id": "a32634df",
   "metadata": {},
   "outputs": [],
   "source": [
    "items = ['one', 'two', 'three', 'four', 'five']\n",
    "random.choice(items)"
   ]
  },
  {
   "cell_type": "code",
   "execution_count": null,
   "id": "0fea7072",
   "metadata": {},
   "outputs": [],
   "source": [
    "random.choices(items, k=2), random.choices(items, k=3)"
   ]
  },
  {
   "cell_type": "code",
   "execution_count": null,
   "id": "bbafc31c",
   "metadata": {},
   "outputs": [],
   "source": [
    "# random sample from sequence\n",
    "print(random.sample(items, k=3))"
   ]
  },
  {
   "cell_type": "code",
   "execution_count": null,
   "id": "4316a76f",
   "metadata": {},
   "outputs": [],
   "source": [
    "random.shuffle(items)\n",
    "items"
   ]
  },
  {
   "cell_type": "code",
   "execution_count": null,
   "id": "956c645c",
   "metadata": {},
   "outputs": [],
   "source": [
    "import random\n",
    " \n",
    "# declare a list\n",
    "sample_list = ['A', 'B', 'C', 'D', 'E']\n",
    " \n",
    "print(\"Original list : \")\n",
    "print(sample_list)\n",
    " \n",
    "# first shuffle\n",
    "random.shuffle(sample_list)\n",
    "print(\"\\nAfter the first shuffle : \")\n",
    "print(sample_list)\n",
    " \n",
    "# second shuffle\n",
    "random.shuffle(sample_list)\n",
    "print(\"\\nAfter the second shuffle : \")\n",
    "print(sample_list)"
   ]
  },
  {
   "cell_type": "code",
   "execution_count": null,
   "id": "f9b745cb",
   "metadata": {},
   "outputs": [],
   "source": []
  },
  {
   "cell_type": "code",
   "execution_count": null,
   "id": "1024befa",
   "metadata": {},
   "outputs": [],
   "source": []
  },
  {
   "cell_type": "code",
   "execution_count": null,
   "id": "4e36ab5c",
   "metadata": {},
   "outputs": [],
   "source": [
    "random.seed(444)\n",
    "random.random(), random.random()"
   ]
  },
  {
   "cell_type": "code",
   "execution_count": null,
   "id": "3ece8626",
   "metadata": {},
   "outputs": [],
   "source": [
    "random.seed(444)\n",
    "random.random(), random.random()"
   ]
  },
  {
   "cell_type": "code",
   "execution_count": null,
   "id": "49e4ac08",
   "metadata": {},
   "outputs": [],
   "source": []
  },
  {
   "cell_type": "code",
   "execution_count": null,
   "id": "41bb1309",
   "metadata": {},
   "outputs": [],
   "source": []
  },
  {
   "cell_type": "markdown",
   "id": "386e9be6",
   "metadata": {},
   "source": [
    "## [re](https://docs.python.org/3.7/library/re.html)"
   ]
  },
  {
   "cell_type": "markdown",
   "id": "8732c0cb",
   "metadata": {},
   "source": [
    "This module provides [regular expression](https://www.w3schools.com/python/python_regex.asp) matching operations similar to those found in Perl."
   ]
  },
  {
   "cell_type": "code",
   "execution_count": null,
   "id": "31717bfa",
   "metadata": {},
   "outputs": [],
   "source": [
    "import re\n",
    "\n",
    "txt = \"The rain in Spain\"\n",
    "x = re.search(\"^The.*Spain$\", txt)\n",
    "x"
   ]
  },
  {
   "cell_type": "code",
   "execution_count": null,
   "id": "d69a4d82",
   "metadata": {},
   "outputs": [],
   "source": []
  },
  {
   "cell_type": "code",
   "execution_count": null,
   "id": "cd94de20",
   "metadata": {},
   "outputs": [],
   "source": []
  },
  {
   "cell_type": "markdown",
   "id": "c2291e99",
   "metadata": {},
   "source": [
    "## [json](https://docs.python.org/3.7/library/json.html)"
   ]
  },
  {
   "cell_type": "code",
   "execution_count": null,
   "id": "563b5917",
   "metadata": {},
   "outputs": [],
   "source": []
  },
  {
   "cell_type": "code",
   "execution_count": null,
   "id": "c0ab50c1",
   "metadata": {},
   "outputs": [],
   "source": []
  },
  {
   "cell_type": "code",
   "execution_count": null,
   "id": "3d93cc60",
   "metadata": {},
   "outputs": [],
   "source": []
  },
  {
   "cell_type": "code",
   "execution_count": null,
   "id": "82ff5dcf",
   "metadata": {},
   "outputs": [],
   "source": []
  },
  {
   "cell_type": "markdown",
   "id": "58536138",
   "metadata": {},
   "source": [
    "## [itertools](https://docs.python.org/3.7/library/itertools.html)"
   ]
  },
  {
   "cell_type": "code",
   "execution_count": null,
   "id": "d599d458",
   "metadata": {},
   "outputs": [],
   "source": []
  },
  {
   "cell_type": "code",
   "execution_count": null,
   "id": "63ca493b",
   "metadata": {},
   "outputs": [],
   "source": []
  },
  {
   "cell_type": "code",
   "execution_count": null,
   "id": "b47bed5a",
   "metadata": {},
   "outputs": [],
   "source": []
  },
  {
   "cell_type": "code",
   "execution_count": null,
   "id": "f198a13b",
   "metadata": {},
   "outputs": [],
   "source": []
  },
  {
   "cell_type": "code",
   "execution_count": null,
   "id": "84f70cc1",
   "metadata": {},
   "outputs": [],
   "source": []
  }
 ],
 "metadata": {
  "kernelspec": {
   "display_name": "Python 3 (ipykernel)",
   "language": "python",
   "name": "python3"
  },
  "language_info": {
   "codemirror_mode": {
    "name": "ipython",
    "version": 3
   },
   "file_extension": ".py",
   "mimetype": "text/x-python",
   "name": "python",
   "nbconvert_exporter": "python",
   "pygments_lexer": "ipython3",
   "version": "3.9.6"
  }
 },
 "nbformat": 4,
 "nbformat_minor": 5
}
