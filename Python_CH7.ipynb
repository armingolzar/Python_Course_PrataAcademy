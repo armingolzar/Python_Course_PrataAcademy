{
 "cells": [
  {
   "cell_type": "markdown",
   "id": "cf724061",
   "metadata": {},
   "source": [
    "# Chapter 7: List"
   ]
  },
  {
   "cell_type": "code",
   "execution_count": 1,
   "id": "ec73e860",
   "metadata": {},
   "outputs": [],
   "source": [
    "numbers = [1, 2, 3, 4, 3, 44, 3, 3, 5]\n",
    "names = ['Amin', 'Sahar', 'Armin', 'Narges', 'Raana', 'Milad']\n",
    "lst = [20, 'Mahdi', ['Mahdi',20,\"Amin\"]]\n",
    "empty = []"
   ]
  },
  {
   "cell_type": "code",
   "execution_count": 2,
   "id": "0c66c3cd",
   "metadata": {},
   "outputs": [
    {
     "data": {
      "text/plain": [
       "['M', 'a', 'h', 'd', 'i']"
      ]
     },
     "execution_count": 2,
     "metadata": {},
     "output_type": "execute_result"
    }
   ],
   "source": [
    "list(lst[2][0])"
   ]
  },
  {
   "cell_type": "code",
   "execution_count": null,
   "id": "86a4ffdb",
   "metadata": {},
   "outputs": [],
   "source": []
  },
  {
   "cell_type": "code",
   "execution_count": 3,
   "id": "d50a4590",
   "metadata": {},
   "outputs": [
    {
     "data": {
      "text/plain": [
       "(True, ['i', 'd', 'h', 'a', 'M'])"
      ]
     },
     "execution_count": 3,
     "metadata": {},
     "output_type": "execute_result"
    }
   ],
   "source": [
    "isinstance(lst[2],list),list(reversed(lst[1]))"
   ]
  },
  {
   "cell_type": "code",
   "execution_count": 4,
   "id": "25a06bcc",
   "metadata": {},
   "outputs": [
    {
     "data": {
      "text/plain": [
       "\"[20, 'Mahdi', ['Mahdi', 20, 'Amin']]\""
      ]
     },
     "execution_count": 4,
     "metadata": {},
     "output_type": "execute_result"
    }
   ],
   "source": [
    "repr(lst)"
   ]
  },
  {
   "cell_type": "code",
   "execution_count": 5,
   "id": "efa834f4",
   "metadata": {},
   "outputs": [
    {
     "data": {
      "text/plain": [
       "\"[20, 'Mahdi', ['Mahdi', 20, 'Amin']]\""
      ]
     },
     "execution_count": 5,
     "metadata": {},
     "output_type": "execute_result"
    }
   ],
   "source": [
    "str(lst)"
   ]
  },
  {
   "cell_type": "code",
   "execution_count": 6,
   "id": "a86e05e7",
   "metadata": {},
   "outputs": [
    {
     "data": {
      "text/plain": [
       "True"
      ]
     },
     "execution_count": 6,
     "metadata": {},
     "output_type": "execute_result"
    }
   ],
   "source": [
    "str(lst) == repr(lst)"
   ]
  },
  {
   "cell_type": "code",
   "execution_count": 7,
   "id": "3802ff99",
   "metadata": {},
   "outputs": [
    {
     "data": {
      "text/plain": [
       "['__add__',\n",
       " '__class__',\n",
       " '__class_getitem__',\n",
       " '__contains__',\n",
       " '__delattr__',\n",
       " '__delitem__',\n",
       " '__dir__',\n",
       " '__doc__',\n",
       " '__eq__',\n",
       " '__format__',\n",
       " '__ge__',\n",
       " '__getattribute__',\n",
       " '__getitem__',\n",
       " '__gt__',\n",
       " '__hash__',\n",
       " '__iadd__',\n",
       " '__imul__',\n",
       " '__init__',\n",
       " '__init_subclass__',\n",
       " '__iter__',\n",
       " '__le__',\n",
       " '__len__',\n",
       " '__lt__',\n",
       " '__mul__',\n",
       " '__ne__',\n",
       " '__new__',\n",
       " '__reduce__',\n",
       " '__reduce_ex__',\n",
       " '__repr__',\n",
       " '__reversed__',\n",
       " '__rmul__',\n",
       " '__setattr__',\n",
       " '__setitem__',\n",
       " '__sizeof__',\n",
       " '__str__',\n",
       " '__subclasshook__',\n",
       " 'append',\n",
       " 'clear',\n",
       " 'copy',\n",
       " 'count',\n",
       " 'extend',\n",
       " 'index',\n",
       " 'insert',\n",
       " 'pop',\n",
       " 'remove',\n",
       " 'reverse',\n",
       " 'sort']"
      ]
     },
     "execution_count": 7,
     "metadata": {},
     "output_type": "execute_result"
    }
   ],
   "source": [
    "dir(numbers)"
   ]
  },
  {
   "cell_type": "code",
   "execution_count": 8,
   "id": "064e4972",
   "metadata": {},
   "outputs": [
    {
     "data": {
      "text/plain": [
       "'Amin'"
      ]
     },
     "execution_count": 8,
     "metadata": {},
     "output_type": "execute_result"
    }
   ],
   "source": [
    "s = names[0]\n",
    "s"
   ]
  },
  {
   "cell_type": "code",
   "execution_count": null,
   "id": "67f1ac33",
   "metadata": {},
   "outputs": [],
   "source": [
    "s[1]"
   ]
  },
  {
   "cell_type": "code",
   "execution_count": 9,
   "id": "023254ab",
   "metadata": {},
   "outputs": [
    {
     "name": "stdout",
     "output_type": "stream",
     "text": [
      "[1, 2, 3, 4, 3, 44, 3, 3, 5]\n",
      "['Amin', 'Sahar', 'Armin', 'Narges', 'Raana', 'Milad']\n",
      "[20, 'Mahdi', ['Mahdi', 20, 'Amin']]\n"
     ]
    }
   ],
   "source": [
    "print(numbers)\n",
    "print(names)\n",
    "print(lst)"
   ]
  },
  {
   "cell_type": "code",
   "execution_count": 10,
   "id": "fa7fdb1f",
   "metadata": {},
   "outputs": [
    {
     "data": {
      "text/plain": [
       "[20, 'Mahdi', ['Mahdi', 20, 'Amin']]"
      ]
     },
     "execution_count": 10,
     "metadata": {},
     "output_type": "execute_result"
    }
   ],
   "source": [
    "lst"
   ]
  },
  {
   "cell_type": "code",
   "execution_count": 11,
   "id": "10e0de69",
   "metadata": {},
   "outputs": [
    {
     "data": {
      "text/plain": [
       "'M'"
      ]
     },
     "execution_count": 11,
     "metadata": {},
     "output_type": "execute_result"
    }
   ],
   "source": [
    "lst[2][0][0]"
   ]
  },
  {
   "cell_type": "code",
   "execution_count": 12,
   "id": "053a951e",
   "metadata": {},
   "outputs": [],
   "source": [
    "# lists are mutable\n",
    "names[0] = 'Reza'"
   ]
  },
  {
   "cell_type": "code",
   "execution_count": 13,
   "id": "27e9fc43",
   "metadata": {},
   "outputs": [
    {
     "data": {
      "text/plain": [
       "['Reza', 'Sahar', 'Armin', 'Narges', 'Raana', 'Milad']"
      ]
     },
     "execution_count": 13,
     "metadata": {},
     "output_type": "execute_result"
    }
   ],
   "source": [
    "names"
   ]
  },
  {
   "cell_type": "code",
   "execution_count": 14,
   "id": "49c65b85",
   "metadata": {},
   "outputs": [
    {
     "name": "stdout",
     "output_type": "stream",
     "text": [
      "(0, 'Reza')\n",
      "(1, 'Sahar')\n",
      "(2, 'Armin')\n",
      "(3, 'Narges')\n",
      "(4, 'Raana')\n",
      "(5, 'Milad')\n"
     ]
    }
   ],
   "source": [
    "for name in enumerate(names):\n",
    "    print(name)"
   ]
  },
  {
   "cell_type": "code",
   "execution_count": 17,
   "id": "7e679221",
   "metadata": {},
   "outputs": [
    {
     "name": "stdout",
     "output_type": "stream",
     "text": [
      "('a', 'A')\n",
      "('b', 'B')\n",
      "('c', 'C')\n"
     ]
    }
   ],
   "source": [
    "lst1 = ['A','B','C']\n",
    "lst2 = ['a','b','c','v']\n",
    "for name in zip(lst2,lst1):\n",
    "    print(name)"
   ]
  },
  {
   "cell_type": "code",
   "execution_count": 16,
   "id": "352e8f51",
   "metadata": {},
   "outputs": [
    {
     "data": {
      "text/plain": [
       "<zip at 0x1088ea880>"
      ]
     },
     "execution_count": 16,
     "metadata": {},
     "output_type": "execute_result"
    }
   ],
   "source": [
    "zip(lst2,lst1)"
   ]
  },
  {
   "cell_type": "code",
   "execution_count": 18,
   "id": "692fd016",
   "metadata": {},
   "outputs": [
    {
     "data": {
      "text/plain": [
       "[0, 1, 2, 3, 4, 5, 6, 7, 8, 9]"
      ]
     },
     "execution_count": 18,
     "metadata": {},
     "output_type": "execute_result"
    }
   ],
   "source": [
    "lst = list(range(10))\n",
    "lst"
   ]
  },
  {
   "cell_type": "code",
   "execution_count": 19,
   "id": "0a9b3a7c",
   "metadata": {},
   "outputs": [
    {
     "ename": "TypeError",
     "evalue": "unsupported operand type(s) for /: 'list' and 'int'",
     "output_type": "error",
     "traceback": [
      "\u001b[0;31m---------------------------------------------------------------------------\u001b[0m",
      "\u001b[0;31mTypeError\u001b[0m                                 Traceback (most recent call last)",
      "Cell \u001b[0;32mIn[19], line 1\u001b[0m\n\u001b[0;32m----> 1\u001b[0m \u001b[43mlst\u001b[49m\u001b[43m \u001b[49m\u001b[38;5;241;43m/\u001b[39;49m\u001b[43m \u001b[49m\u001b[38;5;241;43m2\u001b[39;49m\n",
      "\u001b[0;31mTypeError\u001b[0m: unsupported operand type(s) for /: 'list' and 'int'"
     ]
    }
   ],
   "source": [
    "lst / 2"
   ]
  },
  {
   "cell_type": "code",
   "execution_count": 20,
   "id": "aee92e6c",
   "metadata": {},
   "outputs": [
    {
     "data": {
      "text/plain": [
       "[0.0, 0.5, 1.0, 1.5, 2.0, 2.5, 3.0, 3.5, 4.0, 4.5]"
      ]
     },
     "execution_count": 20,
     "metadata": {},
     "output_type": "execute_result"
    }
   ],
   "source": [
    "new_lst = []\n",
    "for item in lst:\n",
    "    new_lst.append(item/2)\n",
    "    \n",
    "new_lst"
   ]
  },
  {
   "cell_type": "code",
   "execution_count": 21,
   "id": "3bbdfb91",
   "metadata": {},
   "outputs": [],
   "source": [
    "lst[9] = 11"
   ]
  },
  {
   "cell_type": "code",
   "execution_count": 22,
   "id": "b43c8061",
   "metadata": {},
   "outputs": [
    {
     "data": {
      "text/plain": [
       "[0, 1, 2, 3, 4, 5, 6, 7, 8, 11]"
      ]
     },
     "execution_count": 22,
     "metadata": {},
     "output_type": "execute_result"
    }
   ],
   "source": [
    "lst"
   ]
  },
  {
   "cell_type": "code",
   "execution_count": 24,
   "id": "41926051",
   "metadata": {},
   "outputs": [
    {
     "data": {
      "text/plain": [
       "[0.0, 0.5, 1.0, 1.5, 2.0, 2.5, 3.0, 3.5, 4.0, 5.5]"
      ]
     },
     "execution_count": 24,
     "metadata": {},
     "output_type": "execute_result"
    }
   ],
   "source": [
    "for i in range(len(lst)):\n",
    "    lst[i] = lst[i]/2\n",
    "    \n",
    "lst"
   ]
  },
  {
   "cell_type": "code",
   "execution_count": 23,
   "id": "57d7a6bd",
   "metadata": {},
   "outputs": [
    {
     "ename": "ZeroDivisionError",
     "evalue": "division by zero",
     "output_type": "error",
     "traceback": [
      "\u001b[0;31m---------------------------------------------------------------------------\u001b[0m",
      "\u001b[0;31mZeroDivisionError\u001b[0m                         Traceback (most recent call last)",
      "Cell \u001b[0;32mIn[23], line 1\u001b[0m\n\u001b[0;32m----> 1\u001b[0m \u001b[38;5;241;43m2\u001b[39;49m\u001b[38;5;241;43m/\u001b[39;49m\u001b[38;5;241;43m0\u001b[39;49m\n",
      "\u001b[0;31mZeroDivisionError\u001b[0m: division by zero"
     ]
    }
   ],
   "source": [
    "2/0"
   ]
  },
  {
   "cell_type": "code",
   "execution_count": 25,
   "id": "d0e36531",
   "metadata": {},
   "outputs": [],
   "source": [
    "# repeat it 2 times\n",
    "i = 0\n",
    "for number in numbers:\n",
    "    numbers[i] = number * 2\n",
    "    i += 1"
   ]
  },
  {
   "cell_type": "code",
   "execution_count": 26,
   "id": "4fa1b44e",
   "metadata": {},
   "outputs": [
    {
     "data": {
      "text/plain": [
       "[2, 4, 6, 8, 6, 88, 6, 6, 10]"
      ]
     },
     "execution_count": 26,
     "metadata": {},
     "output_type": "execute_result"
    }
   ],
   "source": [
    "numbers"
   ]
  },
  {
   "cell_type": "code",
   "execution_count": 30,
   "id": "44703b81",
   "metadata": {},
   "outputs": [
    {
     "data": {
      "text/plain": [
       "[3.0, 3.0, 3.0, 3.0]"
      ]
     },
     "execution_count": 30,
     "metadata": {},
     "output_type": "execute_result"
    }
   ],
   "source": [
    "lst3 = [number / 2 for number in numbers if number%3 == 0]\n",
    "lst3"
   ]
  },
  {
   "cell_type": "code",
   "execution_count": 29,
   "id": "dea44955",
   "metadata": {},
   "outputs": [
    {
     "data": {
      "text/plain": [
       "[2, 4, 6, 8, 6, 88, 6, 6, 10]"
      ]
     },
     "execution_count": 29,
     "metadata": {},
     "output_type": "execute_result"
    }
   ],
   "source": [
    "numbers"
   ]
  },
  {
   "cell_type": "code",
   "execution_count": null,
   "id": "df18c9e7",
   "metadata": {},
   "outputs": [],
   "source": []
  },
  {
   "cell_type": "code",
   "execution_count": 31,
   "id": "43147ed9",
   "metadata": {},
   "outputs": [
    {
     "data": {
      "text/plain": [
       "[4, 8, 12, 16, 12, 176, 12, 12, 20]"
      ]
     },
     "execution_count": 31,
     "metadata": {},
     "output_type": "execute_result"
    }
   ],
   "source": [
    "new_list1 = []\n",
    "for number in numbers:\n",
    "    new_list1.append(number*2)\n",
    "new_list1"
   ]
  },
  {
   "cell_type": "code",
   "execution_count": 32,
   "id": "10d9f6d1",
   "metadata": {},
   "outputs": [
    {
     "data": {
      "text/plain": [
       "[4, 8, 12, 16, 12, 176, 12, 12, 20]"
      ]
     },
     "execution_count": 32,
     "metadata": {},
     "output_type": "execute_result"
    }
   ],
   "source": [
    "lst4 = [number * 2 for number in numbers]\n",
    "lst4"
   ]
  },
  {
   "cell_type": "code",
   "execution_count": 33,
   "id": "3af7ef84",
   "metadata": {},
   "outputs": [
    {
     "ename": "TypeError",
     "evalue": "unsupported operand type(s) for /: 'list' and 'int'",
     "output_type": "error",
     "traceback": [
      "\u001b[0;31m---------------------------------------------------------------------------\u001b[0m",
      "\u001b[0;31mTypeError\u001b[0m                                 Traceback (most recent call last)",
      "Cell \u001b[0;32mIn[33], line 2\u001b[0m\n\u001b[1;32m      1\u001b[0m numbers\n\u001b[0;32m----> 2\u001b[0m new_nums \u001b[38;5;241m=\u001b[39m \u001b[43mnumbers\u001b[49m\u001b[43m \u001b[49m\u001b[38;5;241;43m/\u001b[39;49m\u001b[43m \u001b[49m\u001b[38;5;241;43m2\u001b[39;49m\n",
      "\u001b[0;31mTypeError\u001b[0m: unsupported operand type(s) for /: 'list' and 'int'"
     ]
    }
   ],
   "source": [
    "numbers\n",
    "new_nums = numbers / 2"
   ]
  },
  {
   "cell_type": "code",
   "execution_count": 34,
   "id": "b46177c6",
   "metadata": {},
   "outputs": [
    {
     "data": {
      "text/plain": [
       "[1.0, 2.0, 3.0, 4.0, 3.0, 44.0, 3.0, 3.0, 5.0]"
      ]
     },
     "execution_count": 34,
     "metadata": {},
     "output_type": "execute_result"
    }
   ],
   "source": [
    "# instead you can use:\n",
    "new_numbers = [numbers[i]/2 for i in range(len(numbers))]\n",
    "new_numbers"
   ]
  },
  {
   "cell_type": "markdown",
   "id": "6eb6a643",
   "metadata": {},
   "source": [
    "### List operations"
   ]
  },
  {
   "cell_type": "code",
   "execution_count": 35,
   "id": "08fe2cd7",
   "metadata": {},
   "outputs": [
    {
     "data": {
      "text/plain": [
       "[10, 20, 30, 40, 50, 60]"
      ]
     },
     "execution_count": 35,
     "metadata": {},
     "output_type": "execute_result"
    }
   ],
   "source": [
    "first = [10, 20, 30]\n",
    "second = [40, 50, 60]\n",
    "first + second"
   ]
  },
  {
   "cell_type": "code",
   "execution_count": 36,
   "id": "1186665a",
   "metadata": {},
   "outputs": [
    {
     "data": {
      "text/plain": [
       "[10, 20, 30, 10, 20, 30, 10, 20, 30]"
      ]
     },
     "execution_count": 36,
     "metadata": {},
     "output_type": "execute_result"
    }
   ],
   "source": [
    "first * 3"
   ]
  },
  {
   "cell_type": "markdown",
   "id": "af10a888",
   "metadata": {},
   "source": [
    "### List Slices"
   ]
  },
  {
   "cell_type": "code",
   "execution_count": 37,
   "id": "146ebdeb",
   "metadata": {},
   "outputs": [
    {
     "data": {
      "text/plain": [
       "[2, 4, 6, 8, 6, 88, 6, 6, 10]"
      ]
     },
     "execution_count": 37,
     "metadata": {},
     "output_type": "execute_result"
    }
   ],
   "source": [
    "numbers"
   ]
  },
  {
   "cell_type": "code",
   "execution_count": 38,
   "id": "6f10c813",
   "metadata": {},
   "outputs": [
    {
     "data": {
      "text/plain": [
       "([2, 4, 6], 10, [2, 4, 6, 8], [6, 6, 10])"
      ]
     },
     "execution_count": 38,
     "metadata": {},
     "output_type": "execute_result"
    }
   ],
   "source": [
    "numbers[0:3], numbers[-1], numbers[:4], numbers[4::2]"
   ]
  },
  {
   "cell_type": "code",
   "execution_count": null,
   "id": "8ab2591e",
   "metadata": {},
   "outputs": [],
   "source": []
  },
  {
   "cell_type": "markdown",
   "id": "cd72aa41",
   "metadata": {},
   "source": [
    "### List Methods"
   ]
  },
  {
   "cell_type": "code",
   "execution_count": 39,
   "id": "20f468c2",
   "metadata": {},
   "outputs": [
    {
     "data": {
      "text/plain": [
       "['Reza', 'Sahar', 'Armin', 'Narges', 'Raana', 'Milad']"
      ]
     },
     "execution_count": 39,
     "metadata": {},
     "output_type": "execute_result"
    }
   ],
   "source": [
    "names"
   ]
  },
  {
   "cell_type": "code",
   "execution_count": 40,
   "id": "a0da26f6",
   "metadata": {},
   "outputs": [
    {
     "data": {
      "text/plain": [
       "['__add__',\n",
       " '__class__',\n",
       " '__class_getitem__',\n",
       " '__contains__',\n",
       " '__delattr__',\n",
       " '__delitem__',\n",
       " '__dir__',\n",
       " '__doc__',\n",
       " '__eq__',\n",
       " '__format__',\n",
       " '__ge__',\n",
       " '__getattribute__',\n",
       " '__getitem__',\n",
       " '__gt__',\n",
       " '__hash__',\n",
       " '__iadd__',\n",
       " '__imul__',\n",
       " '__init__',\n",
       " '__init_subclass__',\n",
       " '__iter__',\n",
       " '__le__',\n",
       " '__len__',\n",
       " '__lt__',\n",
       " '__mul__',\n",
       " '__ne__',\n",
       " '__new__',\n",
       " '__reduce__',\n",
       " '__reduce_ex__',\n",
       " '__repr__',\n",
       " '__reversed__',\n",
       " '__rmul__',\n",
       " '__setattr__',\n",
       " '__setitem__',\n",
       " '__sizeof__',\n",
       " '__str__',\n",
       " '__subclasshook__',\n",
       " 'append',\n",
       " 'clear',\n",
       " 'copy',\n",
       " 'count',\n",
       " 'extend',\n",
       " 'index',\n",
       " 'insert',\n",
       " 'pop',\n",
       " 'remove',\n",
       " 'reverse',\n",
       " 'sort']"
      ]
     },
     "execution_count": 40,
     "metadata": {},
     "output_type": "execute_result"
    }
   ],
   "source": [
    "dir(names)"
   ]
  },
  {
   "cell_type": "code",
   "execution_count": 42,
   "id": "76d9787f",
   "metadata": {},
   "outputs": [
    {
     "data": {
      "text/plain": [
       "([0, 1, 2, 3, 4, 5, 6, 7, 8, 9], [0.0, 1.0, 2.0, 3.0, 4.0])"
      ]
     },
     "execution_count": 42,
     "metadata": {},
     "output_type": "execute_result"
    }
   ],
   "source": [
    "lst = list(range(10))\n",
    "lst1 = [item/2 for item in lst if item%2==0]\n",
    "lst, lst1"
   ]
  },
  {
   "cell_type": "code",
   "execution_count": 41,
   "id": "14d5da2a",
   "metadata": {},
   "outputs": [
    {
     "data": {
      "text/plain": [
       "['Reza', 'Sahar', 'Armin', 'Narges', 'Raana', 'Milad']"
      ]
     },
     "execution_count": 41,
     "metadata": {},
     "output_type": "execute_result"
    }
   ],
   "source": [
    "names"
   ]
  },
  {
   "cell_type": "code",
   "execution_count": null,
   "id": "a3ec302e",
   "metadata": {},
   "outputs": [],
   "source": []
  },
  {
   "cell_type": "code",
   "execution_count": null,
   "id": "ced142a3",
   "metadata": {},
   "outputs": [],
   "source": [
    "lst.append(lst1)"
   ]
  },
  {
   "cell_type": "code",
   "execution_count": null,
   "id": "5cece7bd",
   "metadata": {},
   "outputs": [],
   "source": [
    "lst"
   ]
  },
  {
   "cell_type": "code",
   "execution_count": null,
   "id": "1830d157",
   "metadata": {},
   "outputs": [],
   "source": [
    "help(names.sort)"
   ]
  },
  {
   "cell_type": "code",
   "execution_count": null,
   "id": "b28fa1b0",
   "metadata": {},
   "outputs": [],
   "source": [
    "lst2 = [2, 25, 3, 55, 71, 1]\n",
    "lst2.sort()\n",
    "lst55 = lst2\n"
   ]
  },
  {
   "cell_type": "code",
   "execution_count": null,
   "id": "9343b784",
   "metadata": {},
   "outputs": [],
   "source": [
    "namha = ['C', 'A']\n",
    "namha.sort()\n",
    "namha"
   ]
  },
  {
   "cell_type": "code",
   "execution_count": null,
   "id": "d7358d60",
   "metadata": {},
   "outputs": [],
   "source": [
    "lst2"
   ]
  },
  {
   "cell_type": "code",
   "execution_count": null,
   "id": "d306612a",
   "metadata": {},
   "outputs": [],
   "source": [
    "names, names.sort(), names"
   ]
  },
  {
   "cell_type": "code",
   "execution_count": null,
   "id": "c1ebc3e4",
   "metadata": {},
   "outputs": [],
   "source": []
  },
  {
   "cell_type": "markdown",
   "id": "d545486f",
   "metadata": {},
   "source": [
    "#### append()"
   ]
  },
  {
   "cell_type": "code",
   "execution_count": null,
   "id": "a42c17b8",
   "metadata": {},
   "outputs": [],
   "source": [
    "names.append('Amin')\n",
    "names"
   ]
  },
  {
   "cell_type": "markdown",
   "id": "51702c69",
   "metadata": {},
   "source": [
    "#### sort()"
   ]
  },
  {
   "cell_type": "code",
   "execution_count": null,
   "id": "6c463caf",
   "metadata": {},
   "outputs": [],
   "source": [
    "names.sort(reverse = True)\n",
    "names"
   ]
  },
  {
   "cell_type": "markdown",
   "id": "fbd1fd03",
   "metadata": {},
   "source": [
    "#### extend()"
   ]
  },
  {
   "cell_type": "code",
   "execution_count": 43,
   "id": "f54335a6",
   "metadata": {},
   "outputs": [
    {
     "name": "stdout",
     "output_type": "stream",
     "text": [
      "['a', 'b', 'c', 'd', 'e']\n"
     ]
    }
   ],
   "source": [
    "t1 = ['a', 'b', 'c']\n",
    "t2 = ['d', 'e']\n",
    "t1.extend(t2)\n",
    "print(t1)"
   ]
  },
  {
   "cell_type": "markdown",
   "id": "0dbfe60d",
   "metadata": {},
   "source": [
    "#### pop()"
   ]
  },
  {
   "cell_type": "code",
   "execution_count": 44,
   "id": "948fbc83",
   "metadata": {},
   "outputs": [
    {
     "name": "stdout",
     "output_type": "stream",
     "text": [
      "t is:  ['b', 'c']\n",
      "x is:  a\n"
     ]
    }
   ],
   "source": [
    "t = ['a', 'b', 'c']\n",
    "x = t.pop(0)\n",
    "print(\"t is: \", t)\n",
    "print(\"x is: \", x)"
   ]
  },
  {
   "cell_type": "markdown",
   "id": "1cb5c656",
   "metadata": {},
   "source": [
    "#### del()"
   ]
  },
  {
   "cell_type": "code",
   "execution_count": 45,
   "id": "a6562611",
   "metadata": {},
   "outputs": [
    {
     "name": "stdout",
     "output_type": "stream",
     "text": [
      "t is:  ['a', 'c']\n"
     ]
    }
   ],
   "source": [
    "t = ['a', 'b', 'c'] \n",
    "del t[1]\n",
    "print(\"t is: \", t)"
   ]
  },
  {
   "cell_type": "code",
   "execution_count": 46,
   "id": "61f0e494",
   "metadata": {},
   "outputs": [
    {
     "name": "stdout",
     "output_type": "stream",
     "text": [
      "t is:  ['a', 'f']\n"
     ]
    }
   ],
   "source": [
    "t = ['a', 'b', 'c', 'd', 'e', 'f']\n",
    "del t[1:5]\n",
    "print('t is: ', t)"
   ]
  },
  {
   "cell_type": "code",
   "execution_count": 47,
   "id": "d78f6837",
   "metadata": {},
   "outputs": [
    {
     "name": "stdout",
     "output_type": "stream",
     "text": [
      "t is:  ['a', 'c']\n"
     ]
    }
   ],
   "source": [
    "t = ['a', 'b', 'c']\n",
    "t.remove('b')\n",
    "print('t is: ', t)"
   ]
  },
  {
   "cell_type": "markdown",
   "id": "83df664c",
   "metadata": {},
   "source": [
    "#### Some Functions"
   ]
  },
  {
   "cell_type": "code",
   "execution_count": 48,
   "id": "65944c3e",
   "metadata": {},
   "outputs": [
    {
     "name": "stdout",
     "output_type": "stream",
     "text": [
      "length of nums is =  6\n",
      "maximum of nums is =  74\n",
      "minimum of nums is =  3\n",
      "summation of nums is =  154\n",
      "average of nums is =  25.666666666666668\n"
     ]
    }
   ],
   "source": [
    "nums = [3, 41, 12, 9, 74, 15]\n",
    "print('length of nums is = ', len(nums))\n",
    "print('maximum of nums is = ', max(nums))\n",
    "print('minimum of nums is = ', min(nums))\n",
    "print('summation of nums is = ', sum(nums))\n",
    "print('average of nums is = ', sum(nums)/len(nums))"
   ]
  },
  {
   "cell_type": "code",
   "execution_count": null,
   "id": "7fcb99ef",
   "metadata": {},
   "outputs": [],
   "source": [
    "# EXE\n",
    "total = 0 \n",
    "count = 0 \n",
    "average = None\n",
    "while (True):\n",
    "    inp = input('Enter a number: ') \n",
    "    if inp == 'done': \n",
    "        break\n",
    "    value = float(inp)\n",
    "    total = total + value\n",
    "    count = count + 1\n",
    "    average = total / count\n",
    "print('Average:', average)"
   ]
  },
  {
   "cell_type": "code",
   "execution_count": null,
   "id": "b3ac0891",
   "metadata": {},
   "outputs": [],
   "source": [
    "numlist = list() \n",
    "average = None\n",
    "while (True):\n",
    "    inp = input('Enter a number: ') \n",
    "    if inp == 'done': break\n",
    "    value = float(inp)\n",
    "    numlist.append(value)\n",
    "average = sum(numlist) / len(numlist)\n",
    "print('Average:', average)"
   ]
  },
  {
   "cell_type": "markdown",
   "id": "02a2e72a",
   "metadata": {},
   "source": [
    "### Lists and Strings"
   ]
  },
  {
   "cell_type": "code",
   "execution_count": null,
   "id": "fdb1225e",
   "metadata": {},
   "outputs": [],
   "source": [
    "s = 'spam'\n",
    "t = list(s)\n",
    "print(t)"
   ]
  },
  {
   "cell_type": "code",
   "execution_count": null,
   "id": "ffdf03c1",
   "metadata": {},
   "outputs": [],
   "source": []
  },
  {
   "cell_type": "code",
   "execution_count": null,
   "id": "06bffac2",
   "metadata": {},
   "outputs": [],
   "source": []
  },
  {
   "cell_type": "code",
   "execution_count": null,
   "id": "c5fbe51c",
   "metadata": {},
   "outputs": [],
   "source": [
    "s = 'This is Amin Oroji, from Prata Technology.'\n",
    "t = s.split()\n",
    "print(t)"
   ]
  },
  {
   "cell_type": "code",
   "execution_count": null,
   "id": "ffa52912",
   "metadata": {},
   "outputs": [],
   "source": [
    "delimiter = ','\n",
    "s.split(delimiter)"
   ]
  },
  {
   "cell_type": "code",
   "execution_count": null,
   "id": "0d0fbc36",
   "metadata": {},
   "outputs": [],
   "source": [
    "delimiter = '$'\n",
    "s1 = 'This$is$Amin$ Oroji$,$ from $Prata$ Technology'\n",
    "s1.split(delimiter)"
   ]
  },
  {
   "cell_type": "code",
   "execution_count": null,
   "id": "990a197b",
   "metadata": {},
   "outputs": [],
   "source": [
    "t = ['This', 'is', 'Amin', 'Oroji'] \n",
    "delimiter = ' '\n",
    "delimiter.join(t)"
   ]
  },
  {
   "cell_type": "code",
   "execution_count": null,
   "id": "a8a8a25d",
   "metadata": {},
   "outputs": [],
   "source": [
    "t = ['This', 'is', 'Amin', 'Oroji'] \n",
    "delimiter = ' * '\n",
    "delimiter.join(t)"
   ]
  },
  {
   "cell_type": "code",
   "execution_count": null,
   "id": "f6d2cb92",
   "metadata": {},
   "outputs": [],
   "source": [
    "s = '      Amin          Oroji           '\n",
    "t = s.split()\n",
    "print(t)"
   ]
  },
  {
   "cell_type": "code",
   "execution_count": null,
   "id": "8e832281",
   "metadata": {},
   "outputs": [],
   "source": [
    "delimiter = ' '\n",
    "delimiter.join(t)"
   ]
  },
  {
   "cell_type": "code",
   "execution_count": null,
   "id": "644b0168",
   "metadata": {},
   "outputs": [],
   "source": [
    "while True:\n",
    "    inp = input()\n",
    "    if inp == 'done':\n",
    "        break\n",
    "    t = inp.split()\n",
    "    print(' '.join(t))"
   ]
  },
  {
   "cell_type": "markdown",
   "id": "8961eeda",
   "metadata": {},
   "source": [
    "### Objects and Values"
   ]
  },
  {
   "cell_type": "code",
   "execution_count": 49,
   "id": "432e88ba",
   "metadata": {},
   "outputs": [
    {
     "data": {
      "text/plain": [
       "True"
      ]
     },
     "execution_count": 49,
     "metadata": {},
     "output_type": "execute_result"
    }
   ],
   "source": [
    "a = 'banana'\n",
    "b = 'banana'\n",
    "a is b"
   ]
  },
  {
   "cell_type": "code",
   "execution_count": 50,
   "id": "e19bdae3",
   "metadata": {},
   "outputs": [
    {
     "data": {
      "text/plain": [
       "False"
      ]
     },
     "execution_count": 50,
     "metadata": {},
     "output_type": "execute_result"
    }
   ],
   "source": [
    "a = [1, 2, 3]\n",
    "b = [1, 2, 3]\n",
    "a is b"
   ]
  },
  {
   "cell_type": "code",
   "execution_count": 51,
   "id": "3f7b3357",
   "metadata": {},
   "outputs": [
    {
     "data": {
      "text/plain": [
       "list"
      ]
     },
     "execution_count": 51,
     "metadata": {},
     "output_type": "execute_result"
    }
   ],
   "source": [
    "type(a)"
   ]
  },
  {
   "cell_type": "code",
   "execution_count": null,
   "id": "35830bc3",
   "metadata": {},
   "outputs": [],
   "source": []
  },
  {
   "cell_type": "code",
   "execution_count": null,
   "id": "3dc3f702",
   "metadata": {},
   "outputs": [],
   "source": []
  },
  {
   "cell_type": "code",
   "execution_count": null,
   "id": "7fd43668",
   "metadata": {},
   "outputs": [],
   "source": []
  },
  {
   "cell_type": "code",
   "execution_count": null,
   "id": "f50dbf76",
   "metadata": {},
   "outputs": [],
   "source": []
  },
  {
   "cell_type": "markdown",
   "id": "51a32dfe",
   "metadata": {},
   "source": [
    "two lists are ***equivalent***, because they have the same elements, but ***not identical***, because they are **not** the ***same object***."
   ]
  },
  {
   "cell_type": "markdown",
   "id": "f79fb4e8",
   "metadata": {},
   "source": [
    "### Aliasing"
   ]
  },
  {
   "cell_type": "code",
   "execution_count": 52,
   "id": "1bcde2d1",
   "metadata": {},
   "outputs": [
    {
     "data": {
      "text/plain": [
       "True"
      ]
     },
     "execution_count": 52,
     "metadata": {},
     "output_type": "execute_result"
    }
   ],
   "source": [
    "a = [1, 2, 3]\n",
    "b = a\n",
    "a is b"
   ]
  },
  {
   "cell_type": "markdown",
   "id": "6292a915",
   "metadata": {},
   "source": [
    "An object with more than one reference has more than one name, so we say that the object is aliased."
   ]
  },
  {
   "cell_type": "code",
   "execution_count": null,
   "id": "2d16893e",
   "metadata": {},
   "outputs": [],
   "source": [
    "a[0] = 25\n",
    "a"
   ]
  },
  {
   "cell_type": "code",
   "execution_count": null,
   "id": "682cc3c9",
   "metadata": {},
   "outputs": [],
   "source": [
    "b"
   ]
  },
  {
   "cell_type": "code",
   "execution_count": null,
   "id": "a81aedfb",
   "metadata": {},
   "outputs": [],
   "source": []
  },
  {
   "cell_type": "code",
   "execution_count": null,
   "id": "0af5f5f2",
   "metadata": {},
   "outputs": [],
   "source": []
  },
  {
   "cell_type": "markdown",
   "id": "9d33c223",
   "metadata": {},
   "source": [
    "If the aliased object is mutable, changes made with one alias affect the other:"
   ]
  },
  {
   "cell_type": "code",
   "execution_count": null,
   "id": "056059df",
   "metadata": {},
   "outputs": [],
   "source": [
    "b[0] = 17\n",
    "print(a)"
   ]
  },
  {
   "cell_type": "markdown",
   "id": "88ded16d",
   "metadata": {},
   "source": [
    "#### copy()"
   ]
  },
  {
   "cell_type": "code",
   "execution_count": null,
   "id": "e0be16ec",
   "metadata": {},
   "outputs": [],
   "source": [
    "c = a.copy()\n",
    "c"
   ]
  },
  {
   "cell_type": "code",
   "execution_count": null,
   "id": "b2c371bb",
   "metadata": {},
   "outputs": [],
   "source": [
    "a is c"
   ]
  },
  {
   "cell_type": "code",
   "execution_count": null,
   "id": "1b360ccb",
   "metadata": {},
   "outputs": [],
   "source": [
    "c[0] = 12\n",
    "print('a = ', a)\n",
    "print('c = ', c)"
   ]
  },
  {
   "cell_type": "code",
   "execution_count": 56,
   "id": "475af8b4",
   "metadata": {},
   "outputs": [],
   "source": [
    "hashem = [20, 30, 40]\n",
    "akbar = hashem\n",
    "asghar = hashem.copy()"
   ]
  },
  {
   "cell_type": "code",
   "execution_count": 57,
   "id": "db508563",
   "metadata": {},
   "outputs": [],
   "source": [
    "hashem[0]= 60"
   ]
  },
  {
   "cell_type": "code",
   "execution_count": 55,
   "id": "15cc5678",
   "metadata": {},
   "outputs": [
    {
     "data": {
      "text/plain": [
       "[60, 30, 40]"
      ]
     },
     "execution_count": 55,
     "metadata": {},
     "output_type": "execute_result"
    }
   ],
   "source": [
    "akbar"
   ]
  },
  {
   "cell_type": "code",
   "execution_count": 58,
   "id": "9ccbd078",
   "metadata": {},
   "outputs": [
    {
     "data": {
      "text/plain": [
       "[20, 30, 40]"
      ]
     },
     "execution_count": 58,
     "metadata": {},
     "output_type": "execute_result"
    }
   ],
   "source": [
    "asghar"
   ]
  },
  {
   "cell_type": "code",
   "execution_count": null,
   "id": "a76745fe",
   "metadata": {},
   "outputs": [],
   "source": []
  }
 ],
 "metadata": {
  "kernelspec": {
   "display_name": "Python 3 (ipykernel)",
   "language": "python",
   "name": "python3"
  },
  "language_info": {
   "codemirror_mode": {
    "name": "ipython",
    "version": 3
   },
   "file_extension": ".py",
   "mimetype": "text/x-python",
   "name": "python",
   "nbconvert_exporter": "python",
   "pygments_lexer": "ipython3",
   "version": "3.10.9"
  }
 },
 "nbformat": 4,
 "nbformat_minor": 5
}
