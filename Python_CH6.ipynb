{
 "cells": [
  {
   "cell_type": "markdown",
   "id": "7d991976",
   "metadata": {},
   "source": [
    "# Chapter 5: String "
   ]
  },
  {
   "cell_type": "markdown",
   "id": "f6e962d2",
   "metadata": {},
   "source": [
    "A string is a sequence of characters"
   ]
  },
  {
   "cell_type": "code",
   "execution_count": 1,
   "id": "85f53743",
   "metadata": {},
   "outputs": [],
   "source": [
    "first = 'Amin'\n",
    "last = 'Oroji'"
   ]
  },
  {
   "cell_type": "code",
   "execution_count": 2,
   "id": "b6c98ec2",
   "metadata": {},
   "outputs": [
    {
     "data": {
      "text/plain": [
       "str"
      ]
     },
     "execution_count": 2,
     "metadata": {},
     "output_type": "execute_result"
    }
   ],
   "source": [
    "type(first)"
   ]
  },
  {
   "cell_type": "code",
   "execution_count": 4,
   "id": "c0164460",
   "metadata": {},
   "outputs": [
    {
     "data": {
      "text/plain": [
       "('A', 'r', 'n')"
      ]
     },
     "execution_count": 4,
     "metadata": {},
     "output_type": "execute_result"
    }
   ],
   "source": [
    "first[0], last[1], first[-1]"
   ]
  },
  {
   "cell_type": "code",
   "execution_count": 5,
   "id": "f30c48d3",
   "metadata": {},
   "outputs": [
    {
     "ename": "TypeError",
     "evalue": "string indices must be integers",
     "output_type": "error",
     "traceback": [
      "\u001b[0;31m---------------------------------------------------------------------------\u001b[0m",
      "\u001b[0;31mTypeError\u001b[0m                                 Traceback (most recent call last)",
      "Input \u001b[0;32mIn [5]\u001b[0m, in \u001b[0;36m<module>\u001b[0;34m\u001b[0m\n\u001b[0;32m----> 1\u001b[0m \u001b[43mfirst\u001b[49m\u001b[43m[\u001b[49m\u001b[38;5;241;43m1.5\u001b[39;49m\u001b[43m]\u001b[49m\n",
      "\u001b[0;31mTypeError\u001b[0m: string indices must be integers"
     ]
    }
   ],
   "source": [
    "first[1.5]"
   ]
  },
  {
   "cell_type": "code",
   "execution_count": 6,
   "id": "c32601a8",
   "metadata": {},
   "outputs": [
    {
     "data": {
      "text/plain": [
       "4"
      ]
     },
     "execution_count": 6,
     "metadata": {},
     "output_type": "execute_result"
    }
   ],
   "source": [
    "len(first)"
   ]
  },
  {
   "cell_type": "code",
   "execution_count": 7,
   "id": "915624e3",
   "metadata": {},
   "outputs": [
    {
     "name": "stdout",
     "output_type": "stream",
     "text": [
      "O\n",
      "r\n",
      "o\n",
      "j\n",
      "i\n"
     ]
    }
   ],
   "source": [
    "for char in last:\n",
    "    print(char)"
   ]
  },
  {
   "cell_type": "markdown",
   "id": "eb0daf69",
   "metadata": {},
   "source": [
    "### String Slices"
   ]
  },
  {
   "cell_type": "code",
   "execution_count": 8,
   "id": "cd594289",
   "metadata": {},
   "outputs": [
    {
     "data": {
      "text/plain": [
       "' Amin Oroji '"
      ]
     },
     "execution_count": 8,
     "metadata": {},
     "output_type": "execute_result"
    }
   ],
   "source": [
    "new = ' Amin Oroji '\n",
    "new"
   ]
  },
  {
   "cell_type": "code",
   "execution_count": 9,
   "id": "3c3526a6",
   "metadata": {},
   "outputs": [
    {
     "data": {
      "text/plain": [
       "(' ', 'Ami', ' Ami', ' Oroji ', 'i', ' Amin Oroji ')"
      ]
     },
     "execution_count": 9,
     "metadata": {},
     "output_type": "execute_result"
    }
   ],
   "source": [
    "new[0], new[1:4], new[:4], new[5:],new[-2], new[:]"
   ]
  },
  {
   "cell_type": "code",
   "execution_count": 11,
   "id": "19c225d0",
   "metadata": {},
   "outputs": [
    {
     "ename": "TypeError",
     "evalue": "'str' object does not support item assignment",
     "output_type": "error",
     "traceback": [
      "\u001b[0;31m---------------------------------------------------------------------------\u001b[0m",
      "\u001b[0;31mTypeError\u001b[0m                                 Traceback (most recent call last)",
      "Input \u001b[0;32mIn [11]\u001b[0m, in \u001b[0;36m<module>\u001b[0;34m\u001b[0m\n\u001b[1;32m      1\u001b[0m \u001b[38;5;66;03m# strings are immutable \u001b[39;00m\n\u001b[1;32m      2\u001b[0m greeting \u001b[38;5;241m=\u001b[39m \u001b[38;5;124m'\u001b[39m\u001b[38;5;124mHello, world!\u001b[39m\u001b[38;5;124m'\u001b[39m\n\u001b[0;32m----> 3\u001b[0m greeting[\u001b[38;5;241m0\u001b[39m] \u001b[38;5;241m=\u001b[39m \u001b[38;5;124m'\u001b[39m\u001b[38;5;124mJ\u001b[39m\u001b[38;5;124m'\u001b[39m\n",
      "\u001b[0;31mTypeError\u001b[0m: 'str' object does not support item assignment"
     ]
    }
   ],
   "source": [
    "# strings are immutable \n",
    "greeting = 'Hello, world!'\n",
    "greeting[0] = 'J'"
   ]
  },
  {
   "cell_type": "code",
   "execution_count": 9,
   "id": "e71cf51d",
   "metadata": {},
   "outputs": [
    {
     "data": {
      "text/plain": [
       "13"
      ]
     },
     "execution_count": 9,
     "metadata": {},
     "output_type": "execute_result"
    }
   ],
   "source": [
    "len(greeting)"
   ]
  },
  {
   "cell_type": "markdown",
   "id": "9db32498",
   "metadata": {},
   "source": [
    "#### Looping and Counting"
   ]
  },
  {
   "cell_type": "code",
   "execution_count": 10,
   "id": "0987622b",
   "metadata": {},
   "outputs": [
    {
     "name": "stdout",
     "output_type": "stream",
     "text": [
      "3\n"
     ]
    }
   ],
   "source": [
    "word = 'banana' \n",
    "count = 0\n",
    "for letter in word:\n",
    "    if letter == 'a': \n",
    "        #count = count + 1\n",
    "        count += 1\n",
    "print(count)"
   ]
  },
  {
   "cell_type": "code",
   "execution_count": 12,
   "id": "988f92eb",
   "metadata": {},
   "outputs": [],
   "source": [
    "# EXE\n",
    "# def count_char(n, s):\n",
    "#     .....\n",
    "#     return how many n in s?"
   ]
  },
  {
   "cell_type": "markdown",
   "id": "8e5c8edd",
   "metadata": {},
   "source": [
    "#### in "
   ]
  },
  {
   "cell_type": "code",
   "execution_count": 12,
   "id": "d5f4c216",
   "metadata": {},
   "outputs": [
    {
     "data": {
      "text/plain": [
       "True"
      ]
     },
     "execution_count": 12,
     "metadata": {},
     "output_type": "execute_result"
    }
   ],
   "source": [
    "'a' in word"
   ]
  },
  {
   "cell_type": "code",
   "execution_count": 13,
   "id": "ee7a4f8d",
   "metadata": {},
   "outputs": [
    {
     "data": {
      "text/plain": [
       "False"
      ]
     },
     "execution_count": 13,
     "metadata": {},
     "output_type": "execute_result"
    }
   ],
   "source": [
    "'ab' in word"
   ]
  },
  {
   "cell_type": "code",
   "execution_count": 14,
   "id": "c12dac2a",
   "metadata": {},
   "outputs": [
    {
     "data": {
      "text/plain": [
       "True"
      ]
     },
     "execution_count": 14,
     "metadata": {},
     "output_type": "execute_result"
    }
   ],
   "source": [
    "'nan' in word"
   ]
  },
  {
   "cell_type": "markdown",
   "id": "e7f464bc",
   "metadata": {},
   "source": [
    "#### String comparison"
   ]
  },
  {
   "cell_type": "code",
   "execution_count": 13,
   "id": "200506fa",
   "metadata": {},
   "outputs": [
    {
     "name": "stdout",
     "output_type": "stream",
     "text": [
      "Banana\n",
      "Your word,Banana, comes before banana.\n",
      "B\n",
      "Your word,B, comes before banana.\n",
      "bana\n",
      "Your word,bana, comes before banana.\n",
      "bananaa\n",
      "Your word,bananaa, comes after banana.\n",
      "bZZZZZZZZZ\n",
      "Your word,bZZZZZZZZZ, comes before banana.\n",
      "done\n"
     ]
    }
   ],
   "source": [
    "while True:\n",
    "    word = input() \n",
    "    if word == 'done': \n",
    "        break\n",
    "    \n",
    "    if word < 'banana':\n",
    "        print('Your word,' + word + ', comes before banana.')\n",
    "    elif word > 'banana':\n",
    "        print('Your word,' + word + ', comes after banana.')\n",
    "    else:\n",
    "        print('All right, bananas.')"
   ]
  },
  {
   "cell_type": "markdown",
   "id": "dcbe31c9",
   "metadata": {},
   "source": [
    "#### String methods\n",
    "Strings are an example of Python objects. An object contains both data (the actual string itself) and methods, which are effectively functions that are built into the object and are available to any instance of the object."
   ]
  },
  {
   "cell_type": "code",
   "execution_count": 16,
   "id": "d46382ee",
   "metadata": {},
   "outputs": [
    {
     "data": {
      "text/plain": [
       "str"
      ]
     },
     "execution_count": 16,
     "metadata": {},
     "output_type": "execute_result"
    }
   ],
   "source": [
    "hey = 'Hello world!'\n",
    "type(hey)"
   ]
  },
  {
   "cell_type": "code",
   "execution_count": 17,
   "id": "d79823b5",
   "metadata": {},
   "outputs": [
    {
     "data": {
      "text/plain": [
       "['__add__',\n",
       " '__class__',\n",
       " '__contains__',\n",
       " '__delattr__',\n",
       " '__dir__',\n",
       " '__doc__',\n",
       " '__eq__',\n",
       " '__format__',\n",
       " '__ge__',\n",
       " '__getattribute__',\n",
       " '__getitem__',\n",
       " '__getnewargs__',\n",
       " '__gt__',\n",
       " '__hash__',\n",
       " '__init__',\n",
       " '__init_subclass__',\n",
       " '__iter__',\n",
       " '__le__',\n",
       " '__len__',\n",
       " '__lt__',\n",
       " '__mod__',\n",
       " '__mul__',\n",
       " '__ne__',\n",
       " '__new__',\n",
       " '__reduce__',\n",
       " '__reduce_ex__',\n",
       " '__repr__',\n",
       " '__rmod__',\n",
       " '__rmul__',\n",
       " '__setattr__',\n",
       " '__sizeof__',\n",
       " '__str__',\n",
       " '__subclasshook__',\n",
       " 'capitalize',\n",
       " 'casefold',\n",
       " 'center',\n",
       " 'count',\n",
       " 'encode',\n",
       " 'endswith',\n",
       " 'expandtabs',\n",
       " 'find',\n",
       " 'format',\n",
       " 'format_map',\n",
       " 'index',\n",
       " 'isalnum',\n",
       " 'isalpha',\n",
       " 'isascii',\n",
       " 'isdecimal',\n",
       " 'isdigit',\n",
       " 'isidentifier',\n",
       " 'islower',\n",
       " 'isnumeric',\n",
       " 'isprintable',\n",
       " 'isspace',\n",
       " 'istitle',\n",
       " 'isupper',\n",
       " 'join',\n",
       " 'ljust',\n",
       " 'lower',\n",
       " 'lstrip',\n",
       " 'maketrans',\n",
       " 'partition',\n",
       " 'removeprefix',\n",
       " 'removesuffix',\n",
       " 'replace',\n",
       " 'rfind',\n",
       " 'rindex',\n",
       " 'rjust',\n",
       " 'rpartition',\n",
       " 'rsplit',\n",
       " 'rstrip',\n",
       " 'split',\n",
       " 'splitlines',\n",
       " 'startswith',\n",
       " 'strip',\n",
       " 'swapcase',\n",
       " 'title',\n",
       " 'translate',\n",
       " 'upper',\n",
       " 'zfill']"
      ]
     },
     "execution_count": 17,
     "metadata": {},
     "output_type": "execute_result"
    }
   ],
   "source": [
    "dir(hey)"
   ]
  },
  {
   "cell_type": "code",
   "execution_count": 18,
   "id": "3e29ae26",
   "metadata": {},
   "outputs": [
    {
     "name": "stdout",
     "output_type": "stream",
     "text": [
      "Help on method_descriptor:\n",
      "\n",
      "capitalize(self, /)\n",
      "    Return a capitalized version of the string.\n",
      "    \n",
      "    More specifically, make the first character have upper case and the rest lower\n",
      "    case.\n",
      "\n"
     ]
    }
   ],
   "source": [
    "help(str.capitalize)"
   ]
  },
  {
   "cell_type": "code",
   "execution_count": 17,
   "id": "79ce2b74",
   "metadata": {},
   "outputs": [
    {
     "data": {
      "text/plain": [
       "'DONE'"
      ]
     },
     "execution_count": 17,
     "metadata": {},
     "output_type": "execute_result"
    }
   ],
   "source": [
    "word.upper()"
   ]
  },
  {
   "cell_type": "code",
   "execution_count": 19,
   "id": "cb0397f6",
   "metadata": {},
   "outputs": [
    {
     "name": "stdout",
     "output_type": "stream",
     "text": [
      "Help on method_descriptor:\n",
      "\n",
      "join(self, iterable, /)\n",
      "    Concatenate any number of strings.\n",
      "    \n",
      "    The string whose method is called is inserted in between each given string.\n",
      "    The result is returned as a new string.\n",
      "    \n",
      "    Example: '.'.join(['ab', 'pq', 'rs']) -> 'ab.pq.rs'\n",
      "\n"
     ]
    }
   ],
   "source": [
    "help(str.join)"
   ]
  },
  {
   "cell_type": "code",
   "execution_count": 18,
   "id": "aefa39e5",
   "metadata": {},
   "outputs": [
    {
     "data": {
      "text/plain": [
       "'Amin'"
      ]
     },
     "execution_count": 18,
     "metadata": {},
     "output_type": "execute_result"
    }
   ],
   "source": [
    "['A','m','i','n']\n",
    "''.join(['A','m','i','n'])"
   ]
  },
  {
   "cell_type": "code",
   "execution_count": 19,
   "id": "b132b143",
   "metadata": {},
   "outputs": [
    {
     "data": {
      "text/plain": [
       "'BANANA'"
      ]
     },
     "execution_count": 19,
     "metadata": {},
     "output_type": "execute_result"
    }
   ],
   "source": [
    "word = 'banana'\n",
    "word.upper()"
   ]
  },
  {
   "cell_type": "code",
   "execution_count": 20,
   "id": "262511ff",
   "metadata": {},
   "outputs": [
    {
     "data": {
      "text/plain": [
       "1"
      ]
     },
     "execution_count": 20,
     "metadata": {},
     "output_type": "execute_result"
    }
   ],
   "source": [
    "word.find('a')"
   ]
  },
  {
   "cell_type": "markdown",
   "id": "f4e88ca9",
   "metadata": {},
   "source": [
    "It can take as a second argument the index where it should start:"
   ]
  },
  {
   "cell_type": "code",
   "execution_count": 22,
   "id": "5b20b1ba",
   "metadata": {},
   "outputs": [
    {
     "data": {
      "text/plain": [
       "5"
      ]
     },
     "execution_count": 22,
     "metadata": {},
     "output_type": "execute_result"
    }
   ],
   "source": [
    "word.find('a', 4)"
   ]
  },
  {
   "cell_type": "code",
   "execution_count": 23,
   "id": "b668df2d",
   "metadata": {},
   "outputs": [
    {
     "data": {
      "text/plain": [
       "'Amin   Oroji'"
      ]
     },
     "execution_count": 23,
     "metadata": {},
     "output_type": "execute_result"
    }
   ],
   "source": [
    "# remove white space (spaces, tabs, or newlines) using the strip method:\n",
    "sent = '      Amin   Oroji                    '\n",
    "sent.strip()"
   ]
  },
  {
   "cell_type": "raw",
   "id": "48fc1775",
   "metadata": {},
   "source": [
    "EXE:\n",
    "\"        ARMIN            GOLZAR             \"---------> 'Armin Golzar'"
   ]
  },
  {
   "cell_type": "code",
   "execution_count": null,
   "id": "ae52ea21",
   "metadata": {},
   "outputs": [],
   "source": []
  },
  {
   "cell_type": "code",
   "execution_count": null,
   "id": "2417b2ec",
   "metadata": {},
   "outputs": [],
   "source": []
  },
  {
   "cell_type": "code",
   "execution_count": null,
   "id": "70c7059e",
   "metadata": {},
   "outputs": [],
   "source": []
  },
  {
   "cell_type": "code",
   "execution_count": 24,
   "id": "6411b352",
   "metadata": {},
   "outputs": [
    {
     "data": {
      "text/plain": [
       "True"
      ]
     },
     "execution_count": 24,
     "metadata": {},
     "output_type": "execute_result"
    }
   ],
   "source": [
    "# startwith()\n",
    "line = 'Have a nice day'\n",
    "line.startswith('Have')"
   ]
  },
  {
   "cell_type": "code",
   "execution_count": 25,
   "id": "6262943a",
   "metadata": {},
   "outputs": [
    {
     "data": {
      "text/plain": [
       "False"
      ]
     },
     "execution_count": 25,
     "metadata": {},
     "output_type": "execute_result"
    }
   ],
   "source": [
    "line.startswith('have')"
   ]
  },
  {
   "cell_type": "code",
   "execution_count": 26,
   "id": "94f6bf04",
   "metadata": {},
   "outputs": [
    {
     "data": {
      "text/plain": [
       "True"
      ]
     },
     "execution_count": 26,
     "metadata": {},
     "output_type": "execute_result"
    }
   ],
   "source": [
    "line.lower().startswith('h')"
   ]
  },
  {
   "cell_type": "markdown",
   "id": "0b87704f",
   "metadata": {},
   "source": [
    "#### Parsing strings"
   ]
  },
  {
   "cell_type": "code",
   "execution_count": 27,
   "id": "b6d17c84",
   "metadata": {},
   "outputs": [
    {
     "name": "stdout",
     "output_type": "stream",
     "text": [
      "15\n",
      "30\n",
      "prata_tech.com\n"
     ]
    }
   ],
   "source": [
    "# extrcat the domain\n",
    "data = 'From amin.oroji@prata_tech.com Sat Jan  5 09:14:16 2008'\n",
    "atpos = data.find('@')\n",
    "print(atpos)\n",
    "21\n",
    "sppos = data.find(' ',atpos)\n",
    "print(sppos)\n",
    "31\n",
    "host = data[atpos+1:sppos]\n",
    "print(host)"
   ]
  },
  {
   "cell_type": "markdown",
   "id": "cdbd66b5",
   "metadata": {},
   "source": [
    "#### Format Operator\n",
    "The format operator, % allows us to construct strings, replacing parts of the strings with the data stored in variables."
   ]
  },
  {
   "cell_type": "markdown",
   "id": "7607a0dc",
   "metadata": {},
   "source": [
    "Example: For example, the format sequence %d means that the second operand should be\n",
    "formatted as an integer (“d” stands for “decimal”):"
   ]
  },
  {
   "cell_type": "code",
   "execution_count": 30,
   "id": "4a2f1191",
   "metadata": {},
   "outputs": [
    {
     "name": "stdout",
     "output_type": "stream",
     "text": [
      "I am 40 years old.\n"
     ]
    }
   ],
   "source": [
    "age = 40\n",
    "print('I am '+ str(age) + ' years old.')"
   ]
  },
  {
   "cell_type": "code",
   "execution_count": 31,
   "id": "c0e4bd66",
   "metadata": {},
   "outputs": [
    {
     "name": "stdout",
     "output_type": "stream",
     "text": [
      "I am 40 years old\n"
     ]
    }
   ],
   "source": [
    "age = 40\n",
    "print('I am %d years old' % age)"
   ]
  },
  {
   "cell_type": "code",
   "execution_count": 33,
   "id": "9bcced4e",
   "metadata": {},
   "outputs": [
    {
     "name": "stdout",
     "output_type": "stream",
     "text": [
      "I am 40 years old and I went to Malaysia around ten (10) yeras ago.\n"
     ]
    }
   ],
   "source": [
    "print('I am %d years old and I went to %s around %s (%d) yeras ago.' % (40, 'Malaysia', 'ten', 10.5))"
   ]
  },
  {
   "cell_type": "markdown",
   "id": "481f3bc2",
   "metadata": {},
   "source": [
    "#### Errors"
   ]
  },
  {
   "cell_type": "code",
   "execution_count": 36,
   "id": "43ce7e3d",
   "metadata": {},
   "outputs": [
    {
     "data": {
      "text/plain": [
       "'1 2'"
      ]
     },
     "execution_count": 36,
     "metadata": {},
     "output_type": "execute_result"
    }
   ],
   "source": [
    "'%d %d' % (1, 2)"
   ]
  },
  {
   "cell_type": "code",
   "execution_count": 37,
   "id": "fb385e5e",
   "metadata": {},
   "outputs": [
    {
     "ename": "TypeError",
     "evalue": "%d format: a number is required, not str",
     "output_type": "error",
     "traceback": [
      "\u001b[0;31m---------------------------------------------------------------------------\u001b[0m",
      "\u001b[0;31mTypeError\u001b[0m                                 Traceback (most recent call last)",
      "Input \u001b[0;32mIn [37]\u001b[0m, in \u001b[0;36m<module>\u001b[0;34m\u001b[0m\n\u001b[0;32m----> 1\u001b[0m \u001b[38;5;124;43m'\u001b[39;49m\u001b[38;5;132;43;01m%d\u001b[39;49;00m\u001b[38;5;124;43m'\u001b[39;49m\u001b[43m \u001b[49m\u001b[38;5;241;43m%\u001b[39;49m\u001b[43m \u001b[49m\u001b[38;5;124;43m'\u001b[39;49m\u001b[38;5;124;43mdollars\u001b[39;49m\u001b[38;5;124;43m'\u001b[39;49m\n",
      "\u001b[0;31mTypeError\u001b[0m: %d format: a number is required, not str"
     ]
    }
   ],
   "source": [
    "'%d' % 'dollars'"
   ]
  },
  {
   "cell_type": "code",
   "execution_count": null,
   "id": "52c19a0f",
   "metadata": {},
   "outputs": [],
   "source": []
  }
 ],
 "metadata": {
  "kernelspec": {
   "display_name": "Python 3 (ipykernel)",
   "language": "python",
   "name": "python3"
  },
  "language_info": {
   "codemirror_mode": {
    "name": "ipython",
    "version": 3
   },
   "file_extension": ".py",
   "mimetype": "text/x-python",
   "name": "python",
   "nbconvert_exporter": "python",
   "pygments_lexer": "ipython3",
   "version": "3.9.6"
  }
 },
 "nbformat": 4,
 "nbformat_minor": 5
}
