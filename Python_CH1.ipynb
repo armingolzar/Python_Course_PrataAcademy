{
 "cells": [
  {
   "cell_type": "markdown",
   "id": "154a53fd",
   "metadata": {},
   "source": [
    "#  Python Full Course \n",
    "## By: Dr. Amin Oroji & Armin Golzar\n",
    "##    Chief Data Scientist & AI Specialist\n",
    "##    Prata Technology"
   ]
  },
  {
   "cell_type": "markdown",
   "id": "68fbdfa7",
   "metadata": {},
   "source": [
    "# Python\n",
    "\n",
    "- An open source \n",
    "\n",
    "- cross-platform programming language\n",
    "\n",
    "- become increasingly popular over the last ten years\n",
    "\n",
    "- It was first released in 1991\n",
    "\n",
    "- A multi-purpose programming languages (due to its many extensions)\n",
    "- examples are **scientific computing** and **calculations**, **simulations**, **web development** (using, e.g., the Django Web framework), **Data Analytics**, etc.\n",
    "- Interpreted Programming language"
   ]
  },
  {
   "cell_type": "markdown",
   "id": "c26c8cc4",
   "metadata": {},
   "source": [
    "## ***WHY Python?***\n",
    "\n",
    "- open source and free.\n",
    "\n",
    "- highly extendable due to its high number of free available Python Packaged and Libraries. \n",
    "\n",
    "- simple, flexible code structure and easy to learn.\n",
    "\n",
    "- can be used on all platforms (Windows, macOS and Linux).\n",
    "\n",
    "- The popularity of Python is growing fast.\n",
    "\n",
    "- Multi-purpose programming language. \n",
    "\n",
    "- It has efficient high-level data structures.\n",
    "\n",
    "- has simple but effective approach to object-oriented programming (OOP). "
   ]
  },
  {
   "cell_type": "markdown",
   "id": "78bb7bf8",
   "metadata": {},
   "source": [
    "## Chapter1: Getting Started\n"
   ]
  },
  {
   "cell_type": "markdown",
   "id": "64795d83",
   "metadata": {},
   "source": [
    "for the main source please click [here](https://github.com/AminOroji/Elementary-Python-suf)"
   ]
  },
  {
   "cell_type": "markdown",
   "id": "d066d0a1",
   "metadata": {},
   "source": [
    "### Python Installation on Windows"
   ]
  },
  {
   "cell_type": "markdown",
   "id": "f959359c",
   "metadata": {},
   "source": [
    "**Step 1: Select Version of Python to Install**\\\n",
    "**Step 2: Download Python Executable Installer**\\\n",
    "Open your web browser and navigate to the [Downloads for Windows section](https://www.python.org/downloads/windows/) of the [official Python website](https://www.python.org/).\\\n",
    "**Step 3: Run Executable Installer**\\\n",
    "- Run the Python Installer once downloaded. (In this example, we have downloaded Python 3.7.3.)\n",
    "\n",
    "\n",
    "- Make sure you select the Install launcher for all users and Add Python 3.7 to PATH checkboxes.\\\n",
    "The latter places the interpreter in the execution path. For older versions of Python that do not support the Add Python to Path checkbox, see Step 6.\n",
    "\n",
    "\n",
    "- Select Install Now – the recommended installation options.\\\n",
    "For all recent versions of Python, the recommended installation options include Pip and IDLE. Older versions might not include such additional features.\n",
    "\n",
    "\n",
    "- The next dialog will prompt you to select whether to Disable path length limit. Choosing this option will allow Python to bypass the 260-character MAX_PATH limit. Effectively, it will enable Python to use long path names.\n",
    "\n",
    "**Step 4: Verify Python Was Installed On Windows**\n",
    "- Navigate to the directory in which Python was installed on the system. In our case, it is C:\\Users\\Username\\AppData\\Local\\Programs\\Python\\Python37 since we have installed the latest version.\n",
    "\n",
    "\n",
    "- Double-click python.exe.\n",
    "\n",
    "**Step 5: Verify Pip Was Installed**\n",
    "If you opted to install an older version of Python, it is possible that it did not come with Pip preinstalled. Pip is a powerful package management system for Python software packages. Thus, make sure that you have it installed.\n",
    "\n",
    "We recommend using Pip for most Python packages, especially when working in virtual environments.\n",
    "\n",
    "To verify whether Pip was installed:\n",
    "\n",
    "- Open the Start menu and type \"cmd.\"\n",
    "- Select the Command Prompt application.\n",
    "- Enter pip -V in the console.\n",
    "\n",
    "Pip has not been installed yet if you get the following output:\n",
    "\n",
    "```\n",
    "'pip' is not recognized as an internal or external command,\n",
    "Operable program or batch file\n",
    "```\n",
    "\n",
    "**Step 6: Add Python Path to Environment Variables (Optional)**\n",
    "We recommend you go through this step if your version of the Python installer does not include the Add Python to PATH checkbox or if you have not selected that option.\n",
    "\n",
    "Setting up the Python path to system variables alleviates the need for using full paths. It instructs Windows to look through all the PATH folders for “python” and find the install folder that contains the python.exe file.\n",
    "\n",
    "- Open the Start menu and start the Run app.\n",
    "\n",
    "- Type sysdm.cpl and click OK. This opens the System Properties window.\n",
    "\n",
    "- Navigate to the Advanced tab and select Environment Variables.\n",
    "\n",
    "- Under System Variables, find and select the Path variable.\n",
    "\n",
    "- Click Edit.\n",
    "\n",
    "- Select the Variable value field. Add the path to the python.exe file preceded with a semicolon (;). For example, ```;C:\\Python34.```\n",
    "\n",
    "- Click OK and close all windows.\n",
    "\n",
    "By setting this up, you can execute Python scripts like this: ```Python script.py```\n",
    "\n",
    "Instead of this: ```C:/Python34/Python script.py```\n",
    "\n",
    "As you can see, it is cleaner and more manageable.\n",
    "\n",
    "**Step 7: Install virtualnv (Optional)**\n",
    "You have Python, and you have Pip to manage packages. Now, you need one last software package - virtualnv. Virtualnv enables you to create isolated local virtual environments for your Python projects.\n",
    "\n",
    "***Why use virtualnv?***\n",
    "\n",
    "Python software packages are installed system-wide by default. Consequently, whenever a single project-specific package is changed, it changes for all your Python projects. You would want to avoid this, and having separate virtual environments for each project is the easiest solution.\n",
    "\n",
    "To install virtualnv:\n",
    "\n",
    "1. Open the Start menu and type \"cmd.\"\n",
    "\n",
    "2. Select the Command Prompt application.\n",
    "\n",
    "3. Type the following pip command in the console:\n",
    "\n",
    "```C:\\Users\\Username> pip install virtualenv```\n",
    "\n",
    "Upon completion, virtualnv is installed on your system."
   ]
  },
  {
   "cell_type": "markdown",
   "id": "44e86a11",
   "metadata": {},
   "source": [
    "### Python IDEs\n",
    "- [vscode](https://code.visualstudio.com/download)\n",
    "\n",
    "\n",
    "- [sublim](https://www.sublimetext.com/download)"
   ]
  },
  {
   "cell_type": "markdown",
   "id": "8caec2ee",
   "metadata": {},
   "source": [
    "### Jupyter Notebook\n",
    "\n",
    "Jupyter Notebook is an open-source web application that allows you to create and share documents that contain live code, equations, visualizations, and narrative text. Uses include data cleaning and transformation, numerical simulation, statistical modeling, data visualization, machine learning, and much more.\n",
    "\n",
    "Jupyter has support for over 40 different programming languages and Python is one of them. Python is a requirement (Python 3.3 or greater, or Python 2.7) for installing the Jupyter Notebook itself.\n",
    "\n",
    "\n",
    "#### Installing Jupyter Notebook using pip:\n",
    "PIP is a package management system used to install and manage software packages/libraries written in Python. These files are stored in a large **on-line repository** termed as Python Package Index (PyPI).\n",
    "pip uses PyPI as the default source for packages and their dependencies.\n",
    "\n",
    "To install Jupyter using pip, we need to first check if pip is updated in our system. \n",
    "- Use the following command to update pip:\n",
    "\n",
    "```python -m pip install --upgrade pip```\n",
    "\n",
    "After updating the pip version, follow the instructions provided below to install Jupyter:\n",
    "\n",
    "- Command to install Jupyter:\n",
    "\n",
    "```python -m pip install jupyter```\n",
    "\n",
    "- Launching Jupyter:\n",
    "Use the following command to launch Jupyter using command-line:\n",
    "\n",
    "```jupyter notebook```"
   ]
  },
  {
   "cell_type": "markdown",
   "id": "3d5aff08",
   "metadata": {},
   "source": [
    "### Google Colab\n",
    "\n"
   ]
  },
  {
   "cell_type": "markdown",
   "id": "b3f08256",
   "metadata": {},
   "source": [
    "### Let's Play (Using Python as a Calculator)"
   ]
  },
  {
   "cell_type": "code",
   "execution_count": 4,
   "id": "5d0961b2",
   "metadata": {},
   "outputs": [
    {
     "data": {
      "text/plain": [
       "12"
      ]
     },
     "execution_count": 4,
     "metadata": {},
     "output_type": "execute_result"
    }
   ],
   "source": [
    "2 + 2\n",
    "3 * 4"
   ]
  },
  {
   "cell_type": "code",
   "execution_count": 5,
   "id": "bdf062cd",
   "metadata": {},
   "outputs": [
    {
     "data": {
      "text/plain": [
       "20"
      ]
     },
     "execution_count": 5,
     "metadata": {},
     "output_type": "execute_result"
    }
   ],
   "source": [
    "50 - 5*6"
   ]
  },
  {
   "cell_type": "code",
   "execution_count": 6,
   "id": "4ea2d7ff",
   "metadata": {},
   "outputs": [
    {
     "data": {
      "text/plain": [
       "5.0"
      ]
     },
     "execution_count": 6,
     "metadata": {},
     "output_type": "execute_result"
    }
   ],
   "source": [
    "(50 - 5*6) / 4"
   ]
  },
  {
   "cell_type": "code",
   "execution_count": 7,
   "id": "01178172",
   "metadata": {},
   "outputs": [
    {
     "data": {
      "text/plain": [
       "1.6"
      ]
     },
     "execution_count": 7,
     "metadata": {},
     "output_type": "execute_result"
    }
   ],
   "source": [
    "8 / 5"
   ]
  },
  {
   "cell_type": "code",
   "execution_count": 8,
   "id": "2bf5d5b6",
   "metadata": {},
   "outputs": [
    {
     "name": "stdout",
     "output_type": "stream",
     "text": [
      "5.666666666666667\n",
      "5\n",
      "2\n",
      "17\n",
      "1024\n"
     ]
    }
   ],
   "source": [
    "print(17 / 3)  # classic division returns a float\n",
    "print(17 // 3)  # floor division discards the fractional part\n",
    "print(17 % 3)  # the % operator returns the remainder of the division\n",
    "print(5 * 3 + 2)\n",
    "print(2 ** 10)"
   ]
  },
  {
   "cell_type": "code",
   "execution_count": 9,
   "id": "53d02aa2",
   "metadata": {},
   "outputs": [
    {
     "data": {
      "text/plain": [
       "900"
      ]
     },
     "execution_count": 9,
     "metadata": {},
     "output_type": "execute_result"
    }
   ],
   "source": [
    "width = 20\n",
    "height = 5 * 9\n",
    "width * height"
   ]
  },
  {
   "cell_type": "code",
   "execution_count": 5,
   "id": "7c36b72f",
   "metadata": {},
   "outputs": [
    {
     "data": {
      "text/plain": [
       "4"
      ]
     },
     "execution_count": 5,
     "metadata": {},
     "output_type": "execute_result"
    }
   ],
   "source": [
    "2++2"
   ]
  },
  {
   "cell_type": "code",
   "execution_count": 6,
   "id": "b4c79f0a",
   "metadata": {},
   "outputs": [
    {
     "data": {
      "text/plain": [
       "4"
      ]
     },
     "execution_count": 6,
     "metadata": {},
     "output_type": "execute_result"
    }
   ],
   "source": [
    "2++++++++++2"
   ]
  },
  {
   "cell_type": "code",
   "execution_count": 1,
   "id": "01d23bc6",
   "metadata": {},
   "outputs": [
    {
     "ename": "SyntaxError",
     "evalue": "leading zeros in decimal integer literals are not permitted; use an 0o prefix for octal integers (2411615945.py, line 1)",
     "output_type": "error",
     "traceback": [
      "\u001b[0;36m  Input \u001b[0;32mIn [1]\u001b[0;36m\u001b[0m\n\u001b[0;31m    02\u001b[0m\n\u001b[0m     ^\u001b[0m\n\u001b[0;31mSyntaxError\u001b[0m\u001b[0;31m:\u001b[0m leading zeros in decimal integer literals are not permitted; use an 0o prefix for octal integers\n"
     ]
    }
   ],
   "source": [
    "02"
   ]
  },
  {
   "cell_type": "code",
   "execution_count": 1,
   "id": "f2a7b695",
   "metadata": {},
   "outputs": [
    {
     "name": "stdout",
     "output_type": "stream",
     "text": [
      "Hello World!\n"
     ]
    }
   ],
   "source": [
    "print('Hello World!')"
   ]
  },
  {
   "cell_type": "code",
   "execution_count": 2,
   "id": "6603d3cb",
   "metadata": {},
   "outputs": [
    {
     "ename": "SyntaxError",
     "evalue": "Missing parentheses in call to 'print'. Did you mean print('Hello World!')? (1799965719.py, line 1)",
     "output_type": "error",
     "traceback": [
      "\u001b[0;36m  Input \u001b[0;32mIn [2]\u001b[0;36m\u001b[0m\n\u001b[0;31m    print 'Hello World!'\u001b[0m\n\u001b[0m          ^\u001b[0m\n\u001b[0;31mSyntaxError\u001b[0m\u001b[0;31m:\u001b[0m Missing parentheses in call to 'print'. Did you mean print('Hello World!')?\n"
     ]
    }
   ],
   "source": [
    "print 'Hello World!'"
   ]
  },
  {
   "cell_type": "code",
   "execution_count": 3,
   "id": "85125e4c",
   "metadata": {},
   "outputs": [
    {
     "ename": "SyntaxError",
     "evalue": "unexpected EOF while parsing (628126063.py, line 1)",
     "output_type": "error",
     "traceback": [
      "\u001b[0;36m  Input \u001b[0;32mIn [3]\u001b[0;36m\u001b[0m\n\u001b[0;31m    print('Hello World!'\u001b[0m\n\u001b[0m                        ^\u001b[0m\n\u001b[0;31mSyntaxError\u001b[0m\u001b[0;31m:\u001b[0m unexpected EOF while parsing\n"
     ]
    }
   ],
   "source": [
    "print('Hello World!'"
   ]
  },
  {
   "cell_type": "code",
   "execution_count": 4,
   "id": "564a04cc",
   "metadata": {},
   "outputs": [
    {
     "ename": "SyntaxError",
     "evalue": "EOL while scanning string literal (3571950873.py, line 1)",
     "output_type": "error",
     "traceback": [
      "\u001b[0;36m  Input \u001b[0;32mIn [4]\u001b[0;36m\u001b[0m\n\u001b[0;31m    print('Hello World!)\u001b[0m\n\u001b[0m                        ^\u001b[0m\n\u001b[0;31mSyntaxError\u001b[0m\u001b[0;31m:\u001b[0m EOL while scanning string literal\n"
     ]
    }
   ],
   "source": [
    "print('Hello World!)"
   ]
  },
  {
   "cell_type": "markdown",
   "id": "8a41d299",
   "metadata": {},
   "source": [
    "In interactive mode, the last printed expression is assigned to the variable _. This means that when you are using Python as a desk calculator, it is somewhat easier to continue calculations, for example:"
   ]
  },
  {
   "cell_type": "code",
   "execution_count": 10,
   "id": "52fb336f",
   "metadata": {},
   "outputs": [
    {
     "data": {
      "text/plain": [
       "12.5625"
      ]
     },
     "execution_count": 10,
     "metadata": {},
     "output_type": "execute_result"
    }
   ],
   "source": [
    "tax = 12.5 / 100\n",
    "price = 100.50\n",
    "price * tax"
   ]
  },
  {
   "cell_type": "code",
   "execution_count": 11,
   "id": "706cf004",
   "metadata": {},
   "outputs": [
    {
     "data": {
      "text/plain": [
       "113.0625"
      ]
     },
     "execution_count": 11,
     "metadata": {},
     "output_type": "execute_result"
    }
   ],
   "source": [
    "price + _"
   ]
  },
  {
   "cell_type": "code",
   "execution_count": 12,
   "id": "861d8104",
   "metadata": {},
   "outputs": [
    {
     "data": {
      "text/plain": [
       "113.06"
      ]
     },
     "execution_count": 12,
     "metadata": {},
     "output_type": "execute_result"
    }
   ],
   "source": [
    "round(_, 2)"
   ]
  },
  {
   "cell_type": "code",
   "execution_count": 13,
   "id": "7e245805",
   "metadata": {},
   "outputs": [
    {
     "data": {
      "text/plain": [
       "'spam eggs'"
      ]
     },
     "execution_count": 13,
     "metadata": {},
     "output_type": "execute_result"
    }
   ],
   "source": [
    "'spam eggs'  # single quotes"
   ]
  },
  {
   "cell_type": "code",
   "execution_count": 14,
   "id": "79e1a1dc",
   "metadata": {},
   "outputs": [
    {
     "data": {
      "text/plain": [
       "\"doesn't\""
      ]
     },
     "execution_count": 14,
     "metadata": {},
     "output_type": "execute_result"
    }
   ],
   "source": [
    "'doesn\\'t'  # use \\' to escape the single quote..."
   ]
  },
  {
   "cell_type": "code",
   "execution_count": 15,
   "id": "6fe45ed7",
   "metadata": {},
   "outputs": [
    {
     "data": {
      "text/plain": [
       "\"doesn't\""
      ]
     },
     "execution_count": 15,
     "metadata": {},
     "output_type": "execute_result"
    }
   ],
   "source": [
    "\"doesn't\"  # ...or use double quotes instead"
   ]
  },
  {
   "cell_type": "code",
   "execution_count": 16,
   "id": "91de7d3f",
   "metadata": {},
   "outputs": [
    {
     "data": {
      "text/plain": [
       "'\"Yes,\" they said.'"
      ]
     },
     "execution_count": 16,
     "metadata": {},
     "output_type": "execute_result"
    }
   ],
   "source": [
    "'\"Yes,\" they said.'"
   ]
  },
  {
   "cell_type": "code",
   "execution_count": 17,
   "id": "389b378b",
   "metadata": {},
   "outputs": [
    {
     "data": {
      "text/plain": [
       "'\"Yes,\" they said.'"
      ]
     },
     "execution_count": 17,
     "metadata": {},
     "output_type": "execute_result"
    }
   ],
   "source": [
    "\"\\\"Yes,\\\" they said.\""
   ]
  },
  {
   "cell_type": "code",
   "execution_count": 18,
   "id": "ec23e895",
   "metadata": {},
   "outputs": [
    {
     "data": {
      "text/plain": [
       "'\"Isn\\'t,\" they said.'"
      ]
     },
     "execution_count": 18,
     "metadata": {},
     "output_type": "execute_result"
    }
   ],
   "source": [
    "'\"Isn\\'t,\" they said.'"
   ]
  },
  {
   "cell_type": "code",
   "execution_count": 19,
   "id": "27892a43",
   "metadata": {},
   "outputs": [
    {
     "name": "stdout",
     "output_type": "stream",
     "text": [
      "\"Isn't,\" they said.\n"
     ]
    }
   ],
   "source": [
    "print('\"Isn\\'t,\" they said.')"
   ]
  },
  {
   "cell_type": "code",
   "execution_count": 20,
   "id": "eedd91e4",
   "metadata": {},
   "outputs": [
    {
     "data": {
      "text/plain": [
       "'First line.\\nSecond line.'"
      ]
     },
     "execution_count": 20,
     "metadata": {},
     "output_type": "execute_result"
    }
   ],
   "source": [
    "s = 'First line.\\nSecond line.'  # \\n means newline\n",
    "s  # without print(), \\n is included in the output"
   ]
  },
  {
   "cell_type": "code",
   "execution_count": 21,
   "id": "baf3bfdf",
   "metadata": {},
   "outputs": [
    {
     "name": "stdout",
     "output_type": "stream",
     "text": [
      "First line.\n",
      "Second line.\n"
     ]
    }
   ],
   "source": [
    "print(s)"
   ]
  },
  {
   "cell_type": "code",
   "execution_count": 9,
   "id": "99f7a23e",
   "metadata": {},
   "outputs": [
    {
     "name": "stdout",
     "output_type": "stream",
     "text": [
      "Usage: thingy [OPTIONS]\n",
      "     -h                        Display this usage message\n",
      "     -H hostname               Hostname to connect to\n",
      "\n"
     ]
    }
   ],
   "source": [
    "print(\"\"\"\\\n",
    "Usage: thingy [OPTIONS]\n",
    "     -h                        Display this usage message\n",
    "     -H hostname               Hostname to connect to\n",
    "\"\"\")"
   ]
  },
  {
   "cell_type": "code",
   "execution_count": 25,
   "id": "1c416492",
   "metadata": {},
   "outputs": [
    {
     "name": "stdout",
     "output_type": "stream",
     "text": [
      "unununium\n",
      "uniumuniumunium\n"
     ]
    }
   ],
   "source": [
    "print(3 * 'un' + 'ium')\n",
    "print(3 * ('un' + 'ium'))"
   ]
  },
  {
   "cell_type": "code",
   "execution_count": null,
   "id": "719cb5c8",
   "metadata": {},
   "outputs": [],
   "source": []
  }
 ],
 "metadata": {
  "kernelspec": {
   "display_name": "Python 3 (ipykernel)",
   "language": "python",
   "name": "python3"
  },
  "language_info": {
   "codemirror_mode": {
    "name": "ipython",
    "version": 3
   },
   "file_extension": ".py",
   "mimetype": "text/x-python",
   "name": "python",
   "nbconvert_exporter": "python",
   "pygments_lexer": "ipython3",
   "version": "3.9.12"
  }
 },
 "nbformat": 4,
 "nbformat_minor": 5
}
