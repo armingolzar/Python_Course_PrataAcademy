{
 "cells": [
  {
   "cell_type": "markdown",
   "id": "1491b00f",
   "metadata": {},
   "source": [
    "# Chapter 11: Files"
   ]
  },
  {
   "cell_type": "code",
   "execution_count": 1,
   "id": "fa0719e5",
   "metadata": {},
   "outputs": [
    {
     "name": "stdout",
     "output_type": "stream",
     "text": [
      "<_io.TextIOWrapper name='./mbox.txt' mode='r' encoding='UTF-8'>\n"
     ]
    }
   ],
   "source": [
    "# open a file\n",
    "f = open('./mbox.txt')\n",
    "print(f)"
   ]
  },
  {
   "cell_type": "code",
   "execution_count": 2,
   "id": "90d7f13a",
   "metadata": {},
   "outputs": [
    {
     "data": {
      "text/plain": [
       "['_CHUNK_SIZE',\n",
       " '__class__',\n",
       " '__del__',\n",
       " '__delattr__',\n",
       " '__dict__',\n",
       " '__dir__',\n",
       " '__doc__',\n",
       " '__enter__',\n",
       " '__eq__',\n",
       " '__exit__',\n",
       " '__format__',\n",
       " '__ge__',\n",
       " '__getattribute__',\n",
       " '__gt__',\n",
       " '__hash__',\n",
       " '__init__',\n",
       " '__init_subclass__',\n",
       " '__iter__',\n",
       " '__le__',\n",
       " '__lt__',\n",
       " '__ne__',\n",
       " '__new__',\n",
       " '__next__',\n",
       " '__reduce__',\n",
       " '__reduce_ex__',\n",
       " '__repr__',\n",
       " '__setattr__',\n",
       " '__sizeof__',\n",
       " '__str__',\n",
       " '__subclasshook__',\n",
       " '_checkClosed',\n",
       " '_checkReadable',\n",
       " '_checkSeekable',\n",
       " '_checkWritable',\n",
       " '_finalizing',\n",
       " 'buffer',\n",
       " 'close',\n",
       " 'closed',\n",
       " 'detach',\n",
       " 'encoding',\n",
       " 'errors',\n",
       " 'fileno',\n",
       " 'flush',\n",
       " 'isatty',\n",
       " 'line_buffering',\n",
       " 'mode',\n",
       " 'name',\n",
       " 'newlines',\n",
       " 'read',\n",
       " 'readable',\n",
       " 'readline',\n",
       " 'readlines',\n",
       " 'reconfigure',\n",
       " 'seek',\n",
       " 'seekable',\n",
       " 'tell',\n",
       " 'truncate',\n",
       " 'writable',\n",
       " 'write',\n",
       " 'write_through',\n",
       " 'writelines']"
      ]
     },
     "execution_count": 2,
     "metadata": {},
     "output_type": "execute_result"
    }
   ],
   "source": [
    "dir(f)"
   ]
  },
  {
   "cell_type": "code",
   "execution_count": 3,
   "id": "e06b6d60",
   "metadata": {},
   "outputs": [
    {
     "name": "stdout",
     "output_type": "stream",
     "text": [
      "Line Count: 132045\n"
     ]
    }
   ],
   "source": [
    "count = 0\n",
    "for line in f:\n",
    "    count = count + 1\n",
    "print('Line Count:', count)"
   ]
  },
  {
   "cell_type": "markdown",
   "id": "ff9da30f",
   "metadata": {},
   "source": [
    "We can use the file handle as the sequence in our for loop. Our for loop simply counts the number of lines in the file and prints them out. \n",
    "\n",
    "The reason that the open function does not read the entire file is that the file might be quite large with many gigabytes of data. The open statement takes the same amount of time regardless of the size of the file. The for loop actually causes the data to be read from the file."
   ]
  },
  {
   "cell_type": "code",
   "execution_count": 5,
   "id": "49a23f96",
   "metadata": {},
   "outputs": [
    {
     "name": "stdout",
     "output_type": "stream",
     "text": [
      "6687002\n"
     ]
    }
   ],
   "source": [
    "f = open('mbox.txt')\n",
    "inp = f.read()\n",
    "print(len(inp))"
   ]
  },
  {
   "cell_type": "code",
   "execution_count": 10,
   "id": "2bf41d6b",
   "metadata": {},
   "outputs": [
    {
     "name": "stdout",
     "output_type": "stream",
     "text": [
      "<class 'str'>\n",
      "From stephen.marquard@uct.ac.za Sat Jan  5 09:14:16 2008\n",
      "Return-Path: <postmaster@collab.sakaiproject.org>\n",
      "Received: from murder (mail.umich.edu [141.211.14.90])\n",
      "\t by frankenstein.mail.umich.edu (Cyrus v2.3.8) with LMTPA;\n",
      "\t Sat, 05 Jan 2008 09:14:16 -0500\n",
      "X-Sieve: CMU Sieve 2.3\n",
      "Received: from murder ([unix socket])\n",
      "\t by mail.umich.edu (Cyrus v2.2.12) with LMTPA;\n",
      "\t Sat, 05 Jan 2008 09:14:16 -0500\n",
      "Received: from holes.mr.itd.umich.edu (holes.mr.itd.umich.edu [141.211.14.79])\n",
      "\tby flawless.mail.umich.edu () with ESMTP id m05EEFR1013674;\n",
      "\tSat, 5 Jan 2008 09:14:15 -0500\n",
      "Received: FROM paploo.uhi.ac.uk (app1.prod.collab.uhi.ac.uk [194.35.219.184])\n",
      "\tBY holes.mr.itd.umich.edu ID 477F90B0.2DB2F.12494 ; \n",
      "\t 5 Jan 2008 09:14:10 -0500\n",
      "Received: from paploo.uhi.ac.uk (localhost [127.0.0.1])\n",
      "\tby paploo.uhi.ac.uk (Postfix) with ESMTP id 5F919BC2F2;\n",
      "\tSat,  5 Jan 2008 14:10:05 +0000 (GMT)\n",
      "Message-ID: <200801051412.m05ECIaH010327@nakamura.uits.iupui.edu>\n",
      "Mime-Version: 1.0\n",
      "Content-Transfer-Encoding: 7bit\n",
      "Received: from prod.collab.uhi.ac.uk ([194.35.219.182])\n",
      "          by paploo.uhi.ac.uk (JAMES SMTP Server 2.1.3) with SMTP ID 899\n",
      "          for <source@collab.sakaiproject.org>;\n",
      "          Sat, 5 Jan 2008 14:09:50 +0000 (GMT)\n",
      "Received: from nakamura.uits.iupui.edu (nakamura.uits.iupui.edu [134.68.220.122])\n",
      "\tby shmi.uhi.ac.uk (Postfix) with ESMTP id A215243002\n",
      "\tfor <source@collab.sakaiproject.org>; Sat,  5 Jan 2008 14:13:33 +0000 (GMT)\n",
      "Received: from nakamura.uits.iupui.edu (localhost [127.0.0.1])\n",
      "\tby nakamura.uits.iupui.edu (8.12.11.20060308/8.12.11) with ESMTP id m05ECJVp010329\n",
      "\tfor <source@collab.sakaiproject.org>; Sat, 5 Jan 2008 09:12:19 -0500\n",
      "Received: (from apache@localhost)\n",
      "\tby nakamura.uits.iupui.edu (8.12.11.20060308/8.12.11/Submit) id m05ECIaH010327\n",
      "\tfor source@collab.sakaiproject.org; Sat, 5 Jan 2008 09:12:18 -0500\n",
      "Date: Sat, 5 Jan 2008 09:12:18 -0500\n",
      "X-Authentication-Warning: nakamura.uits.iupui.edu: apache set sender to stephen.marquard@uct.ac.za using -f\n",
      "To: source@collab.sakaiproject.org\n",
      "From: stephen.marquard@uct.ac.za\n",
      "Subject: [sakai] svn commit: r39772 - content/branches/sakai_2-5-x/content-impl/impl/src/java/org/sakaiproject/content/impl\n",
      "X-Content-Type-Outer-Envelope: text/plain; charset=UTF-8\n",
      "X-Content-Type-Message-Body: text/plain; charset=UTF-8\n",
      "Content-Type: text/plain; charset=UTF-8\n",
      "X-DSPAM-Result: Innocent\n",
      "X-DSPAM-Processed: Sat Jan  5 09:14:16 2008\n",
      "X-DSPAM-Confidence: 0.8475\n",
      "X-DSPAM-Probability: 0.0000\n",
      "\n",
      "Details: http://source.sakaiproject.org/viewsvn/?view=rev&rev=39772\n",
      "\n",
      "Author: stephen.marquard@uct.ac.za\n",
      "Date: 2008-01-05 09:12:07 -0500 (Sat, 05 Jan 2008)\n",
      "New Revision: 39772\n",
      "\n",
      "Modified:\n",
      "content/branches/sakai_2-5-x/content-impl/impl/src/java/org/sakaiproject/content/impl/ContentServiceSqlOracle.java\n",
      "content/branches/sakai_2-5-x/content-impl/impl/src/java/org/sakaiproject/content/impl/DbContentService.java\n",
      "Log:\n",
      "SAK-12501 merge to 2-5-x: r39622, r39624:5, r39632:3 (resolve conflict from differing linebreaks for r39622)\n",
      "\n",
      "----------------------\n",
      "This automatic notification message was sent by Sakai Collab (https://collab.sakaiproject.org/portal) from the Source site.\n",
      "You can modify how you receive notifications at My Workspace > Preferences.\n",
      "\n",
      "\n",
      "\n",
      "From louis@media.berkeley.edu Fri Jan  4 18:10:48 2008\n",
      "Return-Path: <postmaster@collab.sakaiproject.org>\n",
      "Received: from murder (mail.umich.edu [141.211.14.97])\n",
      "\t by frankenstein.mail.umich.edu (Cyrus v2.3.8) with LMTPA;\n",
      "\t Fri, 04 Jan 2008 18:10:48 -0500\n",
      "X-Sieve: CMU Sieve 2.3\n",
      "Received: from murder ([unix socket])\n",
      "\t by mail.umich.edu (Cyrus v2.2.12) with LMTPA;\n",
      "\t Fri, 04 Jan 2008 18:10:48 -0500\n",
      "Received: from icestorm.mr.itd.umich.edu (icestorm.mr.itd.umich.edu [141.211.93.149])\n",
      "\tby sleepers.mail.umich.edu () with ESMTP id m04NAbGa029441;\n",
      "\tFri, 4 Jan 2008 18:10:37 -0500\n",
      "Received: FROM paploo.uhi.ac.uk (app1.prod.collab.uhi.ac.uk [194.35.219.184])\n",
      "\tBY icestorm.mr.itd.umich.edu ID 477EBCE3.161BB.4320 ; \n",
      "\t 4 Jan 2008 18:10:31 -0500\n",
      "Received: from paploo.uhi.ac.uk (localhost [127.0.0.1])\n",
      "\tby paploo.uhi.ac.uk (Postfix) with ESMTP id 07969BB706;\n",
      "\tFri,  4 Jan 2008 23:10:33 +0000 (GMT)\n",
      "Message-ID: <200801042308.m04N8v6O008125@nakamura.uits.iupui.edu>\n",
      "Mime-Version: 1.0\n",
      "Content-Transfer-Encoding: 7bit\n",
      "Received: from prod.collab.uhi.ac.uk ([194.35.219.182])\n",
      "          by paploo.uhi.ac.uk (JAMES SMTP Server 2.1.3) with SMTP ID 710\n",
      "          for <source@collab.sakaiproject.org>;\n",
      "          Fri, 4 Jan 2008 23:10:10 +0000 (GMT)\n",
      "Received: from nakamura.uits.iupui.edu (nakamura.uits.iupui.edu [134.68.220.122])\n",
      "\tby shmi.uhi.ac.uk (Postfix) with ESMTP id 4BA2F42F57\n",
      "\tfor <source@collab.sakaiproject.org>; Fri,  4 Jan 2008 23:10:10 +0000 (GMT)\n",
      "Received: from nakamura.uits.iupui.edu (localhost [127.0.0.1])\n",
      "\tby nakamura.uits.iupui.edu (8.12.11.20060308/8.12.11) with ESMTP id m04N8vHG008127\n",
      "\tfor <source@collab.sakaiproject.org>; Fri, 4 Jan 2008 18:08:57 -0500\n",
      "Received: (from apache@localhost)\n",
      "\tby nakamura.uits.iupui.edu (8.12.11.20060308/8.12.11/Submit) id m04N8v6O008125\n",
      "\tfor source@collab.sakaiproject.org; Fri, 4 Jan 2008 18:08:57 -0500\n",
      "Date: Fri, 4 Jan 2008 18:08:57 -0500\n",
      "X-Authentication-Warning: nakamura.uits.iupui.edu: apache set sender to louis@media.berkeley.edu using -f\n",
      "To: source@collab.sakaiproject.org\n",
      "From: louis@media.berkeley.edu\n",
      "Subject: [sakai] svn commit: r39771 - in bspace/site-manage/sakai_2-4-x/site-manage-tool/tool/src: bundle java/org/sakaiproject/site/tool\n",
      "X-Content-Type-Outer-Envelope: text/plain; charset=UTF-8\n",
      "X-Content-Type-Message-Body: text/plain; charset=UTF-8\n",
      "Content-Type: text/plain; charset=UTF-8\n",
      "X-DSPAM-Result: Innocent\n",
      "X-DSPAM-Processed: Fri Jan  4 18:10:48 2008\n",
      "X-DSPAM-Confidence: 0.6178\n",
      "X-DSPAM-Probability: 0.0000\n",
      "\n",
      "Details: http://source.sakaiproject.org/viewsvn/?view=rev&rev=39771\n",
      "\n",
      "Author: louis@media.berkeley.edu\n",
      "Date: 2008-01-04 18:08:50 -0500 (Fri, 04 Jan 2008)\n",
      "New Revision: 39771\n",
      "\n",
      "Modified:\n",
      "bspace/site-manage/sakai_2-4-x/site-manage-tool/tool/src/bundle/sitesetupgeneric.properties\n",
      "bspace/site-manage/sakai_2-4-x/site-manage-tool/tool/src/java/org/sakaiproject/site/tool/SiteAction.java\n",
      "Log:\n",
      "BSP-1415 New (Guest) user Notification\n",
      "\n",
      "----------------------\n",
      "This automatic notification message was sent by Sakai Collab (https://collab.sakaiproject.org/portal) from the Source site.\n",
      "You can modify how you receive notifications at My Workspace > Preferences.\n",
      "\n",
      "\n",
      "\n",
      "From zqian@umich.edu Fri Jan  4 16:10:39 2008\n",
      "Return-Path: <postmaster@collab.sakaiproject.org>\n",
      "Received: from murder (mail.umich.edu [141.211.14.25])\n",
      "\t by frankenstein.mail.umich.edu (Cyrus v2.3.8) with LMTPA;\n",
      "\t Fri, 04 Jan 2008 16:10:39 -0500\n",
      "X-Sieve: CMU Sieve 2.3\n",
      "Received: from murder ([unix socket])\n",
      "\t by mail.umich.edu (Cyrus v2.2.12) with LMTPA;\n",
      "\t Fri, 04 Jan 2008 16:10:39 -0500\n",
      "Received: from ghostbusters.mr.itd.umich.edu (ghostbusters.mr.itd.umich.edu [141.211.93.144])\n",
      "\tby panther.mail.umich.edu () with ESMTP id m04LAcZw014275;\n",
      "\tFri, 4 Jan 2008 16:10:38 -0500\n",
      "Received: FROM paploo.uhi.ac.uk (app1.prod.collab.uhi.ac.uk [194.35.219.184])\n",
      "\tBY ghostbusters.mr.itd.umich.edu ID 477EA0C6.A0214.25480 ; \n",
      "\t 4 Jan 2008 16:10:33 -0500\n",
      "Received: from paploo.uhi.ac.uk (localhost [127.0.0.1])\n",
      "\tby paploo.uhi.ac.uk (Postfix) with ESMTP id C48CDBB490;\n",
      "\tFri,  4 Jan 2008 21:10:31 +0000 (GMT)\n",
      "Message-ID: <200801042109.m04L92hb007923@nakamura.uits.iupui.edu>\n",
      "Mime-Version: 1.0\n",
      "Content-Transfer-Encoding: 7bit\n",
      "Received: from prod.collab.uhi.ac.uk ([194.35.219.182])\n",
      "          by paploo.uhi.ac.uk (JAMES SMTP Server 2.1.3) with SMTP ID 906\n",
      "          for <source@collab.sakaiproject.org>;\n",
      "          Fri, 4 Jan 2008 21:10:18 +0000 (GMT)\n",
      "Received: from nakamura.uits.iupui.edu (nakamura.uits.iupui.edu [134.68.220.122])\n",
      "\tby shmi.uhi.ac.uk (Postfix) with ESMTP id 7D13042F71\n",
      "\tfor <source@collab.sakaiproject.org>; Fri,  4 Jan 2008 21:10:14 +0000 (GMT)\n",
      "Received: from nakamura.uits.iupui.edu (localhost [127.0.0.1])\n",
      "\tby nakamura.uits.iupui.edu (8.12.11.20060308/8.12.11) with ESMTP id m04L927E007925\n",
      "\tfor <source@collab.sakaiproject.org>; Fri, 4 Jan 2008 16:09:02 -0500\n",
      "Received: (from apache@localhost)\n",
      "\tby nakamura.uits.iupui.edu (8.12.11.20060308/8.12.11/Submit) id m04L92hb007923\n",
      "\tfor source@collab.sakaiproject.org; Fri, 4 Jan 2008 16:09:02 -0500\n",
      "Date: Fri, 4 Jan 2008 16:09:02 -0500\n",
      "X-Authentication-Warning: nakamura.uits.iupui.edu: apache set sender to zqian@umich.edu using -f\n",
      "To: source@collab.sakaiproject.org\n",
      "From: zqian@umich.edu\n",
      "Subject: [sakai] svn commit: r39770 - site-manage/branches/sakai_2-5-x/site-manage-tool/tool/src/webapp/vm/sitesetup\n",
      "X-Content-Type-Outer-Envelope: text/plain; charset=UTF-8\n",
      "X-Content-Type-Message-Body: text/plain; charset=UTF-8\n",
      "Content-Type: text/plain; charset=UTF-8\n",
      "X-DSPAM-Result: Innocent\n",
      "X-DSPAM-Processed: Fri Jan  4 16:10:39 2008\n",
      "X-DSPAM-Confidence: 0.6961\n",
      "X-DSPAM-Probability: 0.0000\n",
      "\n",
      "Details: http://source.sakaiproject.org/viewsvn/?view=rev&rev=39770\n",
      "\n",
      "Author: zqian@umich.edu\n",
      "Date: 2008-01-04 16:09:01 -0500 (Fri, 04 Jan 2008)\n",
      "New Revision: 39770\n",
      "\n",
      "Modified:\n",
      "site-manage/branches/sakai_2-5-x/site-manage-tool/tool/src/webapp/vm/sitesetup/chef_site-siteInfo-list.vm\n",
      "Log:\n",
      "merge fix to SAK-9996 into 2-5-x branch: svn merge -r 39687:39688 https://source.sakaiproject.org/svn/site-manage/trunk/\n",
      "\n",
      "----------------------\n",
      "This automatic notification message was sent by Sakai Collab (https://collab.sakaiproject.org/portal) from the Source site.\n",
      "You can modify how you receive notifications at My Workspace > Preferences.\n",
      "\n",
      "\n",
      "\n",
      "From rjlowe@iupui.edu Fri Jan  4 15:46:24 2008\n",
      "Return-Path: <postmaster@collab.sakaiproject.org>\n",
      "Received: from murder (mail.umich.edu [141.211.14.25])\n",
      "\t by frankenstein.mail.umich.edu (Cyrus v2.3.8) with LMTPA;\n",
      "\t Fri, 04 Jan 2008 15:46:24 -0500\n",
      "X-Sieve: CMU Sieve 2.3\n",
      "Received: from murder ([unix socket])\n",
      "\t by mail.umich.edu (Cyrus v2.2.12) with LMTPA;\n",
      "\t Fri, 04 Jan 2008 15:46:24 -0500\n",
      "Received: from dreamcatcher.mr.itd.umich.edu (dreamcatcher.mr.itd.umich.edu [141.211.14.43])\n",
      "\tby panther.mail.umich.edu () with ESMTP id m04KkNbx032077;\n",
      "\tFri, 4 Jan 2008 15:46:23 -0500\n",
      "Received: FROM paploo.uhi.ac.uk (app1.prod.co\n"
     ]
    }
   ],
   "source": [
    "print(type(inp)) \n",
    "print(inp[:10000])"
   ]
  },
  {
   "cell_type": "markdown",
   "id": "9dd5d6ae",
   "metadata": {},
   "source": [
    "## Searching Through a File"
   ]
  },
  {
   "cell_type": "code",
   "execution_count": 15,
   "id": "779938d8",
   "metadata": {},
   "outputs": [
    {
     "name": "stdout",
     "output_type": "stream",
     "text": [
      "27\n"
     ]
    },
    {
     "data": {
      "text/plain": [
       "'From: stephen.marquard@uct.ac.za\\n,From: louis@media.berkeley.edu\\n,From: zqian@umich.edu\\n,From: rjlowe@iupui.edu\\n,From: zqian@umich.edu\\n,From: rjlowe@iupui.edu\\n,From: cwen@iupui.edu\\n,From: cwen@iupui.edu\\n,From: gsilver@umich.edu\\n,From: gsilver@umich.edu\\n,From: zqian@umich.edu\\n,From: gsilver@umich.edu\\n,From: wagnermr@iupui.edu\\n,From: zqian@umich.edu\\n,From: antranig@caret.cam.ac.uk\\n,From: gopal.ramasammycook@gmail.com\\n,From: david.horwitz@uct.ac.za\\n,From: david.horwitz@uct.ac.za\\n,From: david.horwitz@uct.ac.za\\n,From: david.horwitz@uct.ac.za\\n,From: stephen.marquard@uct.ac.za\\n,From: louis@media.berkeley.edu\\n,From: louis@media.berkeley.edu\\n,From: ray@media.berkeley.edu\\n,From: cwen@iupui.edu\\n,From: cwen@iupui.edu\\n,From: cwen@iupui.edu\\n'"
      ]
     },
     "execution_count": 15,
     "metadata": {},
     "output_type": "execute_result"
    }
   ],
   "source": [
    "f1 = open('mbox-short.txt') \n",
    "# count = 0\n",
    "lst = []\n",
    "for line in f1:\n",
    "    if line.startswith('From:'):\n",
    "        lst.append(line[:])\n",
    "#         count +=1\n",
    "#         print(line)\n",
    "print(len(lst))\n",
    "s = ','.join(lst)\n",
    "s"
   ]
  },
  {
   "cell_type": "code",
   "execution_count": 12,
   "id": "05f44b14",
   "metadata": {},
   "outputs": [
    {
     "data": {
      "text/plain": [
       "132045"
      ]
     },
     "execution_count": 12,
     "metadata": {},
     "output_type": "execute_result"
    }
   ],
   "source": [
    "count"
   ]
  },
  {
   "cell_type": "markdown",
   "id": "12b99c62",
   "metadata": {},
   "source": [
    "We could use line slicing to print all but the last character, but a simpler approach is to use the **rstrip** method which strips whitespace from the right side of a string as follows:\n"
   ]
  },
  {
   "cell_type": "code",
   "execution_count": 13,
   "id": "df23c92d",
   "metadata": {},
   "outputs": [
    {
     "data": {
      "text/plain": [
       "'From: cwen@iupui.edu\\n'"
      ]
     },
     "execution_count": 13,
     "metadata": {},
     "output_type": "execute_result"
    }
   ],
   "source": [
    "f2 = open('mbox-short.txt') \n",
    "for line in f2:\n",
    "#     line = line.rstrip()\n",
    "    if line.startswith('From:'):\n",
    "        l = line\n",
    "#         print(line)\n",
    "\n",
    "l"
   ]
  },
  {
   "cell_type": "code",
   "execution_count": 24,
   "id": "ceab8700",
   "metadata": {},
   "outputs": [
    {
     "name": "stdout",
     "output_type": "stream",
     "text": [
      "aaaaaaaa yyyyyyaaaaaaaaaaaa sam\n"
     ]
    }
   ],
   "source": [
    "str99 = 'aaaaaaaa yyyyyyaaaaaaaaaaaa samaaaaaaaaaaaaaa'\n",
    "new_str99 = str99.rstrip('a')\n",
    "print(new_str99)"
   ]
  },
  {
   "cell_type": "code",
   "execution_count": 28,
   "id": "074b11fb",
   "metadata": {},
   "outputs": [
    {
     "name": "stdout",
     "output_type": "stream",
     "text": [
      "From: stephen.marquard@uct.ac.za\n",
      "From: louis@media.berkeley.edu\n",
      "From: zqian@umich.edu\n",
      "From: rjlowe@iupui.edu\n",
      "From: zqian@umich.edu\n",
      "From: rjlowe@iupui.edu\n",
      "From: cwen@iupui.edu\n",
      "From: cwen@iupui.edu\n",
      "From: gsilver@umich.edu\n",
      "From: gsilver@umich.edu\n",
      "From: zqian@umich.edu\n",
      "From: gsilver@umich.edu\n",
      "From: wagnermr@iupui.edu\n",
      "From: zqian@umich.edu\n",
      "From: antranig@caret.cam.ac.uk\n",
      "From: gopal.ramasammycook@gmail.com\n",
      "From: david.horwitz@uct.ac.za\n",
      "From: david.horwitz@uct.ac.za\n",
      "From: david.horwitz@uct.ac.za\n",
      "From: david.horwitz@uct.ac.za\n",
      "From: stephen.marquard@uct.ac.za\n",
      "From: louis@media.berkeley.edu\n",
      "From: louis@media.berkeley.edu\n",
      "From: ray@media.berkeley.edu\n",
      "From: cwen@iupui.edu\n",
      "From: cwen@iupui.edu\n",
      "From: cwen@iupui.edu\n"
     ]
    }
   ],
   "source": [
    "f2 = open('mbox-short.txt') \n",
    "for line in f2:\n",
    "    line = line.rstrip()\n",
    "    if line.startswith('From:'):\n",
    "#         l = line\n",
    "        print(line)\n",
    "# l"
   ]
  },
  {
   "cell_type": "code",
   "execution_count": 29,
   "id": "486cabf9",
   "metadata": {},
   "outputs": [
    {
     "data": {
      "text/plain": [
       "['From: stephen.marquard@uct.ac.za',\n",
       " 'From: louis@media.berkeley.edu',\n",
       " 'From: zqian@umich.edu',\n",
       " 'From: rjlowe@iupui.edu',\n",
       " 'From: zqian@umich.edu',\n",
       " 'From: rjlowe@iupui.edu',\n",
       " 'From: cwen@iupui.edu',\n",
       " 'From: cwen@iupui.edu',\n",
       " 'From: gsilver@umich.edu',\n",
       " 'From: gsilver@umich.edu',\n",
       " 'From: zqian@umich.edu',\n",
       " 'From: gsilver@umich.edu',\n",
       " 'From: wagnermr@iupui.edu',\n",
       " 'From: zqian@umich.edu',\n",
       " 'From: antranig@caret.cam.ac.uk',\n",
       " 'From: gopal.ramasammycook@gmail.com',\n",
       " 'From: david.horwitz@uct.ac.za',\n",
       " 'From: david.horwitz@uct.ac.za',\n",
       " 'From: david.horwitz@uct.ac.za',\n",
       " 'From: david.horwitz@uct.ac.za',\n",
       " 'From: stephen.marquard@uct.ac.za',\n",
       " 'From: louis@media.berkeley.edu',\n",
       " 'From: louis@media.berkeley.edu',\n",
       " 'From: ray@media.berkeley.edu',\n",
       " 'From: cwen@iupui.edu',\n",
       " 'From: cwen@iupui.edu',\n",
       " 'From: cwen@iupui.edu']"
      ]
     },
     "execution_count": 29,
     "metadata": {},
     "output_type": "execute_result"
    }
   ],
   "source": [
    "f3 = open('mbox-short.txt') \n",
    "lst = []\n",
    "for line in f3:\n",
    "#     line = line.rstrip()\n",
    "    if line.startswith('From:'):\n",
    "        lst.append(line[:-1])\n",
    "#         l = line\n",
    "lst"
   ]
  },
  {
   "cell_type": "code",
   "execution_count": 30,
   "id": "5b2421d2",
   "metadata": {},
   "outputs": [
    {
     "name": "stdout",
     "output_type": "stream",
     "text": [
      "From: stephen.marquard@uct.ac.za\n",
      "From: louis@media.berkeley.edu\n",
      "From: zqian@umich.edu\n",
      "From: rjlowe@iupui.edu\n",
      "From: zqian@umich.edu\n",
      "From: rjlowe@iupui.edu\n",
      "From: cwen@iupui.edu\n",
      "From: cwen@iupui.edu\n",
      "From: gsilver@umich.edu\n",
      "From: gsilver@umich.edu\n",
      "From: zqian@umich.edu\n",
      "From: gsilver@umich.edu\n",
      "From: wagnermr@iupui.edu\n",
      "From: zqian@umich.edu\n",
      "From: antranig@caret.cam.ac.uk\n",
      "From: gopal.ramasammycook@gmail.com\n",
      "From: david.horwitz@uct.ac.za\n",
      "From: david.horwitz@uct.ac.za\n",
      "From: david.horwitz@uct.ac.za\n",
      "From: david.horwitz@uct.ac.za\n",
      "From: stephen.marquard@uct.ac.za\n",
      "From: louis@media.berkeley.edu\n",
      "From: louis@media.berkeley.edu\n",
      "From: ray@media.berkeley.edu\n",
      "From: cwen@iupui.edu\n",
      "From: cwen@iupui.edu\n",
      "From: cwen@iupui.edu\n"
     ]
    }
   ],
   "source": [
    "for item in lst:\n",
    "    print(item)"
   ]
  },
  {
   "cell_type": "code",
   "execution_count": null,
   "id": "427c4135",
   "metadata": {},
   "outputs": [],
   "source": []
  },
  {
   "cell_type": "code",
   "execution_count": 31,
   "id": "5a03e081",
   "metadata": {},
   "outputs": [
    {
     "name": "stdout",
     "output_type": "stream",
     "text": [
      "From: stephen.marquard@uct.ac.za\n",
      "From: louis@media.berkeley.edu\n",
      "From: zqian@umich.edu\n",
      "From: rjlowe@iupui.edu\n",
      "From: zqian@umich.edu\n",
      "From: rjlowe@iupui.edu\n",
      "From: cwen@iupui.edu\n",
      "From: cwen@iupui.edu\n",
      "From: gsilver@umich.edu\n",
      "From: gsilver@umich.edu\n",
      "From: zqian@umich.edu\n",
      "From: gsilver@umich.edu\n",
      "From: wagnermr@iupui.edu\n",
      "From: zqian@umich.edu\n",
      "From: antranig@caret.cam.ac.uk\n",
      "From: gopal.ramasammycook@gmail.com\n",
      "From: david.horwitz@uct.ac.za\n",
      "From: david.horwitz@uct.ac.za\n",
      "From: david.horwitz@uct.ac.za\n",
      "From: david.horwitz@uct.ac.za\n",
      "From: stephen.marquard@uct.ac.za\n",
      "From: louis@media.berkeley.edu\n",
      "From: louis@media.berkeley.edu\n",
      "From: ray@media.berkeley.edu\n",
      "From: cwen@iupui.edu\n",
      "From: cwen@iupui.edu\n",
      "From: cwen@iupui.edu\n"
     ]
    }
   ],
   "source": [
    "fhand = open('mbox-short.txt') \n",
    "for line in fhand:\n",
    "    line = line.rstrip()\n",
    "    # Skip 'uninteresting lines'\n",
    "    if not line.startswith('From:'):\n",
    "        continue\n",
    "    # Process our 'interesting' line\n",
    "    print(line)"
   ]
  },
  {
   "cell_type": "markdown",
   "id": "79f9e28b",
   "metadata": {},
   "source": [
    "We can use the find string method to simulate a text editor search that finds lines where the search string is anywhere in the line. Since find looks for an occurrence of a string within another string and either returns the position of the string or -1 if the string was not found, we can write the following loop to show lines which contain the string `@uct.ac.za` (i.e., they come from the University of Cape Town in South Africa):\n",
    "\n"
   ]
  },
  {
   "cell_type": "code",
   "execution_count": 32,
   "id": "96903aa2",
   "metadata": {},
   "outputs": [
    {
     "name": "stdout",
     "output_type": "stream",
     "text": [
      "From stephen.marquard@uct.ac.za Sat Jan  5 09:14:16 2008\n",
      "X-Authentication-Warning: nakamura.uits.iupui.edu: apache set sender to stephen.marquard@uct.ac.za using -f\n",
      "From: stephen.marquard@uct.ac.za\n",
      "Author: stephen.marquard@uct.ac.za\n",
      "From david.horwitz@uct.ac.za Fri Jan  4 07:02:32 2008\n",
      "X-Authentication-Warning: nakamura.uits.iupui.edu: apache set sender to david.horwitz@uct.ac.za using -f\n",
      "From: david.horwitz@uct.ac.za\n",
      "Author: david.horwitz@uct.ac.za\n",
      "r39753 | david.horwitz@uct.ac.za | 2008-01-04 13:05:51 +0200 (Fri, 04 Jan 2008) | 1 line\n",
      "From david.horwitz@uct.ac.za Fri Jan  4 06:08:27 2008\n",
      "X-Authentication-Warning: nakamura.uits.iupui.edu: apache set sender to david.horwitz@uct.ac.za using -f\n",
      "From: david.horwitz@uct.ac.za\n",
      "Author: david.horwitz@uct.ac.za\n",
      "From david.horwitz@uct.ac.za Fri Jan  4 04:49:08 2008\n",
      "X-Authentication-Warning: nakamura.uits.iupui.edu: apache set sender to david.horwitz@uct.ac.za using -f\n",
      "From: david.horwitz@uct.ac.za\n",
      "Author: david.horwitz@uct.ac.za\n",
      "From david.horwitz@uct.ac.za Fri Jan  4 04:33:44 2008\n",
      "X-Authentication-Warning: nakamura.uits.iupui.edu: apache set sender to david.horwitz@uct.ac.za using -f\n",
      "From: david.horwitz@uct.ac.za\n",
      "Author: david.horwitz@uct.ac.za\n",
      "From stephen.marquard@uct.ac.za Fri Jan  4 04:07:34 2008\n",
      "X-Authentication-Warning: nakamura.uits.iupui.edu: apache set sender to stephen.marquard@uct.ac.za using -f\n",
      "From: stephen.marquard@uct.ac.za\n",
      "Author: stephen.marquard@uct.ac.za\n"
     ]
    }
   ],
   "source": [
    "fhand = open('mbox-short.txt') \n",
    "for line in fhand:\n",
    "    line = line.rstrip()\n",
    "    if line.find('@uct.ac.za') >= 0:\n",
    "#         continue \n",
    "        print(line)"
   ]
  },
  {
   "cell_type": "code",
   "execution_count": 34,
   "id": "072a5bf4",
   "metadata": {},
   "outputs": [
    {
     "name": "stdout",
     "output_type": "stream",
     "text": [
      "Enter the file name: mbox.txt\n",
      "Enter your keyword: From\n",
      "There were 3594 subject lines in mbox.txt\n"
     ]
    }
   ],
   "source": [
    "fname = input('Enter the file name: ')\n",
    "key_word = input('Enter your keyword: ')\n",
    "fhand = open(fname)\n",
    "count = 0\n",
    "for line in fhand:\n",
    "    if line.startswith(key_word): \n",
    "        count = count + 1\n",
    "print('There were', count, 'subject lines in', fname)"
   ]
  },
  {
   "cell_type": "code",
   "execution_count": 35,
   "id": "843fccc0",
   "metadata": {},
   "outputs": [
    {
     "name": "stdout",
     "output_type": "stream",
     "text": [
      "Enter the file name: mbox.txt\n",
      "Enter your keyword: from\n",
      "There were 1 subject lines in mbox.txt\n",
      "Enter the file name: done\n"
     ]
    }
   ],
   "source": [
    "# use try except\n",
    "while True:\n",
    "    try:\n",
    "        fname = input('Enter the file name: ')\n",
    "        if fname == 'done': break\n",
    "        key_word = input('Enter your keyword: ')\n",
    "        fhand = open(fname)\n",
    "        count = 0\n",
    "        for line in fhand:\n",
    "            if line.startswith(key_word): \n",
    "                count = count + 1\n",
    "        print('There were', count, 'subject lines in', fname)\n",
    "    except:\n",
    "        print(\"Not a valid file name or subject!\")"
   ]
  },
  {
   "cell_type": "code",
   "execution_count": 36,
   "id": "4f5eb5d0",
   "metadata": {},
   "outputs": [],
   "source": [
    "# convert it to a function\n",
    "def find_keyword(fname,key_word):\n",
    "    lst = list()\n",
    "    count = 0\n",
    "    try:\n",
    "        fhand = open(fname)\n",
    "        i = 0\n",
    "        for line in fhand:\n",
    "            if line.startswith(key_word):\n",
    "                count += 1  \n",
    "                lst.append(i+1)\n",
    "            i += 1\n",
    "#         return count, lst\n",
    "    except:\n",
    "        print('File cannot be opened:', fname)\n",
    "        \n",
    "    return count, lst"
   ]
  },
  {
   "cell_type": "code",
   "execution_count": 43,
   "id": "a14adda5",
   "metadata": {},
   "outputs": [
    {
     "data": {
      "text/plain": [
       "(1, [8325])"
      ]
     },
     "execution_count": 43,
     "metadata": {},
     "output_type": "execute_result"
    }
   ],
   "source": [
    "count, lst = find_keyword('mbox.txt','from')\n",
    "count, lst"
   ]
  },
  {
   "cell_type": "code",
   "execution_count": 44,
   "id": "81fb502c",
   "metadata": {},
   "outputs": [
    {
     "name": "stdout",
     "output_type": "stream",
     "text": [
      "File cannot be opened: mbox1.txt\n"
     ]
    },
    {
     "data": {
      "text/plain": [
       "(0, [])"
      ]
     },
     "execution_count": 44,
     "metadata": {},
     "output_type": "execute_result"
    }
   ],
   "source": [
    "find_keyword('mbox1.txt','From')"
   ]
  },
  {
   "cell_type": "code",
   "execution_count": 45,
   "id": "c1e97576",
   "metadata": {},
   "outputs": [
    {
     "data": {
      "text/plain": [
       "(1, [8325])"
      ]
     },
     "execution_count": 45,
     "metadata": {},
     "output_type": "execute_result"
    }
   ],
   "source": [
    "find_keyword('mbox.txt','from')"
   ]
  },
  {
   "cell_type": "markdown",
   "id": "3e10433c",
   "metadata": {},
   "source": [
    "## Writting a File"
   ]
  },
  {
   "cell_type": "code",
   "execution_count": 47,
   "id": "4dc78b49",
   "metadata": {},
   "outputs": [
    {
     "data": {
      "text/plain": [
       "<_io.TextIOWrapper name='output.txt' mode='w' encoding='UTF-8'>"
      ]
     },
     "execution_count": 47,
     "metadata": {},
     "output_type": "execute_result"
    }
   ],
   "source": [
    "fout = open('output.txt', 'w')\n",
    "fout"
   ]
  },
  {
   "cell_type": "code",
   "execution_count": 48,
   "id": "bee05cb9",
   "metadata": {},
   "outputs": [
    {
     "data": {
      "text/plain": [
       "32"
      ]
     },
     "execution_count": 48,
     "metadata": {},
     "output_type": "execute_result"
    }
   ],
   "source": [
    "line1 = \"Hey friends!\\nThis is Amin Oroji from Prata Technology\\n\"\n",
    "line2 = \"Wow, such an interesting class!\\n\"\n",
    "fout.write(line1)\n",
    "fout.write(line2)"
   ]
  },
  {
   "cell_type": "code",
   "execution_count": 49,
   "id": "bed94470",
   "metadata": {},
   "outputs": [],
   "source": [
    "fout.close()"
   ]
  },
  {
   "cell_type": "code",
   "execution_count": 50,
   "id": "ce8891de",
   "metadata": {},
   "outputs": [],
   "source": [
    "ff = open('output.txt')"
   ]
  },
  {
   "cell_type": "code",
   "execution_count": 51,
   "id": "c2f97d7d",
   "metadata": {},
   "outputs": [
    {
     "name": "stdout",
     "output_type": "stream",
     "text": [
      "Hey friends!\n",
      "This is Amin Oroji from Prata Technology\n",
      "Wow, such an interesting class!\n"
     ]
    }
   ],
   "source": [
    "for line in ff:\n",
    "    line = line.rstrip()\n",
    "    print(line)"
   ]
  },
  {
   "cell_type": "markdown",
   "id": "371d046e",
   "metadata": {},
   "source": [
    "### Python’s “with open(…) as …” Pattern\n",
    "Reading and writing data to files using Python is pretty straightforward. To do this, you must first open files in the appropriate mode."
   ]
  },
  {
   "cell_type": "code",
   "execution_count": 52,
   "id": "4590e333",
   "metadata": {},
   "outputs": [
    {
     "name": "stdout",
     "output_type": "stream",
     "text": [
      "['From louis@media.berkeley.edu Fri Jan  4 18:10:48 2008', 'X-Authentication-Warning: nakamura.uits.iupui.edu: apache set sender to louis@media.berkeley.edu using -f', 'From: louis@media.berkeley.edu', 'Author: louis@media.berkeley.edu', 'From louis@media.berkeley.edu Thu Jan  3 19:51:21 2008', 'X-Authentication-Warning: nakamura.uits.iupui.edu: apache set sender to louis@media.berkeley.edu using -f', 'From: louis@media.berkeley.edu', 'Author: louis@media.berkeley.edu', 'From louis@media.berkeley.edu Thu Jan  3 17:18:23 2008', 'X-Authentication-Warning: nakamura.uits.iupui.edu: apache set sender to louis@media.berkeley.edu using -f', 'From: louis@media.berkeley.edu', 'Author: louis@media.berkeley.edu', 'From ray@media.berkeley.edu Thu Jan  3 17:07:00 2008', 'X-Authentication-Warning: nakamura.uits.iupui.edu: apache set sender to ray@media.berkeley.edu using -f', 'From: ray@media.berkeley.edu', 'Author: ray@media.berkeley.edu']\n"
     ]
    }
   ],
   "source": [
    "lst = list()\n",
    "with open('mbox-short.txt') as f:\n",
    "    for line in f:\n",
    "        line = line.rstrip()\n",
    "        if line.find('@media')>= 0:\n",
    "            lst.append(line)\n",
    "        \n",
    "print(lst)"
   ]
  },
  {
   "cell_type": "markdown",
   "id": "cc69bbc0",
   "metadata": {},
   "source": [
    "## OS"
   ]
  },
  {
   "cell_type": "code",
   "execution_count": 1,
   "id": "92c16033",
   "metadata": {},
   "outputs": [],
   "source": [
    "### Use os to handle files\n",
    "import os\n",
    "entries = os.listdir('./')"
   ]
  },
  {
   "cell_type": "code",
   "execution_count": 2,
   "id": "5de7e666",
   "metadata": {},
   "outputs": [
    {
     "data": {
      "text/plain": [
       "['CLD_CONTINUED',\n",
       " 'CLD_DUMPED',\n",
       " 'CLD_EXITED',\n",
       " 'CLD_KILLED',\n",
       " 'CLD_STOPPED',\n",
       " 'CLD_TRAPPED',\n",
       " 'DirEntry',\n",
       " 'EX_CANTCREAT',\n",
       " 'EX_CONFIG',\n",
       " 'EX_DATAERR',\n",
       " 'EX_IOERR',\n",
       " 'EX_NOHOST',\n",
       " 'EX_NOINPUT',\n",
       " 'EX_NOPERM',\n",
       " 'EX_NOUSER',\n",
       " 'EX_OK',\n",
       " 'EX_OSERR',\n",
       " 'EX_OSFILE',\n",
       " 'EX_PROTOCOL',\n",
       " 'EX_SOFTWARE',\n",
       " 'EX_TEMPFAIL',\n",
       " 'EX_UNAVAILABLE',\n",
       " 'EX_USAGE',\n",
       " 'F_LOCK',\n",
       " 'F_OK',\n",
       " 'F_TEST',\n",
       " 'F_TLOCK',\n",
       " 'F_ULOCK',\n",
       " 'GenericAlias',\n",
       " 'Mapping',\n",
       " 'MutableMapping',\n",
       " 'NGROUPS_MAX',\n",
       " 'O_ACCMODE',\n",
       " 'O_APPEND',\n",
       " 'O_ASYNC',\n",
       " 'O_CLOEXEC',\n",
       " 'O_CREAT',\n",
       " 'O_DIRECTORY',\n",
       " 'O_DSYNC',\n",
       " 'O_EVTONLY',\n",
       " 'O_EXCL',\n",
       " 'O_EXLOCK',\n",
       " 'O_FSYNC',\n",
       " 'O_NDELAY',\n",
       " 'O_NOCTTY',\n",
       " 'O_NOFOLLOW',\n",
       " 'O_NOFOLLOW_ANY',\n",
       " 'O_NONBLOCK',\n",
       " 'O_RDONLY',\n",
       " 'O_RDWR',\n",
       " 'O_SHLOCK',\n",
       " 'O_SYMLINK',\n",
       " 'O_SYNC',\n",
       " 'O_TRUNC',\n",
       " 'O_WRONLY',\n",
       " 'POSIX_SPAWN_CLOSE',\n",
       " 'POSIX_SPAWN_DUP2',\n",
       " 'POSIX_SPAWN_OPEN',\n",
       " 'PRIO_PGRP',\n",
       " 'PRIO_PROCESS',\n",
       " 'PRIO_USER',\n",
       " 'P_ALL',\n",
       " 'P_NOWAIT',\n",
       " 'P_NOWAITO',\n",
       " 'P_PGID',\n",
       " 'P_PID',\n",
       " 'P_WAIT',\n",
       " 'PathLike',\n",
       " 'RTLD_GLOBAL',\n",
       " 'RTLD_LAZY',\n",
       " 'RTLD_LOCAL',\n",
       " 'RTLD_NODELETE',\n",
       " 'RTLD_NOLOAD',\n",
       " 'RTLD_NOW',\n",
       " 'R_OK',\n",
       " 'SCHED_FIFO',\n",
       " 'SCHED_OTHER',\n",
       " 'SCHED_RR',\n",
       " 'SEEK_CUR',\n",
       " 'SEEK_DATA',\n",
       " 'SEEK_END',\n",
       " 'SEEK_HOLE',\n",
       " 'SEEK_SET',\n",
       " 'ST_NOSUID',\n",
       " 'ST_RDONLY',\n",
       " 'TMP_MAX',\n",
       " 'WCONTINUED',\n",
       " 'WCOREDUMP',\n",
       " 'WEXITED',\n",
       " 'WEXITSTATUS',\n",
       " 'WIFCONTINUED',\n",
       " 'WIFEXITED',\n",
       " 'WIFSIGNALED',\n",
       " 'WIFSTOPPED',\n",
       " 'WNOHANG',\n",
       " 'WNOWAIT',\n",
       " 'WSTOPPED',\n",
       " 'WSTOPSIG',\n",
       " 'WTERMSIG',\n",
       " 'WUNTRACED',\n",
       " 'W_OK',\n",
       " 'X_OK',\n",
       " '_Environ',\n",
       " '__all__',\n",
       " '__builtins__',\n",
       " '__cached__',\n",
       " '__doc__',\n",
       " '__file__',\n",
       " '__loader__',\n",
       " '__name__',\n",
       " '__package__',\n",
       " '__spec__',\n",
       " '_check_methods',\n",
       " '_execvpe',\n",
       " '_exists',\n",
       " '_exit',\n",
       " '_fspath',\n",
       " '_fwalk',\n",
       " '_get_exports_list',\n",
       " '_spawnvef',\n",
       " '_walk',\n",
       " '_wrap_close',\n",
       " 'abc',\n",
       " 'abort',\n",
       " 'access',\n",
       " 'altsep',\n",
       " 'chdir',\n",
       " 'chflags',\n",
       " 'chmod',\n",
       " 'chown',\n",
       " 'chroot',\n",
       " 'close',\n",
       " 'closerange',\n",
       " 'confstr',\n",
       " 'confstr_names',\n",
       " 'cpu_count',\n",
       " 'ctermid',\n",
       " 'curdir',\n",
       " 'defpath',\n",
       " 'device_encoding',\n",
       " 'devnull',\n",
       " 'dup',\n",
       " 'dup2',\n",
       " 'environ',\n",
       " 'environb',\n",
       " 'error',\n",
       " 'execl',\n",
       " 'execle',\n",
       " 'execlp',\n",
       " 'execlpe',\n",
       " 'execv',\n",
       " 'execve',\n",
       " 'execvp',\n",
       " 'execvpe',\n",
       " 'extsep',\n",
       " 'fchdir',\n",
       " 'fchmod',\n",
       " 'fchown',\n",
       " 'fdopen',\n",
       " 'fork',\n",
       " 'forkpty',\n",
       " 'fpathconf',\n",
       " 'fsdecode',\n",
       " 'fsencode',\n",
       " 'fspath',\n",
       " 'fstat',\n",
       " 'fstatvfs',\n",
       " 'fsync',\n",
       " 'ftruncate',\n",
       " 'fwalk',\n",
       " 'get_blocking',\n",
       " 'get_exec_path',\n",
       " 'get_inheritable',\n",
       " 'get_terminal_size',\n",
       " 'getcwd',\n",
       " 'getcwdb',\n",
       " 'getegid',\n",
       " 'getenv',\n",
       " 'getenvb',\n",
       " 'geteuid',\n",
       " 'getgid',\n",
       " 'getgrouplist',\n",
       " 'getgroups',\n",
       " 'getloadavg',\n",
       " 'getlogin',\n",
       " 'getpgid',\n",
       " 'getpgrp',\n",
       " 'getpid',\n",
       " 'getppid',\n",
       " 'getpriority',\n",
       " 'getsid',\n",
       " 'getuid',\n",
       " 'initgroups',\n",
       " 'isatty',\n",
       " 'kill',\n",
       " 'killpg',\n",
       " 'lchflags',\n",
       " 'lchmod',\n",
       " 'lchown',\n",
       " 'linesep',\n",
       " 'link',\n",
       " 'listdir',\n",
       " 'lockf',\n",
       " 'lseek',\n",
       " 'lstat',\n",
       " 'major',\n",
       " 'makedev',\n",
       " 'makedirs',\n",
       " 'minor',\n",
       " 'mkdir',\n",
       " 'mkfifo',\n",
       " 'mknod',\n",
       " 'name',\n",
       " 'nice',\n",
       " 'open',\n",
       " 'openpty',\n",
       " 'pardir',\n",
       " 'path',\n",
       " 'pathconf',\n",
       " 'pathconf_names',\n",
       " 'pathsep',\n",
       " 'pipe',\n",
       " 'popen',\n",
       " 'posix_spawn',\n",
       " 'posix_spawnp',\n",
       " 'pread',\n",
       " 'preadv',\n",
       " 'putenv',\n",
       " 'pwrite',\n",
       " 'pwritev',\n",
       " 'read',\n",
       " 'readlink',\n",
       " 'readv',\n",
       " 'register_at_fork',\n",
       " 'remove',\n",
       " 'removedirs',\n",
       " 'rename',\n",
       " 'renames',\n",
       " 'replace',\n",
       " 'rmdir',\n",
       " 'scandir',\n",
       " 'sched_get_priority_max',\n",
       " 'sched_get_priority_min',\n",
       " 'sched_yield',\n",
       " 'sendfile',\n",
       " 'sep',\n",
       " 'set_blocking',\n",
       " 'set_inheritable',\n",
       " 'setegid',\n",
       " 'seteuid',\n",
       " 'setgid',\n",
       " 'setgroups',\n",
       " 'setpgid',\n",
       " 'setpgrp',\n",
       " 'setpriority',\n",
       " 'setregid',\n",
       " 'setreuid',\n",
       " 'setsid',\n",
       " 'setuid',\n",
       " 'spawnl',\n",
       " 'spawnle',\n",
       " 'spawnlp',\n",
       " 'spawnlpe',\n",
       " 'spawnv',\n",
       " 'spawnve',\n",
       " 'spawnvp',\n",
       " 'spawnvpe',\n",
       " 'st',\n",
       " 'stat',\n",
       " 'stat_result',\n",
       " 'statvfs',\n",
       " 'statvfs_result',\n",
       " 'strerror',\n",
       " 'supports_bytes_environ',\n",
       " 'supports_dir_fd',\n",
       " 'supports_effective_ids',\n",
       " 'supports_fd',\n",
       " 'supports_follow_symlinks',\n",
       " 'symlink',\n",
       " 'sync',\n",
       " 'sys',\n",
       " 'sysconf',\n",
       " 'sysconf_names',\n",
       " 'system',\n",
       " 'tcgetpgrp',\n",
       " 'tcsetpgrp',\n",
       " 'terminal_size',\n",
       " 'times',\n",
       " 'times_result',\n",
       " 'truncate',\n",
       " 'ttyname',\n",
       " 'umask',\n",
       " 'uname',\n",
       " 'uname_result',\n",
       " 'unlink',\n",
       " 'unsetenv',\n",
       " 'urandom',\n",
       " 'utime',\n",
       " 'wait',\n",
       " 'wait3',\n",
       " 'wait4',\n",
       " 'waitpid',\n",
       " 'waitstatus_to_exitcode',\n",
       " 'walk',\n",
       " 'write',\n",
       " 'writev']"
      ]
     },
     "execution_count": 2,
     "metadata": {},
     "output_type": "execute_result"
    }
   ],
   "source": [
    "dir(os)"
   ]
  },
  {
   "cell_type": "code",
   "execution_count": 3,
   "id": "68c66a5b",
   "metadata": {},
   "outputs": [
    {
     "data": {
      "text/plain": [
       "['Python_CH3.ipynb',\n",
       " 'Python_CH14.ipynb',\n",
       " 'Python_CH16.ipynb',\n",
       " 'Python_CH1.ipynb',\n",
       " 'Haar',\n",
       " 'Python_CH5.ipynb',\n",
       " '.DS_Store',\n",
       " 'Python_CH12.ipynb',\n",
       " '0- Think_Python, 2nd Edition.pdf',\n",
       " 'Learn Python the right way.pdf',\n",
       " 'Python_CH10.ipynb',\n",
       " 'Python_CH7.ipynb',\n",
       " 'images',\n",
       " 'mbox-short.txt',\n",
       " 'Python_CH17.ipynb',\n",
       " 'Python_CH2.ipynb',\n",
       " 'Python_CH15.ipynb',\n",
       " 'Python_CH11.ipynb',\n",
       " 'Python_CH6.ipynb',\n",
       " 'mbox.txt',\n",
       " 'Python_CH4.ipynb',\n",
       " 'Python_CH13.ipynb',\n",
       " 'Python_CH8.ipynb',\n",
       " 'face_detection.py',\n",
       " 'Practice.ipynb',\n",
       " 'Top Python Interview Questions (2021) - InterviewBit.pdf',\n",
       " '.ipynb_checkpoints',\n",
       " 'Python for Everybody.pdf',\n",
       " 'Python_CH9.ipynb',\n",
       " 'output.txt',\n",
       " 'Python_CH18.ipynb']"
      ]
     },
     "execution_count": 3,
     "metadata": {},
     "output_type": "execute_result"
    }
   ],
   "source": [
    "entries"
   ]
  },
  {
   "cell_type": "code",
   "execution_count": 27,
   "id": "d8ed84ce",
   "metadata": {},
   "outputs": [
    {
     "name": "stdout",
     "output_type": "stream",
     "text": [
      "Python_CH3.ipynb\n",
      "Python_CH14.ipynb\n",
      "Python_CH16.ipynb\n",
      "Python_CH1.ipynb\n",
      "Haar\n",
      "Python_CH5.ipynb\n",
      ".DS_Store\n",
      "Python_CH12.ipynb\n",
      "0- Think_Python, 2nd Edition.pdf\n",
      "Learn Python the right way.pdf\n",
      "Python_CH10.ipynb\n",
      "Python_CH7.ipynb\n",
      "images\n",
      "mbox-short.txt\n",
      "Python_CH17.ipynb\n",
      "Python_CH2.ipynb\n",
      "Python_CH15.ipynb\n",
      "Python_CH11.ipynb\n",
      "Python_CH6.ipynb\n",
      "mbox.txt\n",
      "Python_CH4.ipynb\n",
      "Python_CH13.ipynb\n",
      "Python_CH8.ipynb\n",
      "face_detection.py\n",
      "Practice.ipynb\n",
      "Top Python Interview Questions (2021) - InterviewBit.pdf\n",
      ".ipynb_checkpoints\n",
      "Python for Everybody.pdf\n",
      "Python_CH9.ipynb\n",
      "output.txt\n",
      "Python_CH18.ipynb\n"
     ]
    }
   ],
   "source": [
    "# The ScandirIterator points to all the entries in the current directory.\n",
    "with os.scandir('./') as entries:\n",
    "    for entry in entries:\n",
    "        print(entry.name)"
   ]
  },
  {
   "cell_type": "code",
   "execution_count": 10,
   "id": "ed4d1117",
   "metadata": {},
   "outputs": [
    {
     "name": "stdout",
     "output_type": "stream",
     "text": [
      "Python_CH3.ipynb\n",
      "Python_CH14.ipynb\n",
      "Python_CH16.ipynb\n",
      "Python_CH1.ipynb\n",
      "Haar\n",
      "Python_CH5.ipynb\n",
      ".DS_Store\n",
      "Python_CH12.ipynb\n",
      "0- Think_Python, 2nd Edition.pdf\n",
      "Learn Python the right way.pdf\n",
      "Python_CH10.ipynb\n",
      "Python_CH7.ipynb\n",
      "images\n",
      "mbox-short.txt\n",
      "Python_CH17.ipynb\n",
      "Python_CH2.ipynb\n",
      "Python_CH15.ipynb\n",
      "Python_CH11.ipynb\n",
      "Python_CH6.ipynb\n",
      "mbox.txt\n",
      "Python_CH4.ipynb\n",
      "Python_CH13.ipynb\n",
      "Python_CH8.ipynb\n",
      "face_detection.py\n",
      "Practice.ipynb\n",
      "Top Python Interview Questions (2021) - InterviewBit.pdf\n",
      ".ipynb_checkpoints\n",
      "Python for Everybody.pdf\n",
      "Python_CH9.ipynb\n",
      "output.txt\n",
      "Python_CH18.ipynb\n"
     ]
    }
   ],
   "source": [
    "from pathlib import Path\n",
    "\n",
    "entries = Path('./')\n",
    "for entry in entries.iterdir():\n",
    "    print(entry)"
   ]
  },
  {
   "cell_type": "markdown",
   "id": "20b514ba",
   "metadata": {},
   "source": [
    "Function    | Description\n",
    "------------|---------------\n",
    "os.listdir() | Returns a list of all files and folders in a directory\n",
    "os.scandir()| Returns an iterator of all the objects in a directory including file attribute information\n",
    "pathlib.Path.iterdir() | Returns an iterator of all the objects in a directory including file attribute information"
   ]
  },
  {
   "cell_type": "code",
   "execution_count": 11,
   "id": "caf5ab42",
   "metadata": {},
   "outputs": [
    {
     "name": "stdout",
     "output_type": "stream",
     "text": [
      "Python_CH3.ipynb\n",
      "Python_CH14.ipynb\n",
      "Python_CH16.ipynb\n",
      "Python_CH1.ipynb\n",
      "Python_CH5.ipynb\n",
      ".DS_Store\n",
      "Python_CH12.ipynb\n",
      "0- Think_Python, 2nd Edition.pdf\n",
      "Learn Python the right way.pdf\n",
      "Python_CH10.ipynb\n",
      "Python_CH7.ipynb\n",
      "mbox-short.txt\n",
      "Python_CH17.ipynb\n",
      "Python_CH2.ipynb\n",
      "Python_CH15.ipynb\n",
      "Python_CH11.ipynb\n",
      "Python_CH6.ipynb\n",
      "mbox.txt\n",
      "Python_CH4.ipynb\n",
      "Python_CH13.ipynb\n",
      "Python_CH8.ipynb\n",
      "face_detection.py\n",
      "Practice.ipynb\n",
      "Top Python Interview Questions (2021) - InterviewBit.pdf\n",
      "Python for Everybody.pdf\n",
      "Python_CH9.ipynb\n",
      "output.txt\n",
      "Python_CH18.ipynb\n"
     ]
    }
   ],
   "source": [
    "with os.scandir('./') as entries:\n",
    "    for entry in entries:\n",
    "        if entry.is_file():\n",
    "            print(entry.name)"
   ]
  },
  {
   "cell_type": "code",
   "execution_count": 12,
   "id": "802a1e3e",
   "metadata": {},
   "outputs": [
    {
     "name": "stdout",
     "output_type": "stream",
     "text": [
      "Python_CH3.ipynb\n",
      "Python_CH14.ipynb\n",
      "Python_CH16.ipynb\n",
      "Python_CH1.ipynb\n",
      "Python_CH5.ipynb\n",
      ".DS_Store\n",
      "Python_CH12.ipynb\n",
      "0- Think_Python, 2nd Edition.pdf\n",
      "Learn Python the right way.pdf\n",
      "Python_CH10.ipynb\n",
      "Python_CH7.ipynb\n",
      "mbox-short.txt\n",
      "Python_CH17.ipynb\n",
      "Python_CH2.ipynb\n",
      "Python_CH15.ipynb\n",
      "Python_CH11.ipynb\n",
      "Python_CH6.ipynb\n",
      "mbox.txt\n",
      "Python_CH4.ipynb\n",
      "Python_CH13.ipynb\n",
      "Python_CH8.ipynb\n",
      "face_detection.py\n",
      "Practice.ipynb\n",
      "Top Python Interview Questions (2021) - InterviewBit.pdf\n",
      "Python for Everybody.pdf\n",
      "Python_CH9.ipynb\n",
      "output.txt\n",
      "Python_CH18.ipynb\n"
     ]
    }
   ],
   "source": [
    "from pathlib import Path\n",
    "\n",
    "basepath = Path('./')\n",
    "files_in_basepath = basepath.iterdir()\n",
    "for item in files_in_basepath:\n",
    "    if item.is_file():\n",
    "        print(item.name)"
   ]
  },
  {
   "cell_type": "code",
   "execution_count": 31,
   "id": "8d3c81d0",
   "metadata": {},
   "outputs": [
    {
     "name": "stdout",
     "output_type": "stream",
     "text": [
      "Python_CH3.ipynb\n",
      "Python_CH14.ipynb\n",
      "Python_CH16.ipynb\n",
      "Python_CH1.ipynb\n",
      "Python_CH5.ipynb\n",
      ".DS_Store\n",
      "Python_CH12.ipynb\n",
      "0- Think_Python, 2nd Edition.pdf\n",
      "Learn Python the right way.pdf\n",
      "Python_CH10.ipynb\n",
      "Python_CH7.ipynb\n",
      "mbox-short.txt\n",
      "Python_CH17.ipynb\n",
      "Python_CH2.ipynb\n",
      "Python_CH15.ipynb\n",
      "Python_CH11.ipynb\n",
      "Python_CH6.ipynb\n",
      "mbox.txt\n",
      "Python_CH4.ipynb\n",
      "Python_CH13.ipynb\n",
      "Python_CH8.ipynb\n",
      "face_detection.py\n",
      "Practice.ipynb\n",
      "Top Python Interview Questions (2021) - InterviewBit.pdf\n",
      "Python for Everybody.pdf\n",
      "Python_CH9.ipynb\n",
      "output.txt\n",
      "Python_CH18.ipynb\n"
     ]
    }
   ],
   "source": [
    "from pathlib import Path\n",
    "\n",
    "# List all files in directory using pathlib\n",
    "basepath = Path('./')\n",
    "files_in_basepath = (entry for entry in basepath.iterdir() if entry.is_file())\n",
    "for item in files_in_basepath:\n",
    "    print(item.name)"
   ]
  },
  {
   "cell_type": "code",
   "execution_count": 32,
   "id": "cba526cf",
   "metadata": {},
   "outputs": [
    {
     "name": "stdout",
     "output_type": "stream",
     "text": [
      "home\n",
      "usr\n",
      "bin\n",
      "sbin\n",
      "etc\n",
      "var\n",
      "Library\n",
      "System\n",
      "private\n",
      "Users\n",
      "Applications\n",
      "opt\n",
      "dev\n",
      "Volumes\n",
      "tmp\n",
      "cores\n"
     ]
    }
   ],
   "source": [
    "import os\n",
    "\n",
    "# List all subdirectories using os.listdir except those started with .\n",
    "basepath = '../../../'\n",
    "for entry in os.listdir(basepath):\n",
    "#     print(os.path.join(basepath, entry))\n",
    "    if (os.path.isdir(os.path.join(basepath, entry)) and not(entry.startswith('.'))):\n",
    "        print(entry)"
   ]
  },
  {
   "cell_type": "code",
   "execution_count": 25,
   "id": "9808eeee",
   "metadata": {},
   "outputs": [
    {
     "name": "stdout",
     "output_type": "stream",
     "text": [
      "Found directory: ['Haar', 'images', '.ipynb_checkpoints']\n",
      "Python_CH3.ipynb\n",
      "Python_CH14.ipynb\n",
      "Python_CH16.ipynb\n",
      "Python_CH1.ipynb\n",
      "Python_CH5.ipynb\n",
      "Python_CH12.ipynb\n",
      "0- Think_Python, 2nd Edition.pdf\n",
      "Learn Python the right way.pdf\n",
      "Python_CH10.ipynb\n",
      "Python_CH7.ipynb\n",
      "mbox-short.txt\n",
      "Python_CH17.ipynb\n",
      "Python_CH2.ipynb\n",
      "Python_CH15.ipynb\n",
      "Python_CH11.ipynb\n",
      "Python_CH6.ipynb\n",
      "mbox.txt\n",
      "Python_CH4.ipynb\n",
      "Python_CH13.ipynb\n",
      "Python_CH8.ipynb\n",
      "face_detection.py\n",
      "Practice.ipynb\n",
      "Top Python Interview Questions (2021) - InterviewBit.pdf\n",
      "Python for Everybody.pdf\n",
      "Python_CH9.ipynb\n",
      "output.txt\n",
      "Python_CH18.ipynb\n",
      "Found directory: []\n",
      "haarcascade_upperbody.xml\n",
      "haarcascade_frontalcatface_extended.xml\n",
      "haarcascade_profileface.xml\n",
      "haarcascade_frontalcatface.xml\n",
      "haarcascade_frontalface_alt2.xml\n",
      "haarcascade_eye.xml\n",
      "haarcascade_lefteye_2splits.xml\n",
      "haarcascade_frontalface_alt_tree.xml\n",
      "haarcascade_licence_plate_rus_16stages.xml\n",
      "haarcascade_righteye_2splits.xml\n",
      "haarcascade_frontalface_alt.xml\n",
      "haarcascade_lowerbody.xml\n",
      "haarcascade_russian_plate_number.xml\n",
      "haarcascade_frontalface_default.xml\n",
      "haarcascade_smile.xml\n",
      "haarcascade_fullbody.xml\n",
      "haarcascade_eye_tree_eyeglasses.xml\n",
      "Found directory: []\n",
      "group.png\n",
      "2.jpeg\n",
      "1.jpg\n",
      "3.jpeg\n",
      "Found directory: []\n",
      "Python_CH1-checkpoint.ipynb\n",
      "Python_CH10-checkpoint.ipynb\n",
      "Python_CH5-checkpoint.ipynb\n",
      "Python_CH11-checkpoint.ipynb\n",
      "Python_CH4-checkpoint.ipynb\n",
      "Python_CH8-checkpoint.ipynb\n",
      "Python_CH3-checkpoint.ipynb\n",
      "Python_CH7-checkpoint.ipynb\n",
      "Python_CH9-checkpoint.ipynb\n",
      "Python_CH2-checkpoint.ipynb\n",
      "Python_CH6-checkpoint.ipynb\n"
     ]
    }
   ],
   "source": [
    "# Walking a directory tree and printing the names of the directories and files\n",
    "for dirpath, dirnames, files in os.walk('.'):\n",
    "    print(f'Found directory: {dirnames}')\n",
    "    for file_name in files:\n",
    "        if not(file_name.startswith('.')):\n",
    "            print(file_name)"
   ]
  },
  {
   "cell_type": "markdown",
   "id": "3d3b4154",
   "metadata": {},
   "source": [
    "## EXE:\n",
    "1. Write a program to read through a file and print the contents of the file (line by line) all in upper case."
   ]
  },
  {
   "cell_type": "code",
   "execution_count": null,
   "id": "c25c1b6f",
   "metadata": {},
   "outputs": [],
   "source": [
    "fhand = open('mbox-short.txt')\n",
    "for line in fhand:                      # Handles one line at a time\n",
    "    shout = line.rstrip().upper()       # Removes newline and capitalizes\n",
    "    print(shout)"
   ]
  },
  {
   "cell_type": "code",
   "execution_count": null,
   "id": "d141d0f8",
   "metadata": {},
   "outputs": [],
   "source": []
  }
 ],
 "metadata": {
  "kernelspec": {
   "display_name": "Python 3 (ipykernel)",
   "language": "python",
   "name": "python3"
  },
  "language_info": {
   "codemirror_mode": {
    "name": "ipython",
    "version": 3
   },
   "file_extension": ".py",
   "mimetype": "text/x-python",
   "name": "python",
   "nbconvert_exporter": "python",
   "pygments_lexer": "ipython3",
   "version": "3.10.9"
  }
 },
 "nbformat": 4,
 "nbformat_minor": 5
}
